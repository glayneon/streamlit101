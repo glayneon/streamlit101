{
 "cells": [
  {
   "cell_type": "code",
   "execution_count": 1,
   "id": "0109c18a-a71d-4978-aba0-1edad2f2ff21",
   "metadata": {},
   "outputs": [],
   "source": [
    "import json"
   ]
  },
  {
   "cell_type": "code",
   "execution_count": 2,
   "id": "8a7873d7-b780-4f41-9530-2f5dabd59c98",
   "metadata": {},
   "outputs": [],
   "source": [
    "json_data = '''\n",
    "{\n",
    "    \"name\": \"Alice\",\n",
    "    \"age\": 20,\n",
    "    \"city\": \"London\",\n",
    "    \"is_student\": false,\n",
    "    \"courses\": [\"Math\", \"Computer Science\"],\n",
    "    \"address\": {\n",
    "        \"street\": \"123 Main St\",\n",
    "        \"zip\": \"A10001\"\n",
    "    }\n",
    "}\n",
    "'''"
   ]
  },
  {
   "cell_type": "code",
   "execution_count": 3,
   "id": "a0c4f7c1-7e3c-4290-a279-e1fff51dc1c4",
   "metadata": {},
   "outputs": [
    {
     "data": {
      "text/plain": [
       "dict"
      ]
     },
     "execution_count": 3,
     "metadata": {},
     "output_type": "execute_result"
    }
   ],
   "source": [
    "data = json.loads(json_data)\n",
    "type(data)"
   ]
  },
  {
   "cell_type": "code",
   "execution_count": 5,
   "id": "34224111-6349-4e66-bd79-a908e32d3c79",
   "metadata": {},
   "outputs": [
    {
     "name": "stdout",
     "output_type": "stream",
     "text": [
      "Parsed JSON data: {'name': 'Alice', 'age': 20, 'city': 'London', 'is_student': False, 'courses': ['Math', 'Computer Science'], 'address': {'street': '123 Main St', 'zip': 'A10001'}}\n"
     ]
    }
   ],
   "source": [
    "print(f\"Parsed JSON data: {data}\")"
   ]
  },
  {
   "cell_type": "code",
   "execution_count": 6,
   "id": "b3c3c217-879b-4697-bd81-e8103021c0f2",
   "metadata": {},
   "outputs": [
    {
     "name": "stdout",
     "output_type": "stream",
     "text": [
      "20\n"
     ]
    }
   ],
   "source": [
    "print(data['age'])"
   ]
  },
  {
   "cell_type": "code",
   "execution_count": 9,
   "id": "8092b438-d1f0-432c-acbb-7a7baf59e6f2",
   "metadata": {},
   "outputs": [
    {
     "name": "stdout",
     "output_type": "stream",
     "text": [
      "{\n",
      "    \"name\": \"Alice\",\n",
      "    \"age\": 31,\n",
      "    \"city\": \"London\",\n",
      "    \"is_student\": false,\n",
      "    \"courses\": [\n",
      "        \"Math\",\n",
      "        \"Computer Science\"\n",
      "    ],\n",
      "    \"address\": {\n",
      "        \"street\": \"123 Main St\",\n",
      "        \"zip\": \"A10001\"\n",
      "    }\n",
      "}\n"
     ]
    }
   ],
   "source": [
    "data['age'] = 31\n",
    "json_string = json.dumps(data,  indent=4)\n",
    "print(json_string)"
   ]
  },
  {
   "cell_type": "code",
   "execution_count": 10,
   "id": "ed1e11a8-c1d8-408f-87cd-01c0e007cfa4",
   "metadata": {},
   "outputs": [],
   "source": [
    "with open('data.json', 'w') as json_f:\n",
    "    json.dump(data, json_f, indent=4)"
   ]
  },
  {
   "cell_type": "code",
   "execution_count": 12,
   "id": "931b52d3-4fde-4627-8e4e-0bcc84a6e2b7",
   "metadata": {},
   "outputs": [
    {
     "name": "stdout",
     "output_type": "stream",
     "text": [
      "{\n",
      "    \"name\": \"Alice\",\n",
      "    \"age\": 31,\n",
      "    \"city\": \"London\",\n",
      "    \"is_student\": false,\n",
      "    \"courses\": [\n",
      "        \"Math\",\n",
      "        \"Computer Science\"\n",
      "    ],\n",
      "    \"address\": {\n",
      "        \"street\": \"123 Main St\",\n",
      "        \"zip\": \"A10001\"\n",
      "    }\n",
      "}\n"
     ]
    }
   ],
   "source": [
    "!cat data.json\n"
   ]
  },
  {
   "cell_type": "code",
   "execution_count": 15,
   "id": "41d1961a-c925-42e0-85df-f6416d351b16",
   "metadata": {},
   "outputs": [
    {
     "name": "stdout",
     "output_type": "stream",
     "text": [
      "<class 'dict'>\n"
     ]
    }
   ],
   "source": [
    "with open('data.json') as f:\n",
    "    data1 = json.load(f)\n",
    "print(type(data1))"
   ]
  },
  {
   "cell_type": "code",
   "execution_count": null,
   "id": "6e2ccf38-a27e-40c5-b009-6c4c03ce5506",
   "metadata": {},
   "outputs": [],
   "source": []
  }
 ],
 "metadata": {
  "kernelspec": {
   "display_name": "Python 3 (ipykernel)",
   "language": "python",
   "name": "python3"
  },
  "language_info": {
   "codemirror_mode": {
    "name": "ipython",
    "version": 3
   },
   "file_extension": ".py",
   "mimetype": "text/x-python",
   "name": "python",
   "nbconvert_exporter": "python",
   "pygments_lexer": "ipython3",
   "version": "3.12.4"
  }
 },
 "nbformat": 4,
 "nbformat_minor": 5
}
