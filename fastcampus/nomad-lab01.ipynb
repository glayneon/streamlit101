{
 "cells": [
  {
   "cell_type": "code",
   "execution_count": null,
   "id": "58f81c58-3404-464a-bc9c-a6230abe5855",
   "metadata": {},
   "outputs": [],
   "source": [
    "# importing modules here\n",
    "import time"
   ]
  },
  {
   "cell_type": "code",
   "execution_count": 3,
   "id": "b087bbd6-4b00-4ba5-b514-8886c75a459a",
   "metadata": {},
   "outputs": [],
   "source": [
    "class Person:\n",
    "    def __init__(self, name):\n",
    "        self.name = name\n",
    "\n",
    "    def show_name(self):\n",
    "        print(f\"My name is {self.name}\")"
   ]
  },
  {
   "cell_type": "code",
   "execution_count": 4,
   "id": "c3dbbf73-9ad7-482f-ba4d-f51226790dc4",
   "metadata": {},
   "outputs": [
    {
     "name": "stdout",
     "output_type": "stream",
     "text": [
      "My name is Chase\n"
     ]
    }
   ],
   "source": [
    "# let's try out something\n",
    "a = Person(\"Chase\")\n",
    "a.show_name()"
   ]
  },
  {
   "cell_type": "code",
   "execution_count": 17,
   "id": "10dcf005-3869-4422-9d1b-3369ee1175fc",
   "metadata": {},
   "outputs": [
    {
     "name": "stdin",
     "output_type": "stream",
     "text": [
      "Choose number:  25\n"
     ]
    },
    {
     "name": "stdout",
     "output_type": "stream",
     "text": [
      "Higher!\n"
     ]
    },
    {
     "name": "stdin",
     "output_type": "stream",
     "text": [
      "Choose number:  38\n"
     ]
    },
    {
     "name": "stdout",
     "output_type": "stream",
     "text": [
      "Higher!\n"
     ]
    },
    {
     "name": "stdin",
     "output_type": "stream",
     "text": [
      "Choose number:  44\n"
     ]
    },
    {
     "name": "stdout",
     "output_type": "stream",
     "text": [
      "Lower!\n"
     ]
    },
    {
     "name": "stdin",
     "output_type": "stream",
     "text": [
      "Choose number:  41\n"
     ]
    },
    {
     "name": "stdout",
     "output_type": "stream",
     "text": [
      "Higher!\n"
     ]
    },
    {
     "name": "stdin",
     "output_type": "stream",
     "text": [
      "Choose number:  42\n"
     ]
    },
    {
     "name": "stdout",
     "output_type": "stream",
     "text": [
      "You won!\n"
     ]
    }
   ],
   "source": [
    "import random as rd\n",
    "\n",
    "pc_choice = rd.randint(1, 50)\n",
    "user_choice = None\n",
    "\n",
    "while user_choice != pc_choice:\n",
    "    user_choice = int(input(\"Choose number: \"))\n",
    "    \n",
    "    if user_choice == pc_choice:\n",
    "        print(\"You won!\")\n",
    "        break\n",
    "    elif user_choice >  pc_choice:\n",
    "        print(\"Lower!\")\n",
    "    elif user_choice < pc_choice:\n",
    "        print(\"Higher!\")\n",
    "    \n"
   ]
  },
  {
   "cell_type": "code",
   "execution_count": 57,
   "id": "1f81728d-62ff-46cd-ac79-7745b52c2b21",
   "metadata": {},
   "outputs": [
    {
     "ename": "TypeError",
     "evalue": "'builtin_function_or_method' object is not iterable",
     "output_type": "error",
     "traceback": [
      "\u001b[1;31m---------------------------------------------------------------------------\u001b[0m",
      "\u001b[1;31mTypeError\u001b[0m                                 Traceback (most recent call last)",
      "Cell \u001b[1;32mIn[57], line 3\u001b[0m\n\u001b[0;32m      1\u001b[0m \u001b[38;5;28;01mimport\u001b[39;00m \u001b[38;5;21;01mrequests\u001b[39;00m \u001b[38;5;28;01mas\u001b[39;00m \u001b[38;5;21;01mreqs\u001b[39;00m\n\u001b[1;32m----> 3\u001b[0m \u001b[38;5;28;43;01mfor\u001b[39;49;00m\u001b[43m \u001b[49m\u001b[43mi\u001b[49m\u001b[43m \u001b[49m\u001b[38;5;129;43;01min\u001b[39;49;00m\u001b[43m \u001b[49m\u001b[43mreqs\u001b[49m\u001b[38;5;241;43m.\u001b[39;49m\u001b[43mcodes\u001b[49m\u001b[38;5;241;43m.\u001b[39;49m\u001b[43mvalues\u001b[49m\u001b[43m:\u001b[49m\n\u001b[0;32m      4\u001b[0m \u001b[43m    \u001b[49m\u001b[38;5;28;43mprint\u001b[39;49m\u001b[43m(\u001b[49m\u001b[43mi\u001b[49m\u001b[43m)\u001b[49m\n",
      "\u001b[1;31mTypeError\u001b[0m: 'builtin_function_or_method' object is not iterable"
     ]
    }
   ],
   "source": [
    "import requests as reqs\n",
    "\n",
    "for i in reqs.codes.values:\n",
    "    print(i)"
   ]
  },
  {
   "cell_type": "code",
   "execution_count": 33,
   "id": "07c33e9b-6f80-4bc4-b101-22ae872342ea",
   "metadata": {},
   "outputs": [
    {
     "name": "stdout",
     "output_type": "stream",
     "text": [
      "https://google.com: OK\n",
      "https://twitter.com: OK\n",
      "https://airbnb.com: OK\n",
      "https://meta.com: FAILED\n",
      "https://tiktok.com: OK\n"
     ]
    }
   ],
   "source": [
    "import requests as reqs\n",
    "\n",
    "websites = (\n",
    "    \"google.com\",\n",
    "    \"twitter.com\",\n",
    "    \"https://airbnb.com\",\n",
    "    \"meta.com\",\n",
    "    \"tiktok.com\"\n",
    ")\n",
    "\n",
    "results = {}\n",
    "    \n",
    "\n",
    "headers = {\n",
    "    \"user-agent\": \"Mozilla/5.0 (Windows NT 10.0; Win64; x64) AppleWebKit/537.36 (KHTML, like Gecko) Chrome/127.0.0.0 Safari/537.36\"\n",
    "}\n",
    "\n",
    "results = {}\n",
    "\n",
    "for web in websites:\n",
    "    if not web.startswith('https://'):\n",
    "        web = f\"https://{web}\"\n",
    "\n",
    "    response = reqs.get(web, headers=headers)\n",
    "\n",
    "    if response.status_code == 200:\n",
    "        results[web] = \"OK\"\n",
    "    else:\n",
    "        results[web] = \"FAILED\"\n",
    "\n",
    "\n",
    "for result in results:\n",
    "    print(f\"{result}: {results[result]}\")\n",
    "    "
   ]
  },
  {
   "cell_type": "code",
   "execution_count": 62,
   "id": "25c361e0-4626-492d-a0df-d80d8c7fe32f",
   "metadata": {},
   "outputs": [
    {
     "name": "stdout",
     "output_type": "stream",
     "text": [
      "Puppy named Ruffus, Breed: beagle\n",
      "Puppy named Bibi, Breed: mixed\n",
      "Woof Woof\n"
     ]
    }
   ],
   "source": [
    "class Dog:\n",
    "\n",
    "    def __init__(self, name, breed, age):\n",
    "        self.name = name\n",
    "        self.breed = breed\n",
    "        self.age = age\n",
    "\n",
    "class Puppy(Dog):\n",
    "    def __str__(self):\n",
    "        return f\"Puppy named {self.name}, Breed: {self.breed}\"\n",
    "\n",
    "    def woof_woof(self):\n",
    "        print(\"Woof Woof\")\n",
    "\n",
    "\n",
    "class GuardDog(Dog):\n",
    "    def rrrrr(self):\n",
    "        print(\"Stay away!\")\n",
    "\n",
    "\n",
    "\n",
    "ruffus = Puppy(\"ruffus\", \"beagle\")\n",
    "bibi = Puppy('bibi', 'mixed')\n",
    "\n",
    "print(ruffus)\n",
    "print(bibi)\n",
    "\n",
    "ruffus.woof_woof()"
   ]
  },
  {
   "cell_type": "code",
   "execution_count": 73,
   "id": "40a926d8-62b6-4308-9906-30b3ae8badd9",
   "metadata": {},
   "outputs": [
    {
     "name": "stdout",
     "output_type": "stream",
     "text": [
      "Hello, I'm chase and I play for blue.\n"
     ]
    }
   ],
   "source": [
    "class Player:\n",
    "\n",
    "    def __init__(self, name, team):\n",
    "        self.name = name\n",
    "        self.xp = 1500\n",
    "        self.team = team\n",
    "\n",
    "    def introduce(self):\n",
    "        print(f\"Hello, I'm {self.name} and I play for {self.team}.\")\n",
    "\n",
    "\n",
    "class Team:\n",
    "\n",
    "    def __init__(self, team_name):\n",
    "        self.team_name = team_name\n",
    "        self.players = []\n",
    "\n",
    "    def show_players(self):\n",
    "        if self.players:\n",
    "            for player in self.players:\n",
    "                player.introduce()\n",
    "            \n",
    "    def add_player(self, name):\n",
    "        new_player = Player(name, self.team_name)\n",
    "        self.players.append(new_player)\n",
    "\n",
    "\n",
    "team_a = Team(\n",
    "    team_name = \"blue\"\n",
    ")\n",
    "\n",
    "team_a.add_player('chase')\n",
    "team_a.show_players()"
   ]
  },
  {
   "cell_type": "code",
   "execution_count": 76,
   "id": "c47f67f7-400d-452a-894d-7cf51b464b7c",
   "metadata": {},
   "outputs": [
    {
     "name": "stdout",
     "output_type": "stream",
     "text": [
      "Hello, I'm triss and I play for red.\n",
      "Hello, I'm luke and I play for red.\n",
      "Hello, I'm chase and I play for blue.\n",
      "Hello, I'm hans and I play for blue.\n",
      "red Total XP: 3000\n",
      "blue Total XP: 3000\n",
      "Removing triss from red\n",
      "Player jake not found\n",
      "Removing chase from blue\n",
      "Player jake not found\n",
      "Hello, I'm luke and I play for red.\n",
      "Hello, I'm hans and I play for blue.\n"
     ]
    }
   ],
   "source": [
    "class Player:\n",
    "\n",
    "    def __init__(self, name, team):\n",
    "        self.name = name\n",
    "        self.xp = 1500\n",
    "        self.team = team\n",
    "\n",
    "    def introduce(self):\n",
    "        print(f\"Hello, I'm {self.name} and I play for {self.team}.\")\n",
    "\n",
    "\n",
    "class Team:\n",
    "\n",
    "    def __init__(self, team_name):\n",
    "        self.team_name = team_name\n",
    "        self.players = []\n",
    "\n",
    "    def show_players(self):\n",
    "        if self.players:\n",
    "            for player in self.players:\n",
    "                player.introduce()\n",
    "\n",
    "    def add_player(self, name):\n",
    "        new_player = Player(name, self.team_name)\n",
    "        self.players.append(new_player)\n",
    "\n",
    "    def team_xp(self):\n",
    "        total_xp = 0\n",
    "        for player in self.players:\n",
    "            total_xp += player.xp\n",
    "\n",
    "        print(f\"{self.team_name} Total XP: {total_xp}\")\n",
    "\n",
    "    def remove_player(self, remove_name):\n",
    "        for player in self.players:\n",
    "            if remove_name == player.name:\n",
    "                print(f\"Removing {remove_name} from {self.team_name}\")\n",
    "                self.players.remove(player)\n",
    "            else:\n",
    "                print(f\"Player {remove_name} not found\")\n",
    "\n",
    "\n",
    "# main\n",
    "team_a = Team(\n",
    "    team_name = \"red\"\n",
    ")\n",
    "\n",
    "team_b = Team(\n",
    "    team_name = \"blue\"\n",
    ")\n",
    "\n",
    "team_a.add_player('triss')\n",
    "team_a.add_player('luke')\n",
    "\n",
    "team_b.add_player('chase')\n",
    "team_b.add_player('hans')\n",
    "\n",
    "team_a.show_players()\n",
    "team_b.show_players()\n",
    "\n",
    "team_a.team_xp()\n",
    "team_b.team_xp()\n",
    "\n",
    "team_a.remove_player('triss')\n",
    "# conditional for false\n",
    "team_a.remove_player('jake')\n",
    "\n",
    "team_b.remove_player('chase')\n",
    "# conditional for false\n",
    "team_b.remove_player('jake')\n",
    "\n",
    "team_a.show_players()\n",
    "team_b.show_players()"
   ]
  },
  {
   "cell_type": "code",
   "execution_count": null,
   "id": "20cadd6c-f3f5-443b-9015-70cd2fd2d2b8",
   "metadata": {},
   "outputs": [],
   "source": []
  }
 ],
 "metadata": {
  "kernelspec": {
   "display_name": "Python 3 (ipykernel)",
   "language": "python",
   "name": "python3"
  },
  "language_info": {
   "codemirror_mode": {
    "name": "ipython",
    "version": 3
   },
   "file_extension": ".py",
   "mimetype": "text/x-python",
   "name": "python",
   "nbconvert_exporter": "python",
   "pygments_lexer": "ipython3",
   "version": "3.12.4"
  }
 },
 "nbformat": 4,
 "nbformat_minor": 5
}
