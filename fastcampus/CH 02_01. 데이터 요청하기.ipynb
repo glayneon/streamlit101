{
 "cells": [
  {
   "cell_type": "markdown",
   "metadata": {},
   "source": [
    "### 이번 실습에서는 다음 내용들을 배웁니다.\n",
    "\n",
    "\n",
    "- 웹페이지에 있는 데이터를 요청하여 가져오는 방법에 대해 배웁니다.\n",
    "\n",
    "\n",
    "- requests와 bs4 라이브러리 사용법에 대해 배웁니다."
   ]
  },
  {
   "cell_type": "code",
   "execution_count": null,
   "metadata": {},
   "outputs": [],
   "source": [
    "# 해당 페이지의 page source를 직접 가져옵니다. 웹페이지에서도 우클릭 \"페이지 소스 보기\"로 같은 HTML 소스를 볼 수 있습니다.\n"
   ]
  },
  {
   "cell_type": "markdown",
   "metadata": {},
   "source": [
    "> 이 끔찍한 HTML 코드 속에서 체결가를 찾기는 너무나 힘듭니다.. 그래서 Chrome에는 \"검사\" 기능이 있습니다. 이것을 사용하면 아래 그림과 같습니다.\n",
    "\n",
    "> HTML tag가 궁금한 부분에 **마우스 우클릭을 하면 \"검사\" 기능**을 찾을 수 있습니다. 누르면 아래 그림의 우측에 보이는 크롬 개발자 도구를 볼 수 있습니다."
   ]
  },
  {
   "cell_type": "markdown",
   "metadata": {},
   "source": [
    "![sise_element](webcrawling/sise_element.png)"
   ]
  },
  {
   "cell_type": "markdown",
   "metadata": {},
   "source": [
    "## 1.2 beautifulsoup4를 이용해서 태그에서 정보 가져오기 "
   ]
  },
  {
   "cell_type": "markdown",
   "metadata": {},
   "source": [
    "- beautifulsoup4(bs4)는 HTML source를 tag별 계층 구조를 파악하기 쉽게 parse tree 형태로 변환해주는 라이브러리 입니다.\n",
    "\n",
    "\n",
    "- bs4를 사용하면 손쉽게 HTML source에서 원하는 정보를 추출할 수 있습니다.\n",
    "\n",
    "\n",
    "- find, find_all 함수를 이용하면 원하는 tag와 속성에 맞는 모든 정보를 가져올 수 있습니다."
   ]
  },
  {
   "cell_type": "code",
   "execution_count": null,
   "metadata": {},
   "outputs": [],
   "source": [
    "# beautifulsoup4를 불러옵니다.\n",
    "import bs4\n",
    "# BeautifulSoup 함수를 사용해서 불러온 html source를 \"lxml\" parser로 parsing 합니다.\n"
   ]
  },
  {
   "cell_type": "code",
   "execution_count": null,
   "metadata": {},
   "outputs": [],
   "source": [
    "# bs4의 prettify() 함수는 HTML source를 tab을 기준으로 \"이쁘게\" 보여줍니다.\n"
   ]
  },
  {
   "cell_type": "markdown",
   "metadata": {},
   "source": [
    "- 우리가 찾고 싶은 데이터는 검사 기능을 통해서 td class=\"number_1\"에 있는 것을 확인하였습니다.\n",
    "\n",
    "- td tag을 찾아서, class가 number_1인 데이터를 모두 가져오면 체결가를 가져올 수 있습니다.\n",
    "\n",
    "\n",
    "- **즉, web crawling이란 HTML source내에 숨어있는 데이터가 속한 tag에서 데이터를 추출하는 작업이라고 할 수 있습니다.**"
   ]
  },
  {
   "cell_type": "code",
   "execution_count": null,
   "metadata": {},
   "outputs": [],
   "source": [
    "# find_all()는 HTML source에서 조건을 만족하는 모든 tag을 가져오는 함수입니다.\n"
   ]
  }
 ],
 "metadata": {
  "kernelspec": {
   "display_name": "Python 3 (ipykernel)",
   "language": "python",
   "name": "python3"
  },
  "language_info": {
   "codemirror_mode": {
    "name": "ipython",
    "version": 3
   },
   "file_extension": ".py",
   "mimetype": "text/x-python",
   "name": "python",
   "nbconvert_exporter": "python",
   "pygments_lexer": "ipython3",
   "version": "3.10.5"
  }
 },
 "nbformat": 4,
 "nbformat_minor": 2
}
