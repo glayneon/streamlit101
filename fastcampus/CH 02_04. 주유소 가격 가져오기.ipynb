{
 "cells": [
  {
   "cell_type": "markdown",
   "metadata": {},
   "source": [
    "### 이번 실습에서는 다음 내용들을 배웁니다.\n",
    "\n",
    "\n",
    "- selenium을 이용하여 실제 opinet 데이터를 자동으로 가져오는 웹크롤러를 만들어봅니다."
   ]
  },
  {
   "cell_type": "markdown",
   "metadata": {
    "collapsed": true,
    "jupyter": {
     "outputs_hidden": true
    }
   },
   "source": [
    "## 2.2. 전국 지역별 유가 정보 얻기"
   ]
  },
  {
   "cell_type": "markdown",
   "metadata": {},
   "source": [
    "- selenium을 사용할 때 해야되는 기본적인 함수가 2가지 있습니다.\n",
    "\n",
    "\n",
    "- webdriver.Chrome()과 driver.get() 입니다.\n",
    "\n",
    "\n",
    "- webdriver.Chrome()은 실제 chromedriver가 존재하는 위치에서 chromedriver를 실행할 수 있게 불러오는 함수입니다.\n",
    "\n",
    "\n",
    "- driver.get()은 selenium이 제어하고 있는 chromedriver가 해당 URL로 접속하게 하는 함수입니다.\n",
    "\n",
    "\n",
    "- 여기서 또 문제점이 발생합니다. 지역별 검색 페이지에 접속해서 해당 URL로 driver.get()을 시도해도 메인페이지로 접속이 되는 문제입니다. 이런 경우는 해당 웹페이지 관리자가 다른 subpage들도 direct로 접속하지 못하게 메인페이지로 자동 redirection을 만들어 놓은 경우입니다.\n",
    "\n",
    "\n",
    "- 이를 해결하기 위해 메인페이지에 먼저 접속한 뒤에, 지역별 페이지로 들어갑니다.\n",
    "\n",
    "\n",
    "- Opinet 코드를 살펴보니 이 기능이 javascript 함수를 호출하는 것으로 되어 있습니다.\n",
    "\n",
    "\n",
    "- selenium에서는 execute_script() 함수가 이를 지원하기 때문에 execute_script(\"goSubPage(0,0,99)\")를 이용하여 해당 페이지에 접속합니다."
   ]
  },
  {
   "cell_type": "markdown",
   "metadata": {},
   "source": [
    "![redirection](./webcrawling/opinet_redirection.png)"
   ]
  },
  {
   "cell_type": "code",
   "execution_count": 34,
   "metadata": {},
   "outputs": [],
   "source": [
    "# 해당 경로에 있는 chromedriver를 불러옵니다.\n",
    "from selenium import webdriver\n",
    "import time\n",
    "# opinet.co.kr에 접속합니다.\n",
    "\n",
    "oilcheck = webdriver.Chrome()\n",
    "#oilcheck.get('https://www.opinet.co.kr/searRgSelect.do')\n",
    "oilcheck.get('https://www.opinet.co.kr/user/main/mainView.do')\n",
    "# 2초 쉽니다. (페이지 로딩을 위해)\n",
    "time.sleep(2)\n",
    "# 메인 페이지에서 유가 가격 검색 페이지로 이동합니다. javascript를 활용합니다.\n",
    "oilcheck.execute_script('goSubPage(0,0,99)')"
   ]
  },
  {
   "cell_type": "markdown",
   "metadata": {},
   "source": [
    "- selenium에서 특정 웹페이지 원소를 접근하는 방법이 여러가지가 있습니다.\n",
    "\n",
    "\n",
    "**1) find_element_by_tag_name**\n",
    "\n",
    "\n",
    "**2) find_element_by_selector**\n",
    "\n",
    "\n",
    "**3) find_element_by_xpath**\n",
    "\n",
    "\n",
    "**4) find_element_by_id**\n",
    "\n",
    "\n",
    "각자 취향에 맞게 선택할 수 있습니다. 때에 따라 CSS selector만 선택해야 할때가 있고, xpath만 선택해야할 때가 있는데 이는 복잡한 문제이므로 넘어가겠습니다.\n",
    "\n",
    "보통은 xpath로 일단 시도해본 뒤, 안되면 CSS selector나 tag name으로 시도해보면 좋습니다.\n",
    "\n",
    "\n",
    "- 우선 우리는 지역목록을 가져와야 합니다.\n",
    "\n",
    "\n",
    "- 이는 페이지에 drop-down 메뉴를 선택하여 해당 목록을 가져온 뒤, 하나하나 눌러서 접속해야 합니다.\n",
    "\n",
    "\n",
    "- 지역에서 처음에 \"도\"를 고르고 그 뒤에 \"구\"를 고른 뒤에 \"조회\" 버튼을 누르면 해당 정보를 가져올 수 있습니다\n",
    "\n",
    "\n",
    "- 정보를 제대로 가져왔는지는 가운데 있는 지도가 제대로 로드가 되었는지 확인해보면 됩니다. (초반 몇 개만)"
   ]
  },
  {
   "cell_type": "markdown",
   "metadata": {},
   "source": [
    "![get_price](./webcrawling/opinet_get_price.png)"
   ]
  },
  {
   "cell_type": "code",
   "execution_count": 35,
   "metadata": {},
   "outputs": [
    {
     "data": {
      "text/plain": [
       "['CLASS_NAME',\n",
       " 'CSS_SELECTOR',\n",
       " 'ID',\n",
       " 'LINK_TEXT',\n",
       " 'NAME',\n",
       " 'PARTIAL_LINK_TEXT',\n",
       " 'TAG_NAME',\n",
       " 'XPATH',\n",
       " '__class__',\n",
       " '__delattr__',\n",
       " '__dict__',\n",
       " '__dir__',\n",
       " '__doc__',\n",
       " '__eq__',\n",
       " '__format__',\n",
       " '__ge__',\n",
       " '__getattribute__',\n",
       " '__getstate__',\n",
       " '__gt__',\n",
       " '__hash__',\n",
       " '__init__',\n",
       " '__init_subclass__',\n",
       " '__le__',\n",
       " '__lt__',\n",
       " '__module__',\n",
       " '__ne__',\n",
       " '__new__',\n",
       " '__reduce__',\n",
       " '__reduce_ex__',\n",
       " '__repr__',\n",
       " '__setattr__',\n",
       " '__sizeof__',\n",
       " '__str__',\n",
       " '__subclasshook__',\n",
       " '__weakref__']"
      ]
     },
     "execution_count": 35,
     "metadata": {},
     "output_type": "execute_result"
    }
   ],
   "source": [
    "from selenium.webdriver.common.by import By\n",
    "dir(By)"
   ]
  },
  {
   "cell_type": "code",
   "execution_count": 36,
   "metadata": {},
   "outputs": [
    {
     "data": {
      "text/plain": [
       "['서울특별시',\n",
       " '부산광역시',\n",
       " '대구광역시',\n",
       " '인천광역시',\n",
       " '광주광역시',\n",
       " '대전광역시',\n",
       " '울산광역시',\n",
       " '세종특별자치시',\n",
       " '경기도',\n",
       " '강원특별자치도',\n",
       " '충청북도',\n",
       " '충청남도',\n",
       " '전북특별자치도',\n",
       " '전라남도',\n",
       " '경상북도',\n",
       " '경상남도',\n",
       " '제주특별자치도']"
      ]
     },
     "execution_count": 36,
     "metadata": {},
     "output_type": "execute_result"
    }
   ],
   "source": [
    "# 앞서 배웠던 방식으로 xpath를 얻어옵니다.\n",
    "from selenium.webdriver.common.by import By\n",
    "\n",
    "sido = oilcheck.find_element(By.XPATH, '//*[@id=\"SIDO_NM0\"]')\n",
    "sido_names = sido.find_elements(By.TAG_NAME, 'option')\n",
    "\n",
    "sido_list = []\n",
    "for sido_name in sido_names:\n",
    "    sido_list.append(sido_name.get_attribute('value'))\n",
    "# 앞서 배웠던 방식으로 tag을 찾아서 가져옵니다.\n",
    "# tag에서 value들을 하나씩 뽑아냅니다.\n",
    "sido_list = sido_list[1:]\n",
    "sido_list"
   ]
  },
  {
   "cell_type": "markdown",
   "metadata": {},
   "source": [
    "- 이제 시도에 대한 정보를 얻었으니, 시/군/구도 동일한 방식으로 얻어오도록 합니다!"
   ]
  },
  {
   "cell_type": "code",
   "execution_count": 37,
   "metadata": {},
   "outputs": [],
   "source": [
    "# 시/군/구 목록 수집\n",
    "sido = oilcheck.find_element(By.XPATH, '//*[@id=\"SIDO_NM0\"]')\n",
    "sido.send_keys('서울특별시')"
   ]
  },
  {
   "cell_type": "code",
   "execution_count": 38,
   "metadata": {},
   "outputs": [],
   "source": [
    "# \"조회\" 버튼의 xpath를 찾아서 클릭합니다.\n",
    "sigu = oilcheck.find_element(By.XPATH, '//*[@id=\"SIGUNGU_NM0\"]')\n",
    "sigu.send_keys('서초구')"
   ]
  },
  {
   "cell_type": "code",
   "execution_count": 48,
   "metadata": {},
   "outputs": [],
   "source": [
    "# \"엑셀저장\" 버튼의 xpath를 찾아서 클릭합니다.\n",
    "oilcheck.find_element(By.XPATH, '//*[@id=\"searRgSelect\"]').click()\n",
    "time.sleep(2)\n",
    "oilcheck.find_element(By.XPATH, '//*[@id=\"templ_list0\"]/div[7]/div/a').click()"
   ]
  },
  {
   "cell_type": "markdown",
   "metadata": {},
   "source": [
    "### 모두 종합해서 하나의 코드로 만들어봅시다!"
   ]
  },
  {
   "cell_type": "code",
   "execution_count": 55,
   "metadata": {},
   "outputs": [],
   "source": [
    "\n",
    "# 1. webdriver를 킨다.\n",
    "# 해당 경로에 있는 chromedriver를 불러옵니다.\n",
    "from selenium import webdriver\n",
    "from selenium.webdriver.common.by import By\n",
    "import time\n",
    "\n",
    "spending_time = 2\n",
    "oilcheck = webdriver.Chrome()\n",
    "#oilcheck.get('https://www.opinet.co.kr/searRgSelect.do')\n",
    "oilcheck.get('https://www.opinet.co.kr/user/main/mainView.do')\n",
    "# 2초 쉽니다. (페이지 로딩을 위해)\n",
    "time.sleep(spending_time)\n",
    "\n",
    "# 2. 지역별 주유소 찾기 접속\n",
    "oilcheck.execute_script('goSubPage(0,0,99)')\n",
    "time.sleep(spending_time)\n",
    "\n",
    "sido = oilcheck.find_element(By.XPATH, '//*[@id=\"SIDO_NM0\"]')\n",
    "sido_names = sido.find_elements(By.TAG_NAME, 'option')\n",
    "\n",
    "sido_list = []\n",
    "for sido_name in sido_names:\n",
    "    sido_list.append(sido_name.get_attribute('value'))\n",
    "    \n",
    "sido_list = sido_list[1:]\n",
    "\n",
    "# 4. 원하는 지역으로 이동한다.\n",
    "for sido_name in sido_list:\n",
    "    sido = oilcheck.find_element(By.XPATH, '//*[@id=\"SIDO_NM0\"]')\n",
    "    sido.send_keys(sido_name)\n",
    "    time.sleep(spending_time)\n",
    "    sigu = oilcheck.find_element(By.XPATH, '//*[@id=\"SIGUNGU_NM0\"]')\n",
    "    sigu_names = sigu.find_elements(By.TAG_NAME, 'option')\n",
    "    \n",
    "    sigu_list = []\n",
    "    for sigu_name in sigu_names:\n",
    "        sigu_list.append(sigu_name.get_attribute('value'))\n",
    "    \n",
    "    sigu_list = sigu_list[1:]    \n",
    "    for sigu_name in sigu_list:\n",
    "        sigu = oilcheck.find_element(By.XPATH, '//*[@id=\"SIGUNGU_NM0\"]')\n",
    "        sigu.send_keys(sigu_name)\n",
    "        time.sleep(spending_time)\n",
    "        # 6. 얻어온 목록으로 반복문을 수행하면서, 조회를 누르고 엑셀저장을 누른다.\n",
    "        oilcheck.find_element(By.XPATH, '//*[@id=\"searRgSelect\"]').click()\n",
    "        time.sleep(spending_time)\n",
    "        oilcheck.find_element(By.XPATH, '//*[@id=\"templ_list0\"]/div[7]/div/a').click()\n",
    "        time.sleep(spending_time)"
   ]
  },
  {
   "cell_type": "code",
   "execution_count": null,
   "metadata": {},
   "outputs": [],
   "source": []
  }
 ],
 "metadata": {
  "kernelspec": {
   "display_name": "Python 3 (ipykernel)",
   "language": "python",
   "name": "python3"
  },
  "language_info": {
   "codemirror_mode": {
    "name": "ipython",
    "version": 3
   },
   "file_extension": ".py",
   "mimetype": "text/x-python",
   "name": "python",
   "nbconvert_exporter": "python",
   "pygments_lexer": "ipython3",
   "version": "3.12.4"
  }
 },
 "nbformat": 4,
 "nbformat_minor": 4
}
