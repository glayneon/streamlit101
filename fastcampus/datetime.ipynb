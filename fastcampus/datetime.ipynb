{
 "cells": [
  {
   "cell_type": "code",
   "execution_count": 85,
   "id": "226ee95f-e986-4af2-bf29-49443a476805",
   "metadata": {},
   "outputs": [
    {
     "name": "stdout",
     "output_type": "stream",
     "text": [
      "C:\\Users\\Chase\\pylab\\fastcampus\n"
     ]
    }
   ],
   "source": [
    "print(Path.cwd())"
   ]
  },
  {
   "cell_type": "code",
   "execution_count": 86,
   "id": "e03d6c0a-6c9b-4f3a-8faf-3d37d362c3e1",
   "metadata": {},
   "outputs": [],
   "source": [
    "p = Path.cwd() / 'test5.py'\n",
    "with open(p, 'w') as f:\n",
    "    f.write('''\n",
    "    # python code\n",
    "    import streamlit as st\n",
    "    import pandas as pd\n",
    "    import numpy as np\n",
    "    import plotly.express as px\n",
    "    ''')\n",
    "    "
   ]
  },
  {
   "cell_type": "code",
   "execution_count": 87,
   "id": "1826307c-6a4c-4fe7-bf6e-183053770774",
   "metadata": {},
   "outputs": [
    {
     "name": "stdout",
     "output_type": "stream",
     "text": [
      "['\\n', '    # python code\\n', '    import streamlit as st\\n', '    import pandas as pd\\n', '    import numpy as np\\n', '    import plotly.express as px\\n', '    ']\n"
     ]
    }
   ],
   "source": [
    "p = Path.cwd() / 'test5.py'\n",
    "with open(p, 'r') as f:\n",
    "    contents = f.readlines()\n",
    "    print(contents)"
   ]
  },
  {
   "cell_type": "code",
   "execution_count": 90,
   "id": "0f21213d-bcd2-4bc9-a3e0-e1bfcfde0684",
   "metadata": {},
   "outputs": [
    {
     "name": "stdout",
     "output_type": "stream",
     "text": [
      "Not all numbers are greater than 3\n"
     ]
    }
   ],
   "source": [
    "import numpy as np\n",
    "numbers = np.random.randint(1, 10, 5)\n",
    "if all(n > 3 for n in numbers):\n",
    "    print(\"All numbers are greater than 3\")\n",
    "else:\n",
    "    print(\"Not all numbers are greater than 3\")"
   ]
  },
  {
   "cell_type": "code",
   "execution_count": 94,
   "id": "4e598378-6734-4d5e-bd6b-7ca11fbedaf8",
   "metadata": {},
   "outputs": [
    {
     "name": "stdout",
     "output_type": "stream",
     "text": [
      "Randomly, 12 is occured.\n"
     ]
    }
   ],
   "source": [
    "numbers = np.random.randint(1, 20, 10)\n",
    "if any(n == 12 for n in numbers):\n",
    "    print(\"Randomly, 12 is occured.\")\n",
    "else:\n",
    "    print(\"No 12 here.\")"
   ]
  },
  {
   "cell_type": "code",
   "execution_count": 14,
   "id": "076da064-4c9e-4092-8529-35ae73f28063",
   "metadata": {},
   "outputs": [],
   "source": [
    "import os"
   ]
  },
  {
   "cell_type": "code",
   "execution_count": 15,
   "id": "a7d2a6b9-3e21-4b23-bf06-e624854da3de",
   "metadata": {},
   "outputs": [],
   "source": [
    "os.environ['MYKEY'] = 'abcdefg'"
   ]
  },
  {
   "cell_type": "code",
   "execution_count": 16,
   "id": "90e6f7e1-0797-4612-8e0d-93d5fabc94b1",
   "metadata": {},
   "outputs": [
    {
     "data": {
      "text/plain": [
       "'abcdefg'"
      ]
     },
     "execution_count": 16,
     "metadata": {},
     "output_type": "execute_result"
    }
   ],
   "source": [
    "os.environ.get('MYKEY')"
   ]
  },
  {
   "cell_type": "code",
   "execution_count": 17,
   "id": "a3018232-e841-4c53-a0cf-02a0b6af978e",
   "metadata": {},
   "outputs": [],
   "source": [
    "from datetime import datetime, timedelta"
   ]
  },
  {
   "cell_type": "code",
   "execution_count": 18,
   "id": "2d167774-e270-48a9-bdee-f47d609edc7b",
   "metadata": {},
   "outputs": [
    {
     "data": {
      "text/plain": [
       "datetime.datetime"
      ]
     },
     "execution_count": 18,
     "metadata": {},
     "output_type": "execute_result"
    }
   ],
   "source": [
    "now = datetime.now()\n",
    "type(now)"
   ]
  },
  {
   "cell_type": "code",
   "execution_count": 19,
   "id": "90ab6ae1-cee0-4739-aed1-6479c7322ae9",
   "metadata": {},
   "outputs": [
    {
     "name": "stdout",
     "output_type": "stream",
     "text": [
      "2024-09-05 17:29:51.839620\n"
     ]
    }
   ],
   "source": [
    "print(now)"
   ]
  },
  {
   "cell_type": "code",
   "execution_count": 20,
   "id": "6d95c425-e17e-4865-9164-60d4537a9144",
   "metadata": {},
   "outputs": [],
   "source": [
    "someday = datetime(2022, 12, 12, 12, 0)"
   ]
  },
  {
   "cell_type": "code",
   "execution_count": 21,
   "id": "bb67a78e-2ec2-4daa-9b3f-eeabb4f30d1e",
   "metadata": {},
   "outputs": [
    {
     "name": "stdout",
     "output_type": "stream",
     "text": [
      "2022-12-12 12:00:00\n"
     ]
    }
   ],
   "source": [
    "print(someday)"
   ]
  },
  {
   "cell_type": "code",
   "execution_count": 23,
   "id": "5dfd06be-b5f2-411b-8fe7-5df35804c883",
   "metadata": {},
   "outputs": [
    {
     "name": "stdout",
     "output_type": "stream",
     "text": [
      "2023-10-08 12:00:00\n"
     ]
    }
   ],
   "source": [
    "print(someday + timedelta(days=300))"
   ]
  },
  {
   "cell_type": "code",
   "execution_count": 25,
   "id": "7dc11a1f-a114-4d01-9076-e4548c60b802",
   "metadata": {},
   "outputs": [
    {
     "name": "stdout",
     "output_type": "stream",
     "text": [
      "2024-09-05 17:29:51 <class 'str'>\n"
     ]
    }
   ],
   "source": [
    "ddd = now.strftime(\"%Y-%m-%d %H:%M:%S\")\n",
    "print(ddd, type(ddd))"
   ]
  },
  {
   "cell_type": "code",
   "execution_count": 26,
   "id": "7f3ccb34-1cc4-4d2a-ac1d-ab0fda774f62",
   "metadata": {},
   "outputs": [
    {
     "name": "stdout",
     "output_type": "stream",
     "text": [
      "%Y-%m-%d %H:%M:%S\n"
     ]
    }
   ],
   "source": [
    "date_form = \"%Y-%m-%d %H:%M:%S\"\n",
    "print(date_form)"
   ]
  },
  {
   "cell_type": "code",
   "execution_count": 28,
   "id": "c8f35b1f-32fe-4b84-954e-736b04661be6",
   "metadata": {},
   "outputs": [],
   "source": [
    "date_exam = '2021-01-07 11:23:27'\n",
    "parsed_date = datetime.strptime(date_exam, date_form)"
   ]
  },
  {
   "cell_type": "code",
   "execution_count": 29,
   "id": "46b2be6a-f893-4802-9572-6d64ae05b8cd",
   "metadata": {},
   "outputs": [
    {
     "name": "stdout",
     "output_type": "stream",
     "text": [
      "704 days, 0:36:33\n"
     ]
    }
   ],
   "source": [
    "print(someday - parsed_date)"
   ]
  },
  {
   "cell_type": "code",
   "execution_count": null,
   "id": "ee57a83d-a79b-461a-af5f-e4dc1af00347",
   "metadata": {},
   "outputs": [],
   "source": []
  }
 ],
 "metadata": {
  "kernelspec": {
   "display_name": "Python 3 (ipykernel)",
   "language": "python",
   "name": "python3"
  },
  "language_info": {
   "codemirror_mode": {
    "name": "ipython",
    "version": 3
   },
   "file_extension": ".py",
   "mimetype": "text/x-python",
   "name": "python",
   "nbconvert_exporter": "python",
   "pygments_lexer": "ipython3",
   "version": "3.12.4"
  }
 },
 "nbformat": 4,
 "nbformat_minor": 5
}
