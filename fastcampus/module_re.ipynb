{
 "cells": [
  {
   "cell_type": "code",
   "execution_count": 1,
   "id": "6c32c3f4-d4d8-470b-afbf-d120559443cb",
   "metadata": {},
   "outputs": [],
   "source": [
    "import re"
   ]
  },
  {
   "cell_type": "code",
   "execution_count": 47,
   "id": "00b582e0-69ff-4404-bb45-58fb6e0726ec",
   "metadata": {},
   "outputs": [
    {
     "name": "stdout",
     "output_type": "stream",
     "text": [
      "No match\n"
     ]
    }
   ],
   "source": [
    "text = 'abc123 123asdf'\n",
    "pattern = r'\\d+'\n",
    "match = re.match(pattern, text)\n",
    "if match:\n",
    "    print(f\"{match.group()} matched!\")\n",
    "else:\n",
    "    print(\"No match\")"
   ]
  },
  {
   "cell_type": "code",
   "execution_count": 46,
   "id": "660c8942-3344-4687-a0c8-cb1581141e50",
   "metadata": {},
   "outputs": [
    {
     "name": "stdout",
     "output_type": "stream",
     "text": [
      "English\n",
      "English\n"
     ]
    }
   ],
   "source": [
    "text = 'abc abc123xyz asd1234123fasdas asdfzxm.h asjlkelkzxc English asdkcm,ek asdckEnglish*jdcj'\n",
    "pattern = 'English'\n",
    "search = re.findall(pattern, text)\n",
    "if search:\n",
    "    for _, v in enumerate(search):\n",
    "        print(v)\n",
    "else:\n",
    "    print(\"not found\")"
   ]
  },
  {
   "cell_type": "code",
   "execution_count": 3,
   "id": "63afcbbd-5a19-4a0a-b98e-98e6e7d4c82d",
   "metadata": {},
   "outputs": [
    {
     "name": "stdout",
     "output_type": "stream",
     "text": [
      "Collecting pyttsx3\n",
      "  Using cached pyttsx3-2.91-py3-none-any.whl.metadata (3.8 kB)\n",
      "Collecting comtypes (from pyttsx3)\n",
      "  Using cached comtypes-1.4.6-py3-none-any.whl.metadata (6.4 kB)\n",
      "Collecting pypiwin32 (from pyttsx3)\n",
      "  Using cached pypiwin32-223-py3-none-any.whl.metadata (236 bytes)\n",
      "Requirement already satisfied: pywin32 in c:\\users\\chase\\pylab\\fastcampus\\lib\\site-packages (from pyttsx3) (306)\n",
      "Using cached pyttsx3-2.91-py3-none-any.whl (33 kB)\n",
      "Using cached comtypes-1.4.6-py3-none-any.whl (222 kB)\n",
      "Using cached pypiwin32-223-py3-none-any.whl (1.7 kB)\n",
      "Installing collected packages: pypiwin32, comtypes, pyttsx3\n",
      "Successfully installed comtypes-1.4.6 pypiwin32-223 pyttsx3-2.91\n"
     ]
    },
    {
     "name": "stderr",
     "output_type": "stream",
     "text": [
      "\n",
      "[notice] A new release of pip is available: 24.1.2 -> 24.2\n",
      "[notice] To update, run: python.exe -m pip install --upgrade pip\n"
     ]
    }
   ],
   "source": [
    "!pip install pyttsx3"
   ]
  },
  {
   "cell_type": "code",
   "execution_count": 4,
   "id": "28e714bb-a369-443b-846d-65afe4bf515d",
   "metadata": {},
   "outputs": [],
   "source": [
    "import pyttsx3"
   ]
  },
  {
   "cell_type": "code",
   "execution_count": 33,
   "id": "0f34e8d8-856b-48ff-9ec6-1f0d3cd7b7ce",
   "metadata": {},
   "outputs": [
    {
     "name": "stdout",
     "output_type": "stream",
     "text": [
      "Microsoft Heami Desktop - Korean\n",
      "Microsoft Zira Desktop - English (United States)\n"
     ]
    }
   ],
   "source": [
    "sp = pyttsx3.init()\n",
    "voices = sp.getProperty('voices')\n",
    "for _, v in enumerate(voices):\n",
    "    print(v.name)"
   ]
  },
  {
   "cell_type": "code",
   "execution_count": 49,
   "id": "1d535eff-71fe-4835-82a1-7810449295ae",
   "metadata": {},
   "outputs": [
    {
     "data": {
      "text/plain": [
       "'HKEY_LOCAL_MACHINE\\\\SOFTWARE\\\\Microsoft\\\\Speech\\\\Voices\\\\Tokens\\\\TTS_MS_EN-US_ZIRA_11.0'"
      ]
     },
     "execution_count": 49,
     "metadata": {},
     "output_type": "execute_result"
    }
   ],
   "source": [
    "voices = sp.getProperty('voices')\n",
    "lang = 'English'\n",
    "nation = 'United States'\n",
    "\n",
    "for i in voices:\n",
    "    result = re.search(lang, i.name)\n",
    "    result2 = re.search(nation, i.name)\n",
    "    if result and result2:\n",
    "        sp.setProperty('voice', i.id)\n",
    "        sp.say('Pussy Cum Cum')\n",
    "        sp.runAndWait()\n",
    "\n",
    "sp.getProperty('voice')"
   ]
  },
  {
   "cell_type": "code",
   "execution_count": 29,
   "id": "688df725-0b64-4350-b4d1-28d282c2e20f",
   "metadata": {},
   "outputs": [],
   "source": [
    "sp.say(\"Hello\")"
   ]
  },
  {
   "cell_type": "code",
   "execution_count": 30,
   "id": "94286676-7b68-4dab-a03a-ce2686f10424",
   "metadata": {},
   "outputs": [],
   "source": [
    "sp.runAndWait()"
   ]
  },
  {
   "cell_type": "code",
   "execution_count": 35,
   "id": "65bfe166-4b63-493a-9269-aac648c2d4a7",
   "metadata": {},
   "outputs": [],
   "source": [
    "import numpy as np\n",
    "import pandas as pd\n",
    "from scipy import stats\n"
   ]
  },
  {
   "cell_type": "code",
   "execution_count": 36,
   "id": "f6073c57-ca72-4da2-a08a-a86e86c1e4d6",
   "metadata": {},
   "outputs": [],
   "source": [
    "\n",
    "from scipy import stats\n",
    "\n",
    "example_array = np.array([24, 16, 12, 10, 12, 24, 38, 12, 28, 24])\n",
    "\n",
    "example_mode = stats.mode(example_array)\n"
   ]
  },
  {
   "cell_type": "code",
   "execution_count": 43,
   "id": "6ba35bbc-324a-49fe-93f3-2943c968e02b",
   "metadata": {},
   "outputs": [],
   "source": [
    "import seaborn as sns\n",
    "import pandas as pd"
   ]
  },
  {
   "cell_type": "code",
   "execution_count": 45,
   "id": "5da4b7e3-f774-4e19-8b73-ebde27213146",
   "metadata": {},
   "outputs": [
    {
     "data": {
      "text/plain": [
       "pandas.core.frame.DataFrame"
      ]
     },
     "execution_count": 45,
     "metadata": {},
     "output_type": "execute_result"
    }
   ],
   "source": [
    "df = sns.load_dataset('penguins')\n",
    "a = df.sample(5)"
   ]
  },
  {
   "cell_type": "code",
   "execution_count": null,
   "id": "0ed7bc40-1fb3-4486-abef-9a5da06c67f1",
   "metadata": {},
   "outputs": [],
   "source": []
  }
 ],
 "metadata": {
  "kernelspec": {
   "display_name": "Python 3 (ipykernel)",
   "language": "python",
   "name": "python3"
  },
  "language_info": {
   "codemirror_mode": {
    "name": "ipython",
    "version": 3
   },
   "file_extension": ".py",
   "mimetype": "text/x-python",
   "name": "python",
   "nbconvert_exporter": "python",
   "pygments_lexer": "ipython3",
   "version": "3.12.4"
  }
 },
 "nbformat": 4,
 "nbformat_minor": 5
}
