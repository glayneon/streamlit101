{
 "cells": [
  {
   "cell_type": "code",
   "execution_count": 8,
   "id": "cf4026af-5420-42e6-adb2-4682788396c9",
   "metadata": {},
   "outputs": [],
   "source": [
    "# https://realpython.com/python-pathlib/\n",
    "from pathlib import Path\n",
    "import os"
   ]
  },
  {
   "cell_type": "code",
   "execution_count": 6,
   "id": "7a5fa9b8-9c3a-4343-8894-5faefbc6259b",
   "metadata": {},
   "outputs": [],
   "source": [
    "Path.cwd() / 'pylab'"
   ]
  },
  {
   "cell_type": "code",
   "execution_count": 12,
   "id": "2f276327-af13-4d27-844a-9f74afe9b79c",
   "metadata": {},
   "outputs": [
    {
     "ename": "AttributeError",
     "evalue": "'str' object has no attribute 'isdir'",
     "output_type": "error",
     "traceback": [
      "\u001b[1;31m---------------------------------------------------------------------------\u001b[0m",
      "\u001b[1;31mAttributeError\u001b[0m                            Traceback (most recent call last)",
      "Cell \u001b[1;32mIn[12], line 1\u001b[0m\n\u001b[1;32m----> 1\u001b[0m \u001b[43ma\u001b[49m\u001b[38;5;241;43m.\u001b[39;49m\u001b[43misdir\u001b[49m()\n",
      "\u001b[1;31mAttributeError\u001b[0m: 'str' object has no attribute 'isdir'"
     ]
    }
   ],
   "source": []
  },
  {
   "cell_type": "code",
   "execution_count": 20,
   "id": "b7f67e58-8cea-4957-99d6-f96c70cf4717",
   "metadata": {},
   "outputs": [
    {
     "name": "stdout",
     "output_type": "stream",
     "text": [
      "C:\\Users\\Chase\\pylab\\fastcampus\\new_bora_search\\bora_search.ipynb\n",
      "C:\\Users\\Chase\\pylab\\fastcampus\\new_hello-selenium\\hello-selenium.ipynb\n",
      "C:\\Users\\Chase\\pylab\\fastcampus\\new_module_re\\module_re.ipynb\n",
      "C:\\Users\\Chase\\pylab\\fastcampus\\new_pathlib\\pathlib.ipynb\n"
     ]
    }
   ],
   "source": [
    "# glob\n",
    "for file in Path.cwd().glob('*.ipynb'):\n",
    "    new_place = Path.cwd() / f\"new_{file.stem}\" / file.name\n",
    "    print(new_place)"
   ]
  },
  {
   "cell_type": "code",
   "execution_count": 23,
   "id": "41920211-14c1-4110-aafa-d1df38667766",
   "metadata": {},
   "outputs": [],
   "source": [
    "contents = '''\n",
    "<!-- shopping_list.md -->\n",
    "\n",
    "# Shopping List\n",
    "\n",
    "## Fruit\n",
    "\n",
    "* Banana\n",
    "* Apple\n",
    "* Peach\n",
    "\n",
    "## Candy\n",
    "\n",
    "* Chocolate\n",
    "* Nougat Bits\n",
    "'''\n",
    "\n",
    "with open('test.md', 'w') as f:\n",
    "    f.write(contents)\n"
   ]
  },
  {
   "cell_type": "code",
   "execution_count": 27,
   "id": "297a69ef-6c72-46ce-98ee-508626d85f0b",
   "metadata": {},
   "outputs": [],
   "source": [
    "for i in Path.cwd().glob('*.md'):\n",
    "    if i.name == 'test.md':\n",
    "        new_file = f\"new_{i.name}\"\n",
    "        i.replace(new_file)"
   ]
  },
  {
   "cell_type": "code",
   "execution_count": 28,
   "id": "ff1435bb-525f-47d3-a2cb-7ba59eb66807",
   "metadata": {},
   "outputs": [
    {
     "name": "stdout",
     "output_type": "stream",
     "text": [
      "new_test.md\n"
     ]
    }
   ],
   "source": [
    "for i in Path.cwd().glob('*.md'):\n",
    "    print(i.name)"
   ]
  },
  {
   "cell_type": "code",
   "execution_count": 30,
   "id": "3f6f5586-3dbb-4c53-be6f-2328c02fb8cb",
   "metadata": {},
   "outputs": [
    {
     "name": "stdout",
     "output_type": "stream",
     "text": [
      "* Banana\n",
      "* Apple\n",
      "* Peach\n",
      "* Chocolate\n",
      "* Nougat Bits\n"
     ]
    }
   ],
   "source": [
    "a = Path.cwd() / 'new_test.md'\n",
    "with a.open('r', encoding='utf-8') as file:\n",
    "    content = file.read()\n",
    "    groceries = [line for line in content.splitlines() if line.startswith('*')]\n",
    "    print(\"\\n\".join(groceries))"
   ]
  },
  {
   "cell_type": "code",
   "execution_count": 35,
   "id": "b1663abc-83b4-4366-be2f-7cfb88a90065",
   "metadata": {
    "scrolled": true
   },
   "outputs": [
    {
     "name": "stdout",
     "output_type": "stream",
     "text": [
      "\n",
      "<!-- shopping_list.md -->\n",
      "\n",
      "# Shopping List\n",
      "\n",
      "## Fruit\n",
      "\n",
      "* Banana\n",
      "* Apple\n",
      "* Peach\n",
      "\n",
      "## Candy\n",
      "\n",
      "* Chocolate\n",
      "* Nougat Bits\n",
      "\n",
      "    ## Test\n",
      "    \n",
      "    * test1\n",
      "    * test2\n",
      "    \n",
      "    ## Test\n",
      "    \n",
      "    * test1\n",
      "    * test2\n",
      "    \n",
      "    ## Test\n",
      "    \n",
      "    * test1\n",
      "    * test2\n",
      "    \n",
      "## Test\n",
      "    \n",
      "* test1\n",
      "* test2\n",
      "\n",
      "## Test\n",
      "    \n",
      "* test1\n",
      "* test2\n",
      "\n"
     ]
    }
   ],
   "source": [
    "a = Path.cwd() / 'new_test.md'\n",
    "with a.open('a+', encoding='utf-8') as file:\n",
    "    content = \"\"\"\n",
    "## Test\n",
    "    \n",
    "* test1\n",
    "* test2\n",
    "\"\"\"\n",
    "    file.write(content)\n",
    "\n"
   ]
  },
  {
   "cell_type": "code",
   "execution_count": 36,
   "id": "34330d79-2d07-4003-b488-e3f7569cb57f",
   "metadata": {},
   "outputs": [
    {
     "name": "stdout",
     "output_type": "stream",
     "text": [
      "* Banana\n",
      "* Apple\n",
      "* Peach\n",
      "* Chocolate\n",
      "* Nougat Bits\n",
      "* test1\n",
      "* test2\n",
      "* test1\n",
      "* test2\n"
     ]
    }
   ],
   "source": [
    "# check\n",
    "with a.open('r', encoding='utf-8') as file:\n",
    "    content = file.read()\n",
    "    all_list = [ x for x in content.splitlines() if x.startswith('*')]\n",
    "    print('\\n'.join(all_list))"
   ]
  },
  {
   "cell_type": "code",
   "execution_count": 41,
   "id": "fc3c935b-46f7-4e34-92c8-b6db88811d6d",
   "metadata": {},
   "outputs": [
    {
     "data": {
      "text/plain": [
       "355"
      ]
     },
     "execution_count": 41,
     "metadata": {},
     "output_type": "execute_result"
    }
   ],
   "source": [
    "# copying files\n",
    "source = Path('new_test.md')\n",
    "new = source.with_stem('chase_test')\n",
    "new.write_bytes(source.read_bytes())"
   ]
  },
  {
   "cell_type": "code",
   "execution_count": 43,
   "id": "cd1918fa-5830-4792-b147-9e4e79a9e346",
   "metadata": {},
   "outputs": [
    {
     "name": "stdout",
     "output_type": "stream",
     "text": [
      "chase_test.md\n",
      "new_test.md\n"
     ]
    }
   ],
   "source": [
    "for x in Path.cwd().glob('*.md'):\n",
    "    print(x.name)"
   ]
  },
  {
   "cell_type": "code",
   "execution_count": 44,
   "id": "c59d409a-414e-4b97-82a6-10c307acf716",
   "metadata": {},
   "outputs": [
    {
     "data": {
      "text/plain": [
       "Counter({'': 13,\n",
       "         '.ipynb': 4,\n",
       "         '.md': 2,\n",
       "         '.exe': 1,\n",
       "         '.py': 1,\n",
       "         '.cfg': 1,\n",
       "         '.txt': 1})"
      ]
     },
     "execution_count": 44,
     "metadata": {},
     "output_type": "execute_result"
    }
   ],
   "source": [
    "from collections import Counter\n",
    "Counter(path.suffix for path in Path.cwd().iterdir())"
   ]
  },
  {
   "cell_type": "code",
   "execution_count": null,
   "id": "cdd8f268-c36d-47e9-bcf5-1e03ba429ae5",
   "metadata": {},
   "outputs": [],
   "source": []
  }
 ],
 "metadata": {
  "kernelspec": {
   "display_name": "Python 3 (ipykernel)",
   "language": "python",
   "name": "python3"
  },
  "language_info": {
   "codemirror_mode": {
    "name": "ipython",
    "version": 3
   },
   "file_extension": ".py",
   "mimetype": "text/x-python",
   "name": "python",
   "nbconvert_exporter": "python",
   "pygments_lexer": "ipython3",
   "version": "3.12.4"
  }
 },
 "nbformat": 4,
 "nbformat_minor": 5
}
