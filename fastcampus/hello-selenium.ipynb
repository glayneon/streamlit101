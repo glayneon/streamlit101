{
 "cells": [
  {
   "cell_type": "code",
   "execution_count": 1,
   "id": "e3127fb1-5909-4558-b17b-eebf96d359e7",
   "metadata": {},
   "outputs": [],
   "source": [
    "from selenium import webdriver\n",
    "a = webdriver.Chrome()"
   ]
  },
  {
   "cell_type": "code",
   "execution_count": 1,
   "id": "f241b828-400a-44de-b67a-55734bee0ebb",
   "metadata": {},
   "outputs": [
    {
     "name": "stdout",
     "output_type": "stream",
     "text": [
      "./part3\\[PART3] 필요한 데이터는 가져다 쓰자\n"
     ]
    }
   ],
   "source": [
    "from glob import glob\n",
    "a = glob('./part3/*')\n",
    "\n",
    "for i in a:\n",
    "    print(i)\n"
   ]
  },
  {
   "cell_type": "code",
   "execution_count": null,
   "id": "9fa97da1-eb60-4f80-82d7-3f2ae67973a0",
   "metadata": {},
   "outputs": [],
   "source": [
    "import pandas as pd\n",
    "\n",
    "df = pd.read_"
   ]
  }
 ],
 "metadata": {
  "kernelspec": {
   "display_name": "Python 3 (ipykernel)",
   "language": "python",
   "name": "python3"
  },
  "language_info": {
   "codemirror_mode": {
    "name": "ipython",
    "version": 3
   },
   "file_extension": ".py",
   "mimetype": "text/x-python",
   "name": "python",
   "nbconvert_exporter": "python",
   "pygments_lexer": "ipython3",
   "version": "3.12.4"
  }
 },
 "nbformat": 4,
 "nbformat_minor": 5
}
