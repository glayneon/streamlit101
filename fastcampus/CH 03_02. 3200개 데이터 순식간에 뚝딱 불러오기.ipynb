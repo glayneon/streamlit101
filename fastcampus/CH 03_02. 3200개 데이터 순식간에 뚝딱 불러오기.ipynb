{
 "cells": [
  {
   "attachments": {},
   "cell_type": "markdown",
   "metadata": {},
   "source": [
    "### 이번 실습에서는 다음 내용들을 배웁니다.\n",
    "\n",
    "\n",
    "- pandas에서 대용량 데이터를 불러올 때 사용할 수 있는 방법들을 배워봅니다.\n",
    "\n",
    "\n",
    "- 대용량 데이터 분석에서 주의해야할 점들을 다룹니다.\n",
    "\n",
    "데이터 링크 : [다운로드](https://drive.google.com/file/d/10Am_lQnYbUhACh_z5HKlN-lBRPgoUAFp/view?usp=share_link)"
   ]
  },
  {
   "cell_type": "code",
   "execution_count": 1,
   "metadata": {},
   "outputs": [],
   "source": [
    "import pandas as pd\n",
    "from time import time"
   ]
  },
  {
   "cell_type": "markdown",
   "metadata": {},
   "source": [
    "### Load Transaction data\n",
    "\n",
    "- pandas로 데이터를 읽어온 뒤, 기본적인 데이터를 확인해봅니다."
   ]
  },
  {
   "cell_type": "code",
   "execution_count": 2,
   "metadata": {},
   "outputs": [
    {
     "name": "stdout",
     "output_type": "stream",
     "text": [
      "Loading Time : 19.239510536193848 sec.\n"
     ]
    }
   ],
   "source": [
    "# Load data (pandas version)\n",
    "start = time()\n",
    "train = pd.read_csv('./data/opinet/transactions_train.csv')\n",
    "end = time()\n",
    "\n",
    "print(f\"Loading Time : {end-start} sec.\")"
   ]
  },
  {
   "cell_type": "code",
   "execution_count": 6,
   "metadata": {},
   "outputs": [
    {
     "name": "stdout",
     "output_type": "stream",
     "text": [
      "Memory Usage : 5.803 GiB\n"
     ]
    }
   ],
   "source": [
    "# Check memory usage\n",
    "mem_usage = train.memory_usage(deep=True).sum() / 1024 / 1024 / 1024\n",
    "print(f\"Memory Usage : {mem_usage:.4} GiB\")"
   ]
  },
  {
   "cell_type": "markdown",
   "metadata": {},
   "source": [
    "### 데이터를 가져오는 첫번째 방법. parquet\n",
    "\n",
    "- 훨씬 더 데이터를 빠르게 가져올 수 있는 구조인 parquet 파일로 변환합니다."
   ]
  },
  {
   "cell_type": "code",
   "execution_count": 8,
   "metadata": {},
   "outputs": [
    {
     "name": "stdout",
     "output_type": "stream",
     "text": [
      "Loading Time : 0.0039861202239990234 sec.\n"
     ]
    },
    {
     "data": {
      "text/html": [
       "<div>\n",
       "<style scoped>\n",
       "    .dataframe tbody tr th:only-of-type {\n",
       "        vertical-align: middle;\n",
       "    }\n",
       "\n",
       "    .dataframe tbody tr th {\n",
       "        vertical-align: top;\n",
       "    }\n",
       "\n",
       "    .dataframe thead th {\n",
       "        text-align: right;\n",
       "    }\n",
       "</style>\n",
       "<table border=\"1\" class=\"dataframe\">\n",
       "  <thead>\n",
       "    <tr style=\"text-align: right;\">\n",
       "      <th></th>\n",
       "      <th>t_dat</th>\n",
       "      <th>customer_id</th>\n",
       "      <th>article_id</th>\n",
       "      <th>price</th>\n",
       "      <th>sales_channel_id</th>\n",
       "    </tr>\n",
       "  </thead>\n",
       "  <tbody>\n",
       "    <tr>\n",
       "      <th>0</th>\n",
       "      <td>2018-09-20</td>\n",
       "      <td>000058a12d5b43e67d225668fa1f8d618c13dc232df0ca...</td>\n",
       "      <td>663713001</td>\n",
       "      <td>0.050831</td>\n",
       "      <td>2</td>\n",
       "    </tr>\n",
       "    <tr>\n",
       "      <th>1</th>\n",
       "      <td>2018-09-20</td>\n",
       "      <td>000058a12d5b43e67d225668fa1f8d618c13dc232df0ca...</td>\n",
       "      <td>541518023</td>\n",
       "      <td>0.030492</td>\n",
       "      <td>2</td>\n",
       "    </tr>\n",
       "    <tr>\n",
       "      <th>2</th>\n",
       "      <td>2018-09-20</td>\n",
       "      <td>00007d2de826758b65a93dd24ce629ed66842531df6699...</td>\n",
       "      <td>505221004</td>\n",
       "      <td>0.015237</td>\n",
       "      <td>2</td>\n",
       "    </tr>\n",
       "    <tr>\n",
       "      <th>3</th>\n",
       "      <td>2018-09-20</td>\n",
       "      <td>00007d2de826758b65a93dd24ce629ed66842531df6699...</td>\n",
       "      <td>685687003</td>\n",
       "      <td>0.016932</td>\n",
       "      <td>2</td>\n",
       "    </tr>\n",
       "    <tr>\n",
       "      <th>4</th>\n",
       "      <td>2018-09-20</td>\n",
       "      <td>00007d2de826758b65a93dd24ce629ed66842531df6699...</td>\n",
       "      <td>685687004</td>\n",
       "      <td>0.016932</td>\n",
       "      <td>2</td>\n",
       "    </tr>\n",
       "    <tr>\n",
       "      <th>...</th>\n",
       "      <td>...</td>\n",
       "      <td>...</td>\n",
       "      <td>...</td>\n",
       "      <td>...</td>\n",
       "      <td>...</td>\n",
       "    </tr>\n",
       "    <tr>\n",
       "      <th>995</th>\n",
       "      <td>2018-09-20</td>\n",
       "      <td>05943a58bd172641b80919a9bdf14012df940800bc74d0...</td>\n",
       "      <td>661794001</td>\n",
       "      <td>0.152525</td>\n",
       "      <td>2</td>\n",
       "    </tr>\n",
       "    <tr>\n",
       "      <th>996</th>\n",
       "      <td>2018-09-20</td>\n",
       "      <td>05943a58bd172641b80919a9bdf14012df940800bc74d0...</td>\n",
       "      <td>661794001</td>\n",
       "      <td>0.152525</td>\n",
       "      <td>2</td>\n",
       "    </tr>\n",
       "    <tr>\n",
       "      <th>997</th>\n",
       "      <td>2018-09-20</td>\n",
       "      <td>05943a58bd172641b80919a9bdf14012df940800bc74d0...</td>\n",
       "      <td>661794002</td>\n",
       "      <td>0.152525</td>\n",
       "      <td>2</td>\n",
       "    </tr>\n",
       "    <tr>\n",
       "      <th>998</th>\n",
       "      <td>2018-09-20</td>\n",
       "      <td>05943a58bd172641b80919a9bdf14012df940800bc74d0...</td>\n",
       "      <td>661794002</td>\n",
       "      <td>0.152525</td>\n",
       "      <td>2</td>\n",
       "    </tr>\n",
       "    <tr>\n",
       "      <th>999</th>\n",
       "      <td>2018-09-20</td>\n",
       "      <td>059d4230aeb70d519fb5e5e5ec8f5efc6c3eaad65b06af...</td>\n",
       "      <td>516903005</td>\n",
       "      <td>0.033881</td>\n",
       "      <td>2</td>\n",
       "    </tr>\n",
       "  </tbody>\n",
       "</table>\n",
       "<p>1000 rows × 5 columns</p>\n",
       "</div>"
      ],
      "text/plain": [
       "          t_dat                                        customer_id  \\\n",
       "0    2018-09-20  000058a12d5b43e67d225668fa1f8d618c13dc232df0ca...   \n",
       "1    2018-09-20  000058a12d5b43e67d225668fa1f8d618c13dc232df0ca...   \n",
       "2    2018-09-20  00007d2de826758b65a93dd24ce629ed66842531df6699...   \n",
       "3    2018-09-20  00007d2de826758b65a93dd24ce629ed66842531df6699...   \n",
       "4    2018-09-20  00007d2de826758b65a93dd24ce629ed66842531df6699...   \n",
       "..          ...                                                ...   \n",
       "995  2018-09-20  05943a58bd172641b80919a9bdf14012df940800bc74d0...   \n",
       "996  2018-09-20  05943a58bd172641b80919a9bdf14012df940800bc74d0...   \n",
       "997  2018-09-20  05943a58bd172641b80919a9bdf14012df940800bc74d0...   \n",
       "998  2018-09-20  05943a58bd172641b80919a9bdf14012df940800bc74d0...   \n",
       "999  2018-09-20  059d4230aeb70d519fb5e5e5ec8f5efc6c3eaad65b06af...   \n",
       "\n",
       "     article_id     price  sales_channel_id  \n",
       "0     663713001  0.050831                 2  \n",
       "1     541518023  0.030492                 2  \n",
       "2     505221004  0.015237                 2  \n",
       "3     685687003  0.016932                 2  \n",
       "4     685687004  0.016932                 2  \n",
       "..          ...       ...               ...  \n",
       "995   661794001  0.152525                 2  \n",
       "996   661794001  0.152525                 2  \n",
       "997   661794002  0.152525                 2  \n",
       "998   661794002  0.152525                 2  \n",
       "999   516903005  0.033881                 2  \n",
       "\n",
       "[1000 rows x 5 columns]"
      ]
     },
     "execution_count": 8,
     "metadata": {},
     "output_type": "execute_result"
    }
   ],
   "source": [
    "# parquet로 다시 만들어봅시다.\n",
    "start_time = time()\n",
    "part = pd.read_csv('./data/opinet/transactions_train.csv', \n",
    "                   nrows=1000)\n",
    "stop_time = time()\n",
    "print(f\"Loading Time : {stop_time-start_time} sec.\")\n"
   ]
  },
  {
   "cell_type": "code",
   "execution_count": 9,
   "metadata": {},
   "outputs": [
    {
     "name": "stdout",
     "output_type": "stream",
     "text": [
      "Loading Time : 12.414984226226807 sec.\n"
     ]
    }
   ],
   "source": [
    "start_time = time()\n",
    "part2 = pd.read_csv('./data/opinet/transactions_train.csv',\n",
    "                    usecols=['t_dat', 'sales_channel_id'])\n",
    "stop_time = time()\n",
    "\n",
    "print(f\"Loading Time : {stop_time-start_time} sec.\")"
   ]
  },
  {
   "cell_type": "code",
   "execution_count": 10,
   "metadata": {},
   "outputs": [
    {
     "name": "stdout",
     "output_type": "stream",
     "text": [
      "Memory Usage : 1.984 GiB\n"
     ]
    }
   ],
   "source": [
    "mem_usage = part2.memory_usage(deep=True).sum() / 1024 / 1024 / 1024\n",
    "print(f\"Memory Usage : {mem_usage:.4} GiB\")"
   ]
  },
  {
   "cell_type": "markdown",
   "metadata": {},
   "source": [
    "### 데이터를 가져오는 두번째 방법. I/O\n",
    "\n",
    "- 데이터를 쪼개서 들고와봅시다."
   ]
  },
  {
   "cell_type": "code",
   "execution_count": 14,
   "metadata": {},
   "outputs": [
    {
     "name": "stdout",
     "output_type": "stream",
     "text": [
      "sales_channel_id\n",
      "2    2076210\n",
      "1     923790\n",
      "Name: count, dtype: int64\n",
      "sales_channel_id\n",
      "2    2065878\n",
      "1     934122\n",
      "Name: count, dtype: int64\n",
      "sales_channel_id\n",
      "2    2102438\n",
      "1     897562\n",
      "Name: count, dtype: int64\n",
      "sales_channel_id\n",
      "2    2076682\n",
      "1     923318\n",
      "Name: count, dtype: int64\n",
      "sales_channel_id\n",
      "2    2046399\n",
      "1     953601\n",
      "Name: count, dtype: int64\n",
      "sales_channel_id\n",
      "2    2135860\n",
      "1     864140\n",
      "Name: count, dtype: int64\n",
      "sales_channel_id\n",
      "2    2003254\n",
      "1     996746\n",
      "Name: count, dtype: int64\n",
      "sales_channel_id\n",
      "2    2264959\n",
      "1     735041\n",
      "Name: count, dtype: int64\n",
      "sales_channel_id\n",
      "2    2470145\n",
      "1     529855\n",
      "Name: count, dtype: int64\n",
      "sales_channel_id\n",
      "2    1929174\n",
      "1    1070826\n",
      "Name: count, dtype: int64\n",
      "sales_channel_id\n",
      "2    1208863\n",
      "1     579461\n",
      "Name: count, dtype: int64\n"
     ]
    },
    {
     "data": {
      "text/plain": [
       "sales_channel_id\n",
       "2    22379862\n",
       "1     9408462\n",
       "Name: count, dtype: int64"
      ]
     },
     "execution_count": 14,
     "metadata": {},
     "output_type": "execute_result"
    }
   ],
   "source": [
    "sales = part[\"sales_channel_id\"].value_counts() * 0\n",
    "for chunk in pd.read_csv('./data/opinet/transactions_train.csv',\n",
    "                         chunksize=3000000):\n",
    "    print(chunk[\"sales_channel_id\"].value_counts())\n",
    "    sales = sales + chunk[\"sales_channel_id\"].value_counts()\n",
    "\n",
    "sales"
   ]
  },
  {
   "cell_type": "markdown",
   "metadata": {},
   "source": [
    "### 데이터를 가져오는 세번째 방법. 사용할 데이터만 가져오기\n",
    "\n",
    "- column을 지정해서 들고와 볼까요?"
   ]
  },
  {
   "cell_type": "code",
   "execution_count": 18,
   "metadata": {},
   "outputs": [],
   "source": [
    "train_20200601 = train[train['t_dat'] > '2020-06-01']\n",
    "train_20200601.to_csv('transactions_202006.csv', index=False)"
   ]
  }
 ],
 "metadata": {
  "kernelspec": {
   "display_name": "Python 3 (ipykernel)",
   "language": "python",
   "name": "python3"
  },
  "language_info": {
   "codemirror_mode": {
    "name": "ipython",
    "version": 3
   },
   "file_extension": ".py",
   "mimetype": "text/x-python",
   "name": "python",
   "nbconvert_exporter": "python",
   "pygments_lexer": "ipython3",
   "version": "3.12.4"
  },
  "vscode": {
   "interpreter": {
    "hash": "ec0e73bc9db08b8d89387f8f6c8d25ddb5b98c92e4d4d339c361044cb7be0e6a"
   }
  }
 },
 "nbformat": 4,
 "nbformat_minor": 4
}
