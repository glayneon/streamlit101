{
 "cells": [
  {
   "cell_type": "code",
   "execution_count": 9,
   "id": "d831c59f-1088-42db-9eb8-a230c5334a51",
   "metadata": {},
   "outputs": [],
   "source": [
    "# functions   \n",
    "def add(num1, num2):\n",
    "    return num1 + num2\n",
    "\n",
    "def minus(num1, num2):\n",
    "    return num1 - num2\n",
    "\n",
    "def multiple(num1, num2):\n",
    "    return num1 * num2\n",
    "\n",
    "def divide(num1, num2):\n",
    "    return num1 / num2\n",
    "\n",
    "def get_number(message):\n",
    "    isLooping = True\n",
    "\n",
    "    while isLooping:\n",
    "        try:\n",
    "            number = float(input(message))\n",
    "        except ValueError:\n",
    "            print(\"That is NOT number.\")\n",
    "            continue\n",
    "\n",
    "        isLooping = False\n",
    "\n",
    "    return number\n"
   ]
  },
  {
   "cell_type": "code",
   "execution_count": 10,
   "id": "acfd0da5-e590-471e-b4fd-8a8e4023c304",
   "metadata": {},
   "outputs": [
    {
     "name": "stdin",
     "output_type": "stream",
     "text": [
      "Choose a number: \n",
      " asdf\n"
     ]
    },
    {
     "name": "stdout",
     "output_type": "stream",
     "text": [
      "That is NOT number.\n"
     ]
    },
    {
     "name": "stdin",
     "output_type": "stream",
     "text": [
      "Choose a number: \n",
      " c\n"
     ]
    },
    {
     "name": "stdout",
     "output_type": "stream",
     "text": [
      "That is NOT number.\n"
     ]
    },
    {
     "name": "stdin",
     "output_type": "stream",
     "text": [
      "Choose a number: \n",
      " 5\n",
      "Choose another one: \n",
      " b\n"
     ]
    },
    {
     "name": "stdout",
     "output_type": "stream",
     "text": [
      "That is NOT number.\n"
     ]
    },
    {
     "name": "stdin",
     "output_type": "stream",
     "text": [
      "Choose another one: \n",
      " 5\n",
      "\n",
      "Choose an operation:\n",
      "    Options are: +, -, * or /  (Plus, Minus, Multiple, Divide)\n",
      "    write 'exit' to  finish.\n",
      " exit\n"
     ]
    },
    {
     "name": "stdout",
     "output_type": "stream",
     "text": [
      "Four Basic Operation Program is Ended...\n"
     ]
    }
   ],
   "source": [
    "# variables\n",
    "message1 = \"Choose a number: \\n\"\n",
    "message2 = \"Choose another one: \\n\"\n",
    "message3 = '''\n",
    "Choose an operation:\n",
    "    Options are: +, -, * or /  (Plus, Minus, Multiple, Divide)\n",
    "    write 'exit' to  finish.\n",
    "'''\n",
    "fourOps = ['+', '-', '*', '/', 'exit']\n",
    "isLooping = True\n",
    "\n",
    "# main\n",
    "while isLooping:\n",
    "    result = 0\n",
    "    num1 = get_number(message1)\n",
    "    num2 = get_number(message2)\n",
    "    \n",
    "    user_operation = input(message3)\n",
    "\n",
    "    if user_operation not in fourOps:\n",
    "        print(f\"You entered {user_operation}, it's Wrong!\")\n",
    "        continue\n",
    "    else:\n",
    "        if user_operation == fourOps[0]:\n",
    "            result = f\"Result: {add(num1, num2): .2f}\"\n",
    "        elif user_operation == fourOps[1]:\n",
    "            result = f\"Result: {minus(num1, num2): .2f}\"\n",
    "        elif user_operation == fourOps[2]:\n",
    "            result = f\"Result: {multiple(num1, num2): .2f}\"\n",
    "        elif user_operation == fourOps[3]:\n",
    "            if not num2 == 0:\n",
    "                result = f\"Result: {divide(num1, num2): .2f}\"\n",
    "            else:\n",
    "                print(\"Zero(0) Can NOT be Divider!!\")\n",
    "                continue\n",
    "        else:\n",
    "            print(\"Four Basic Operation Program is Ended...\")\n",
    "            isLooping = False\n",
    "\n",
    "    # if 'exit' case, don't print the Result.\n",
    "    if isLooping:\n",
    "        print(result)\n"
   ]
  },
  {
   "cell_type": "code",
   "execution_count": null,
   "id": "c20833f4-b067-49d9-a4c9-4c87a6f73550",
   "metadata": {},
   "outputs": [],
   "source": []
  }
 ],
 "metadata": {
  "kernelspec": {
   "display_name": "Python 3 (ipykernel)",
   "language": "python",
   "name": "python3"
  },
  "language_info": {
   "codemirror_mode": {
    "name": "ipython",
    "version": 3
   },
   "file_extension": ".py",
   "mimetype": "text/x-python",
   "name": "python",
   "nbconvert_exporter": "python",
   "pygments_lexer": "ipython3",
   "version": "3.12.4"
  }
 },
 "nbformat": 4,
 "nbformat_minor": 5
}
