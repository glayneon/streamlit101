{
 "cells": [
  {
   "cell_type": "code",
   "execution_count": 2,
   "id": "312039d5-6778-452f-9293-54ffb8fa7a51",
   "metadata": {},
   "outputs": [],
   "source": [
    "from bs4 import BeautifulSoup\n",
    "import requests\n",
    "import sys"
   ]
  },
  {
   "cell_type": "code",
   "execution_count": 62,
   "id": "9ad8136f-b084-42ef-8d59-4b9f3356bfcd",
   "metadata": {},
   "outputs": [
    {
     "name": "stdout",
     "output_type": "stream",
     "text": [
      "Scrapping https://web3.career/python-jobs?page=1...\n",
      "Scrapping is done...\n",
      "Scrapping https://web3.career/python-jobs?page=2...\n",
      "Scrapping is done...\n",
      "Scrapping https://web3.career/python-jobs?page=3...\n",
      "Scrapping is done...\n",
      "Scrapping https://web3.career/python-jobs?page=4...\n",
      "Scrapping is done...\n",
      "Scrapping https://web3.career/python-jobs?page=5...\n",
      "Scrapping is done...\n",
      "Scrapping https://web3.career/python-jobs?page=6...\n",
      "Scrapping is done...\n",
      "Scrapping https://web3.career/python-jobs?page=7...\n",
      "Scrapping is done...\n",
      "Scrapping https://web3.career/python-jobs?page=8...\n",
      "Scrapping is done...\n",
      "['Senior Software Engineer: Protocol Go IPFS', 'Keyko', '', 'Remote', '/senior-software-engineer-protocol-go-ipfs-keyko/75441']\n",
      "['Smart contract engineer DeFi', 'TruFin Labs', '$90k - $120k', 'London, United Kingdom', '/smart-contract-engineer-defi-trufin-labs/74680']\n",
      "['Senior Full Stack Engineer Backend Focused', 'Story Protocol', '$170k - $230k', 'San Francisco, United States', '/senior-full-stack-engineer-backend-focused-story-protocol/74442']\n",
      "['Python Developer', 'Launchpadtechnologiesinc', '$43k - $55k', 'Latam', '/python-developer-launchpadtechnologiesinc/73690']\n",
      "['Senior Python Software Engineer Web3 DeFi', 'clearmatics', '$36k - $54k', 'Remote', '/senior-python-software-engineer-web3-defi-clearmatics/73500']\n",
      "['DeFi Protocol Engineer Ethereum Python', 'clearmatics', '$36k - $90k', 'Remote', '/defi-protocol-engineer-ethereum-python-clearmatics/73498']\n",
      "['Senior Python Engineer Blockchain Cryptocurrencies', 'Bitpanda', '$200k', 'Vienna, Austria', '/senior-python-engineer-blockchain-cryptocurrencies-bitpanda/71967']\n",
      "['Python BackEnd Engineer Gigster Network', 'Gigster', '$98k - $101k', 'Argentina', '/python-back-end-engineer-gigster-network-gigster/71602']\n",
      "['Software Engineer Python Assets Hedging', 'Bitpanda', '$102k - $144k', 'Vienna, Austria', '/software-engineer-python-assets-hedging-bitpanda/70799']\n",
      "['Senior Software Engineer Blockchain Python', 'Bitpanda', '$105k - $150k', 'Vienna, Austria', '/senior-software-engineer-blockchain-python-bitpanda/70371']\n",
      "['Senior Software Engineer Python', 'Swissblock', '$84k - $112k', 'Baar ZG', '/senior-software-engineer-python-swissblock/70362']\n",
      "['Python Engineer Blockchain Crypto', 'Bitpanda', '$98k - $114k', 'Vienna, Austria', '/python-engineer-blockchain-crypto-bitpanda/70219']\n",
      "['Senior Python Data Engineer Finance Digital Transmation', 'Crypto.com', '$122k - $123k', 'Taipei, Taiwan', '/senior-python-data-engineer-finance-digital-transformation-crypto-com/69134']\n",
      "['Python Engineer', 'Wallet', '$67k - $100k', 'Remote', '/python-engineer-wallet/68750']\n",
      "['Tech lead L2', 'Keyko', '', 'Remote', '/tech-lead-l2-keyko/67404']\n",
      "['Senior BackEnd Engineer Javascript Python', 'Web3 Recruit', '$176k - $300k', 'Remote', '/senior-back-end-engineer-javascript-python-web3-recruit/67989']\n",
      "['Senior Data Scientist $200k', 'Web3 Recruit', '$180k - $200k', 'Remote', '/senior-data-scientist-200k-web3-recruit/67717']\n",
      "['Software Engineer Blockchain Python', 'Bitpanda', '$104k - $150k', 'Vienna, Austria', '/software-engineer-blockchain-python-bitpanda/67421']\n",
      "['Senior BackEnd Engineer Javascript Python', 'Volume', '$175k - $250k', 'Remote', '/senior-back-end-engineer-javascript-python-volume-finance/67202']\n",
      "['Senior Python FrontEnd Developer', 'Stake Capital Group', '$86k - $15k', 'Zürich CH', '/senior-python-front-end-developer-stake-capital-group/66245']\n",
      "['DevOps Site Reliability Engineer', 'Gelato', '', 'Remote', '/devops-site-reliability-engineer-gelato/66091']\n",
      "['Support Engineer with Python', 'CoW Protocol', '$81k - $110k', 'Lisbon, Portugal', '/support-engineer-with-python-cowswap/65965']\n",
      "['DevOps Engineer', 'stakefish', '$140k - $190k', 'Remote', '/devops-engineer-stakefish/65579']\n",
      "['Senior Python Engineer Assets and Hedging', 'Bitpanda', '$87k - $145k', 'Vienna, Austria', '/senior-python-engineer-assets-and-hedging-bitpanda/65455']\n",
      "['Senior QA Engineer Cloud Auto + Java Python Coding', 'Binance', '', 'Taipei, Taiwan', '/senior-qa-engineer-cloud-auto-java-python-coding-binance/65103']\n",
      "['Core Developer Python', 'Wintermute', '$54k - $60k', 'London, United Kingdom', '/core-developer-python-wintermute-trading/64946']\n",
      "['Senior Developer Technical Architect', 'Keyko', '', 'Remote', '/senior-developer-technical-architect-keyko/64698']\n",
      "['Python Backend Engineer', 'WOO', '$71k - $115k', 'Taipei, Taiwan', '/python-backend-engineer-woo/64634']\n",
      "['Python Crawler Engineer', 'Gate.io', '$90k - $150k', 'APAC', '/python-crawler-engineer-gate-io/64555']\n",
      "['Senior Fullstack Developer', 'Lemon.io', '$48k - $110k', 'Canada', '/senior-full-stack-developer-lemon-io/64087']\n",
      "['Data Python Engineer Operations', 'Crypto.com', '$80k - $120k', 'Taipei, Taiwan', '/data-python-engineer-operations-crypto-com/64062']\n",
      "['SENIOR BLOCKCHAIN DEVELOPER', 'Dropbeast', '$60k - $120k', 'Remote', '/senior-blockchain-developer-dropbeast/63926']\n",
      "['Senior BackEnd Engineer Python Javascript Rust', 'Volume', '$175k - $250k', 'Remote', '/senior-back-end-engineer-python-javascript-rust-volume-finance/63714']\n",
      "['Rust Engineer Blockchain Focus', 'Web3 Recruit', '$132k - $174k', 'Remote', '/rust-engineer-blockchain-focus-web3-recruit/63567']\n",
      "['Lead Rust Engineer', 'Rug.ai', '$120k - $300k', 'Remote', '/lead-rust-engineer-rug-ai/62715']\n",
      "['Python Data Engineer Finance Digital Transmation', 'Crypto.com', '$98k - $99k', 'Hong Kong, Hong Kong', '/python-data-engineer-finance-digital-transformation-crypto-com/62480']\n",
      "['Senior Quantitative Developer DeFi Web3', 'Tokemak', '$200k - $300k', 'Remote', '/senior-quantitative-developer-defi-web3-tokemak/61465']\n",
      "['Python SmartContract Developer', 'bemo', '$72k - $100k', 'Remote', '/python-smart-contract-developer-bemo/61062']\n",
      "['Junior Golang Python Developer', 'Digital Currency Group', '$63k - $103k', 'Stamford, CT, United States', '/junior-golang-python-developer-digitalcurrencygroup/60937']\n",
      "['Quantitative Developer Python Crypto', 'Qube Research & Technologies', '$140k - $180k', 'Remote', '/quantitative-developer-python-crypto-quberesearchandtechnologies/60737']\n",
      "['Senior Backend Engineer Python', 'Bitpanda', '$112k - $132k', 'Vienna, Austria', '/senior-backend-engineer-python-bitpanda/60673']\n",
      "['Senior Developer Java Python Data and Quantitative Analytics', 'Crypto.com', '$106k - $165k', 'Singapore, Singapore', '/senior-developer-java-python-data-and-quantitative-analytics-crypto-com/60321']\n",
      "['Lead Devops Engineer', 'DIA', '$90k', 'Remote', '/lead-devops-engineer-dia/59139']\n",
      "['Software Engineer Python', 'Bitpanda', '$92k - $110k', 'Vienna, Austria', '/software-engineer-python-bitpanda/58264']\n",
      "['Software Engineer Python', 'Wintermute', '$71k - $100k', 'London, United Kingdom', '/software-engineer-python-wintermute-trading/9886']\n",
      "['Senior R D Engineer Java Python', 'OKX', '$98k - $104k', 'Singapore, Singapore', '/senior-r-d-engineer-java-python-okx/58941']\n",
      "['Senior Python Software Engineer Web3 DeFi', 'Clearmatics', '$54k - $60k', 'London, United Kingdom', '/senior-python-software-engineer-web3-defi-clearmatics/58882']\n",
      "['Engineer Python', 'Bitpanda', '$49k - $67k', 'Vienna, Austria', '/engineer-python-bitpanda/58332']\n",
      "['Junior Python Engineer', 'Swissblock', '$22k - $31k', 'Zug, Switzerland', '/junior-python-engineer-swissblock/57802']\n",
      "['Senior Quantitative Engineer', 'Tokemak', '$200k - $300k', 'Remote', '/senior-quantitative-engineer-tokemak/57551']\n",
      "['Python Developer Remote', 'Crystal Blockchain Analytics', '$54k - $60k', 'Dublin, Ireland', '/python-developer-remote-crystal/57505']\n",
      "['Software Engineer Python', 'Plai Labs', '$87k - $144k', 'Los Angeles, CA, United States', '/software-engineer-python-plailabsinc/57093']\n",
      "['Data Scientist', 'Strike', '$165k - $180k', 'Remote', '/data-scientist-strike/57057']\n",
      "['Middle Python Developer Remote', 'Crystal Blockchain Analytics', '$54k - $60k', 'Kiev, Ukraine', '/middle-python-developer-remote-crystal/57006']\n",
      "['Lead AI ML Engineer', 'CERE NETWORK', '', 'Remote', '/lead-ai-ml-engineer-cere-network/55978']\n",
      "['Software Engineer Python Go Data+Backend', 'Kronos Research', '$18k - $90k', 'Taipei, Taiwan', '/software-engineer-python-go-data-backend-kronosresearch/55921']\n",
      "['Senior Full Stack Developer Python Javascript', 'Volume', '$36k - $70k', 'Remote', '/senior-full-stack-developer-python-javascript-volume-finance/55900']\n",
      "['Backend Developer', 'Lemon.io', '$70k - $110k', 'Canada', '/back-end-developer-lemon-io/55259']\n",
      "['Technical Product Owner Remote', 'Nillion', '', 'Remote', '/technical-product-owner-remote-nillion/55256']\n",
      "['Senior Python Engineer Blockchain', 'Fireblocks', '$63k - $90k', 'Tel Aviv, Israel', '/senior-python-engineer-blockchain-fireblocks/54888']\n",
      "['Senior Engineer Python', 'Bitpanda', '$91k - $110k', 'Vienna, Austria', '/senior-engineer-python-bitpanda/54864']\n",
      "['Python Developer Senior Python Developer', 'Unlimit', '$84k - $120k', 'Gurgaon, India', '/python-developer-senior-python-developer-unlimit/53334']\n",
      "['Lead Python Architect', 'Plai Labs', '$72k - $99k', 'Los Angeles, CA, United States', '/lead-python-architect-plailabsinc/53278']\n",
      "['DeFi Protocol Engineer Ethereum Python', 'Clearmatics', '$54k - $60k', 'London, United Kingdom', '/defi-protocol-engineer-ethereum-python-clearmatics/53249']\n",
      "['Python Software Engineer Blockchain', 'Clearmatics', '$54k - $60k', 'London, United Kingdom', '/python-software-engineer-blockchain-clearmatics/52811']\n",
      "['Senior Backend Engineer', 'Wawe', '$40k - $75k', 'Remote', '/senior-backend-engineer-wawe/49982']\n",
      "['Senior Django Developer', 'Plai Labs', '$36k - $67k', 'Los Angeles, CA, United States', '/senior-django-developer-plailabsinc/51564']\n",
      "['Blockchain Developer', 'Lemon.io', '$60k - $120k', 'Remote', '/blockchain-developer-lemon-io/51422']\n",
      "['Senior Technical Lead', 'ChainGPT', '$60k - $120k', 'Remote', '/senior-technical-lead-chaingpt/51387']\n",
      "['Fullstack EngineerWeb3 React Node Python', 'Syndr', '$87k - $87k', 'Delhi, India', '/fullstack-engineer-web3-react-node-python-syndr/51284']\n",
      "['Senior Quantitative Developer Python', 'Binance', '', 'Asia', '/senior-quantitative-developer-python-binance/50997']\n",
      "['Options Trader Python', 'Wintermute', '$54k - $60k', 'London, United Kingdom', '/options-trader-python-wintermute-trading/50623']\n",
      "['Senior Python Developer', 'Plai Labs', '$81k - $100k', 'Los Angeles, CA, United States', '/senior-python-developer-plailabsinc/50344']\n",
      "['Senior Software Engineer Python', 'Bitpanda', '$63k - $150k', 'Vienna, Austria', '/senior-software-engineer-python-bitpanda/49399']\n",
      "['Senior Blockchain Developer', 'Lemon.io', '$60k - $120k', 'Remote', '/senior-blockchain-developer-lemon-io/49308']\n",
      "['Senior Python Developer Crystal Blockchain remote', 'Crystal Blockchain Analytics', '$63k - $150k', 'Tallinn, Estonia', '/senior-python-developer-crystal-blockchain-remote-crystal/48331']\n",
      "['Software Engineer Java Python Liquidity Management DeFi Services', 'OKX', '$90k - $96k', 'Hong Kong, Hong Kong', '/software-engineer-java-python-liquidity-management-defi-services-okx/48125']\n",
      "['Software Engineer Python React', 'Nansen.ai', '$63k - $100k', 'London, United Kingdom', '/software-engineer-python-react-nansen/48118']\n",
      "['Software Engineer Web3 Solidity', 'System 9', '$140k - $200k', 'Remote', '/software-engineer-web3-solidity-system-9/39011']\n",
      "['Quantitative Developer', 'Relative Finance', '$70k - $200k', 'Remote', '/quantitative-developer-relative-finance/48008']\n",
      "['Trader Liquid Strategies', 'Nascent', '$120k - $180k', 'Remote', '/trader-liquid-strategies-nascent/44604']\n",
      "['Fullstack Python Developer', 'Lemon.io', '$60k - $95k', 'Remote', '/full-stack-python-developer-lemon-io/47555']\n",
      "['Blockchain Developer', 'Lemon.io', '$60k - $120k', 'Remote', '/blockchain-developer-lemon-io/46961']\n",
      "['Senior Software Engineer', 'Starkware', '', 'Israel', '/senior-software-engineer-starkware/45492']\n",
      "['Web3 Machine Learning Engineer Quantitative Strategist', 'NOYA Network', '', 'Remote', '/web3-machine-learning-engineer-quantitative-strategist-noya-network/45138']\n",
      "['Python a MusicPowered Social Network Empowering Creators', 'BEON.tech', '', 'Los Angeles, CA, United States', '/python-for-a-music-powered-social-network-empowering-creators-beon-tech/44820']\n",
      "['Web3 Site Reliability Engineer', 'Popoo', '', 'Remote', '/web3-site-reliability-engineer-popoo/44704']\n",
      "['Fullstack Developer Python React', 'Lemon.io', '$60k - $110k', 'Remote', '/full-stack-developer-python-react-lemon-io/44453']\n",
      "['Software Engineer Python Quant Platm Data Services HFT Service', 'OKX', '$54k - $65k', 'Hong Kong, Hong Kong', '/software-engineer-python-quant-platform-data-services-hft-service-okx/44357']\n",
      "['Blockchain Developer', 'Lemon.io', '$60k - $120k', 'United Kingdom', '/blockchain-developer-lemon-io/42950']\n",
      "['Python Dev SpiffWorkFlow', 'Status', '$63k - $85k', 'Remote', '/python-dev-spiffworkflow-status/41977']\n",
      "['Blockchain Developer', 'Lemon.io', '$60k - $120k', 'Canada', '/blockchain-developer-lemon-io/41931']\n",
      "['Trading Operations Cryptocurrency Trading must have Python experience', 'GSR', '', 'Singapore, Singapore', '/trading-operations-cryptocurrency-trading-must-have-python-experience-gsr/41382']\n",
      "['Python a SocialMedia Network', 'BEON.tech', '', 'United States', '/python-for-a-social-media-network-beon-tech/41351']\n",
      "['Python Developer Quant Platm Risk Services', 'OKX', '$54k - $55k', 'Singapore, Singapore', '/python-developer-quant-platform-risk-services-okx/40970']\n",
      "['Senior FullStack Engineer', 'Whatnot', '$150k - $250k', 'Remote', '/senior-full-stack-engineer-whatnot/40696']\n",
      "['Python Developer', 'Lemon.io', '$60k - $110k', 'Remote', '/python-developer-lemon-io/40331']\n",
      "['Blockchain Developer', 'lemon.io', '$60k - $120k', 'Remote', '/blockchain-developer-lemon-io/40195']\n",
      "['Blockchain Developer', 'lemon.io', '$60k - $120k', 'Remote', '/blockchain-developer-lemon-io/37448']\n",
      "['Python Developer', 'lemon.io', '$60k - $120k', 'Remote', '/python-developer-lemon-io/37447']\n",
      "['Member of Technical Staff Crypto', 'a16z', '', 'Menlo Park, CA, United States', '/member-of-technical-staff-crypto-a16z/36997']\n",
      "['Senior Backend Engineer Python', 'Ledger', '$63k - $100k', 'France', '/senior-backend-engineer-python-ledger/36788']\n",
      "['Backend Python Developer [REMOTE]', 'Braintrust', '$49k - $65k', 'San Francisco, CA, United States', '/backend-python-developer-remote-braintrust/36105']\n",
      "['Python Developer', 'lemon.io', '$60k - $120k', 'Remote', '/python-developer-lemon-io/36074']\n",
      "['Data Engineer Python Office of the CTO', 'Consensys', '$81k - $87k', 'Remote', '/data-engineer-python-office-of-the-cto-consensys/35208']\n",
      "['Engineering Lead', 'Zash', '$60k - $90k', 'Remote', '/engineering-lead-zash/34856']\n",
      "['Data Scientist', 'Zash', '$50k - $70k', 'Remote', '/data-scientist-zash/34855']\n",
      "['Blockchain Developer', 'lemon.io', '$60k - $110k', 'Remote', '/blockchain-developer-lemon-io/34845']\n",
      "['Python Developer', 'lemon.io', '$60k - $105k', 'Remote', '/python-developer-lemon-io/34782']\n",
      "['Python Developer', 'Binance', '', 'Asia', '/python-developer-binance/34657']\n",
      "['Senior Python Developer Crystal Blockchain remote', 'Bitfury', '$72k - $100k', 'Poland', '/senior-python-developer-crystal-blockchain-remote-bitfury/34527']\n",
      "['Senior Python Developer Crystal Blockchain remote', 'Bitfury', '$72k - $100k', 'Warsaw, Poland', '/senior-python-developer-crystal-blockchain-remote-bitfury/34526']\n",
      "['Senior Python Developer Crystal Blockchain remote', 'Bitfury', '$72k - $100k', 'Belgrade, Serbia', '/senior-python-developer-crystal-blockchain-remote-bitfury/34525']\n",
      "['Senior Python Developer Crystal Blockchain remote', 'Bitfury', '$72k - $100k', 'Istanbul, Turkey', '/senior-python-developer-crystal-blockchain-remote-bitfury/34524']\n",
      "['Senior Blockchain Python Developer', 'Intuition Machines, Inc.', '$43k - $56k', 'Buenos Aires, Argentina', '/senior-blockchain-python-developer-intuitionmachines-inc/34472']\n",
      "['Sr Full Stack Python Engineer Crypto Project', 'Zipdev', '$43k - $86k', 'Monterrey, Mexico', '/sr-full-stack-python-engineer-crypto-project-zipdev/34470']\n",
      "['Data Engineer Python Office of the CTO', 'MetaMask', '$81k - $87k', 'United States', '/data-engineer-python-office-of-the-cto-metamask/34345']\n",
      "['Python Blockchain Developer', 'Idego Group', '$63k - $100k', 'Polands', '/python-blockchain-developer-idegogroup/34226']\n",
      "['Regular Senior Python Blockchain Developer', 'Idego Group', '$72k - $100k', 'Polands', '/regular-senior-python-blockchain-developer-idegogroup/34151']\n",
      "['Software Engineering Lead Python Quant Platm Data Services', 'OKX', '$98k - $108k', 'Hong Kong, Hong Kong', '/software-engineering-lead-python-quant-platform-data-services-okx/33692']\n",
      "['Software Engineer Backend Services Node.JS Python', 'Ledger', '$81k - $84k', 'London, United Kingdom', '/software-engineer-backend-services-node-js-python-ledger/33211']\n",
      "['Software Engineer Python', 'AssemblyAI', '', 'Remote', '/software-engineer-python-assemblyai/33121']\n",
      "['Software Developer Python', 'Payatu', '$71k - $156k', 'Pune, India', '/software-developer-python-payatu/32669']\n",
      "['PYTHON BACKEND ENGINEER', 'Coin Metrics', '$49k - $65k', 'United Kingdom', '/python-backend-engineer-coinmetrics/32570']\n",
      "['API Solution Engineer Python Node.JS', 'Binance', '', 'Asia', '/api-solution-engineer-python-node-js-binance/31851']\n",
      "['ConsenSys Inc Senior Software Engineer Python Direct Hire [Remote]', 'Braintrust', '$71k - $79k', 'San Francisco, CA, United States', '/consensys-inc-senior-software-engineer-python-direct-hire-remote-braintrust/30771']\n",
      "['Senior Staff Python Backend Engineer', 'Kronos Research', '$81k - $84k', 'Taipei, Taiwan', '/senior-staff-python-backend-engineer-kronosresearch/30706']\n",
      "['Python developer Defi Inmation Security Global', 'Amber', '$63k - $100k', 'Remote', '/python-developer-defi-information-security-global-ambergroup/30459']\n",
      "['Fullstack Developer Python React', 'Merge', '$0k', 'United Kingdom', '/fullstack-developer-python-react-merge_fintech/30133']\n",
      "['Python Go Backend Developer', 'Merge', '$0k', 'United Kingdom', '/python-go-backend-developer-merge_fintech/30131']\n",
      "['ConsenSys Inc Python Developer with Devops Skills Direct Hire [Remote]', 'Braintrust', '$54k - $72k', 'San Francisco, CA, United States', '/consensys-inc-python-developer-with-devops-skills-direct-hire-remote-braintrust/29910']\n",
      "['Machine Learning Engineer Python Scala Hadoop Hive [REMOTE]', 'Braintrust', '', 'San Francisco, CA, United States', '/machine-learning-engineer-python-scala-hadoop-hive-remote-braintrust/29877']\n",
      "['Front Office Python Developer', 'Eclipse Trading', '$71k - $100k', 'Hong Kong, Hong Kong', '/front-office-python-developer-eclipsetrading/29809']\n",
      "['Python Engineer', 'HealthVerity', '$30k - $67k', 'Remote', '/python-engineer-healthverity/29404']\n",
      "['Python Data Analyst China', 'Parallel Finance', '$40k - $54k', 'Beijing, China', '/python-data-analyst-china-parallelfinance/28039']\n",
      "['Python Developer with Devops Skills [REMOTE]', 'Braintrust', '$54k - $72k', 'San Francisco, CA, United States', '/python-developer-with-devops-skills-remote-braintrust/28014']\n",
      "['Backend Engineer Python', 'CANDY', '$49k - $67k', 'New York, NY, United States', '/backend-engineer-python-candy/27644']\n",
      "['Python Developer [Remote]', 'Braintrust', '$71k - $100k', 'San Francisco, CA, United States', '/python-developer-remote-braintrust/26593']\n",
      "['Backend Developer', 'VCRED', '$55k - $75k', 'Remote', '/backend-developer-vcred/26475']\n",
      "['Hedge Fund Web3 Python Software Engineer', 'Tao', '$100k - $400k', 'Remote', '/hedge-fund-web3-python-software-engineer-tao/26178']\n",
      "['Backend Engineer Python', 'CANDY', '$49k - $67k', 'New York, NY, United States', '/backend-engineer-python-candy/26108']\n",
      "['Research Analyst', 'VCRED', '$45k - $60k', 'Remote', '/research-analyst-vcred/25441']\n",
      "['Lead Machine Learning Engineer', 'Waivlength', '$140k - $180k', 'Remote', '/lead-machine-learning-engineer-waivlength/25334']\n",
      "['Senior Lead Python Developer Crystal Blockchain', 'Bitfury', '$11k - $62k', 'Amsterdam, Netherlands', '/senior-lead-python-developer-crystal-blockchain-bitfury/25210']\n",
      "['Senior Lead Python Developer Crystal Remote', 'Crystal Blockchain Analytics', '$84k - $110k', 'Poland', '/senior-lead-python-developer-crystal-remote-crystal/24654']\n",
      "['Tech Lead BackEnd Python Vault', 'Ledger', '$90k - $90k', 'London, United Kingdom', '/tech-lead-back-end-python-vault-ledger/24410']\n",
      "['Tech Lead BackEnd Python Ledger Vault', 'Ledger', '$90k - $90k', 'London, United Kingdom', '/tech-lead-back-end-python-ledger-vault-ledger/24364']\n",
      "['BackEnd Engineer Python Vault', 'Ledger', '$49k - $67k', 'London, United Kingdom', '/back-end-engineer-python-vault-ledger/24363']\n",
      "['Backend Software Engineer Python', 'Brooklyn Investment Group', '$49k - $67k', 'New York, NY, United States', '/backend-software-engineer-python-bkln/23941']\n",
      "['Senior Backend Engineer Rust or Python m w d', 'Gnosis', '', 'Berlin, Germany', '/senior-backend-engineer-rust-or-python-m-w-d-gnosis/23830']\n",
      "['Senior Lead Python Developer Crystal Remote', 'Crystal Blockchain Analytics', '$84k - $110k', 'Warsaw, Poland', '/senior-lead-python-developer-crystal-remote-crystal/23802']\n",
      "['Quant Developer Analyst', 'Desmos Partners', '', 'Remote', '/quant-developer-analyst-desmos-partners/23754']\n",
      "['Regular Senior Python Blockchain Developer', 'Idego Group', '$72k - $100k', 'Remote', '/regular-senior-python-blockchain-developer-idegogroup/23545']\n",
      "['Backend Engineer Python', 'CANDY', '$49k - $67k', 'New York, NY, United States', '/backend-engineer-python-candy/23182']\n",
      "['Senior Lead Python Developer Crystal Remote', 'Bitfury', '$84k - $110k', 'Warsaw, Poland', '/senior-lead-python-developer-crystal-remote-bitfury/22271']\n",
      "['Senior Lead Python Developer Crystal Remote', 'Bitfury', '$84k - $110k', 'Poland', '/senior-lead-python-developer-crystal-remote-bitfury/22270']\n",
      "['Python Developer Accounts', 'Careers at Paxful', '$71k - $100k', 'Remote', '/python-developer-accounts-paxful/22196']\n",
      "['Middle QA Automation Engineer Python', 'Careers at Paxful', '$45k - $75k', 'Moscow, Russia', '/middle-qa-automation-engineer-python-paxful/22195']\n",
      "['Python Blockchain Developer', 'Unbound Nation', '$36k - $53k', 'Berlin, Germany', '/python-blockchain-developer-unboundnation/22015']\n",
      "['Senior Python Engineer', 'HealthVerity', '$45k - $100k', 'Remote', '/senior-python-engineer-healthverity/21869']\n",
      "['Blockchain Defi Analyst Python Golang C++', 'Mirana', '$46k - $60k', 'Singapore, Singapore', '/blockchain-defi-analyst-python-golang-c-mirana/21399']\n",
      "['Senior Software Engineer Python Blockchain Wallets', 'BitMEX', '$72k - $100k', 'Zurich, Switzerland', '/senior-software-engineer-python-blockchain-wallets-bitmex/21207']\n",
      "['Staff Software Engineer Python Backend', 'Kronos Research', '$58k - $60k', 'Remote', '/staff-software-engineer-python-backend-kronosresearch/20631']\n",
      "['Python Developer', 'Binance', '', 'Remote', '/python-developer-binance/20149']\n",
      "['Senior Software Engineer Blockchain Go Python AWS Microservices', 'Flylance', '$43k - $56k', 'United States', '/senior-software-engineer-blockchain-go-python-aws-microservices-flylance/19414']\n",
      "['Software Engineer Python Backend', 'Kronos Research', '$49k - $67k', 'Remote', '/software-engineer-python-backend-kronosresearch/18249']\n",
      "['Python Developer', 'IOVLabs', '$71k - $79k', 'Remote', '/python-developer-iovlabs/18217']\n",
      "['senior Python Developer Blockchain Wallets', 'BitMEX', '$72k - $100k', 'Singapore, Singapore', '/senior-python-developer-blockchain-wallets-bitmex/16655']\n",
      "['EQUITY ONLY Python React Flutter Solidity developer interns', \"What's Cookin'\", '$0k', 'Buenos Aires, Argentina', '/equity-only-python-react-flutter-solidity-developer-interns-what-s-cookin/16190']\n",
      "['Senior Lead Python Developer', 'Crystal Blockchain Analytics', '$84k - $110k', 'Kiev, Ukraine', '/senior-lead-python-developer-crystal/16064']\n",
      "['Senior Full Stack Engineer python react node f m x', 'Next Big Thing AG', '$32k - $90k', 'Berlin, Germany', '/senior-full-stack-engineer-python-react-node-f-m-x-nextbigthing/14838']\n",
      "['Senior Software Engineer Custody Engineering Python Blockchain Wallets', 'BitMEX', '$72k - $100k', 'Hong Kong, Hong Kong', '/senior-software-engineer-custody-engineering-python-blockchain-wallets-bitmex/14548']\n",
      "['Software Engineer Custody Engineering Python Blockchain Wallets', 'BitMEX', '$49k - $100k', 'Hong Kong, Hong Kong', '/software-engineer-custody-engineering-python-blockchain-wallets-bitmex/14508']\n",
      "['Software Engineer Solidity + Python', 'IO Global', '$47k - $70k', 'Remote', '/software-engineer-solidity-python-ioglobal/13936']\n",
      "['Blockchain Defi Analyst Python Golang C++', 'Mirana', '$46k - $60k', 'Singapore, Singapore', '/blockchain-defi-analyst-python-golang-c-mirana/13634']\n",
      "['Senior Software Engineer Nifty Gateway Python Django', 'Gemini', '$72k - $110k', 'New York, NY, United States', '/senior-software-engineer-nifty-gateway-python-django-gemini/11023']\n",
      "['Senior Python Data Engineer', 'Gemini', '$91k - $96k', 'New York, NY, United States', '/senior-python-data-engineer-gemini/10980']\n",
      "['Senior Machine Learning Engineer Python', 'Gemini', '$45k - $100k', 'New York, NY, United States', '/senior-machine-learning-engineer-python-gemini/10979']\n",
      "['Software Engineer Python Quant Platm Risk Services', 'OKEx', '$30k - $70k', 'Hong Kong, Hong Kong', '/software-engineer-python-quant-platform-risk-services-okex/10632']\n",
      "['Software Engineer Python Quant Platm Data Services', 'OKEx', '$71k - $100k', 'Hong Kong, Hong Kong', '/software-engineer-python-quant-platform-data-services-okex/10631']\n",
      "['Senior Software Engineer Python', 'Kronos Research', '$71k - $100k', 'Taipei, Taiwan', '/senior-software-engineer-python-kronosresearch/10500']\n",
      "['Senior Lead Python Developer', 'Bitfury', '$84k - $110k', 'Kiev, Ukraine', '/senior-lead-python-developer-bitfury/10023']\n",
      "['Senior Python Developer Django Rest Framework', 'n.exchange', '$70k - $100k', '', '/senior-python-developer-django-rest-framework-n-exchange/8519']\n",
      "['Senior QA Engineer Python PHP', 'Binance', '', 'Toronto, Canada', '/senior-qa-engineer-python-php-binance/7716']\n",
      "['API Solution Engineer Python+Node.JS Developer; Client Support', 'Binance', '', 'Singapore, Singapore', '/api-solution-engineer-python-node-js-developer-client-support-binance/7673']\n",
      "['Senior Python Developer Django Rest Framework', 'n.exchange', '$71k - $100k', 'Vilnius, Lithuania', '/senior-python-developer-django-rest-framework-n-exchange/7512']\n",
      "['Senior Lead Blockchain Software Engineer Solidity Python Java Singapore Remotely', 'Revolut', '$54k - $100k', 'Singapore, Singapore', '/senior-lead-blockchain-software-engineer-solidity-python-java-singapore-remotely-revolut/7497']\n",
      "['Backend Engineer Python', 'WOO Network', '$29k - $90k', 'Warsaw, Poland', '/backend-engineer-python-woonetwork/7379']\n",
      "['DeFi Full Stack Engineer Python Java C++', 'GSR', '$85k - $87k', 'Los Angeles, CA, United States', '/defi-full-stack-engineer-python-java-c-gsr/1312']\n",
      "['DeFi Full Stack Engineer Python Java C++', 'GSR', '$85k - $87k', 'Singapore, Singapore', '/defi-full-stack-engineer-python-java-c-gsr/1216']\n",
      "['MidSenior level Python Application Developer', '28stone', '$91k - $100k', 'Latvia', '/mid-senior-level-python-application-developer-28stone/980']\n",
      "['Senior Lead Blockchain Software Engineer Solidity Python Java Russia Remotely', 'Revolut', '$54k - $100k', 'Moscow, Russia', '/senior-lead-blockchain-software-engineer-solidity-python-java-russia-remotely-revolut/815']\n",
      "['Senior Lead Blockchain Software Engineer Solidity Python Java Germany Remotely', 'Revolut', '$54k - $100k', 'Germany', '/senior-lead-blockchain-software-engineer-solidity-python-java-germany-remotely-revolut/734']\n",
      "['Senior Python Developer Wallet', 'Careers at Paxful', '$71k - $100k', 'Saint Petersburg, Russia', '/senior-python-developer-wallet-paxful/651']\n",
      "['Blockchain Test Engineer Rust Python C#', 'Gluwa', '$54k - $65k', 'San Francisco, CA, United States', '/blockchain-test-engineer-rust-python-c-gluwa/502']\n",
      "['Blockchain Engineer Rust Python C#', 'Gluwa', '$54k - $65k', 'Canada', '/blockchain-engineer-rust-python-c-gluwa/501']\n",
      "['Python Developer Blockchain Wallets', 'BitMEX', '$49k - $100k', 'Hong Kong, Hong Kong', '/python-developer-blockchain-wallets-bitmex/186']\n",
      "['Senior Lead Blockchain Software Engineer Solidity Python Java Poland Remotely', 'Revolut', '$54k - $100k', 'Remote', '/senior-lead-blockchain-software-engineer-solidity-python-java-poland-remotely-revolut/7202']\n",
      "['Senior Lead Blockchain Software Engineer Solidity+Python', 'Revolut', '$11k - $62k', 'London, United Kingdom', '/senior-lead-blockchain-software-engineer-solidity-python-revolut/7201']\n",
      "199\n"
     ]
    }
   ],
   "source": [
    "# variables\n",
    "headers = {\n",
    "    'user-agent':\n",
    "    'Mozilla/5.0 (Windows NT 10.0; Win64; x64) AppleWebKit/537.36 (KHTML, like Gecko) Chrome/127.0.0.0 Safari/537.36',\n",
    "}\n",
    "\n",
    "# for test\n",
    "test_keywords = [\n",
    "    'python',\n",
    "    'java',\n",
    "    'javascript',\n",
    "]\n",
    "\n",
    "class Web3:\n",
    "\n",
    "    def __init__(self, headers=headers):\n",
    "        self.job_data = []\n",
    "        self.web3_url = 'https://web3.career/YOURSEARCH-jobs'\n",
    "\n",
    "        self.headers = headers\n",
    "\n",
    "    def scrap_jobs(self, keyword):\n",
    "        url = self.web3_url.replace('YOURSEARCH', keyword)\n",
    "        is_looping = True\n",
    "        current=1\n",
    "        \n",
    "        # looping for scrapping jobs with pagination\n",
    "        while is_looping:\n",
    "            page_uri = f\"?page={current}\"\n",
    "            print(f\"Scrapping {url}{page_uri}...\")\n",
    "            response = requests.get(url+page_uri, headers=self.headers)\n",
    "    \n",
    "            # conditional for either the site is alive.\n",
    "            if response.status_code != 200:\n",
    "                print(f\"Something Wrong!! \\nStatus Code : {response.status_code}\")\n",
    "                sys.exit(1)\n",
    "            else:\n",
    "                print(f\"Scrapping is done...\")\n",
    "\n",
    "            # conditional for pagination\n",
    "            self.soup = BeautifulSoup(response.text, 'html.parser')\n",
    "            try:            \n",
    "                is_end = len(self.soup.find('li', class_='page-item next disabled'))\n",
    "            except TypeError:\n",
    "                is_end = False\n",
    "\n",
    "            jobs = self.soup.find_all('tr', class_='table_row')\n",
    "            for job in jobs:\n",
    "                # conditional for passing Ads\n",
    "                try:\n",
    "                    title = job.find('div', class_='mb-auto align-middle job-title-mobile').text.strip()\n",
    "                except AttributeError:\n",
    "                    continue\n",
    "                link = job.find('div', class_='mb-auto align-middle job-title-mobile').find('a')['href']\n",
    "                company = job.find_all('td', class_='job-location-mobile')[0].text.strip()\n",
    "                location = job.find_all('td', class_='job-location-mobile')[1].text.strip()\n",
    "                salary = job.find('p', class_='ps-0 mb-0 text-salary').text.strip()\n",
    "\n",
    "                self.job_data.append([\n",
    "                    title,\n",
    "                    company,\n",
    "                    salary,\n",
    "                    location,\n",
    "                    link,\n",
    "                ])\n",
    "\n",
    "            if is_end:\n",
    "                is_looping = False\n",
    "            else:\n",
    "                current += 1\n",
    "\n",
    "    def show_jobs(self):\n",
    "        if self.job_data:\n",
    "            for job_info in self.job_data:\n",
    "                print(job_info)\n",
    "            print(len(self.job_data))\n",
    "        else:\n",
    "            print(\"no data..\")\n",
    "\n",
    "\n",
    "## the case for https://berlinstartupjobs.com/engineering/ and pagenation processing\n",
    "jobs = Web3()\n",
    "jobs.scrap_jobs('python')\n",
    "jobs.show_jobs()\n",
    "\n",
    "## the case for keywords\n",
    "# for keyword in test_keywords:\n",
    "#     jobs = BerlinJobs()\n",
    "#     jobs.scrap_jobs(keyword=keyword)\n",
    "#     jobs.show_jobs()\n"
   ]
  },
  {
   "cell_type": "code",
   "execution_count": 48,
   "id": "2f621cdc-c2f4-4109-a44e-7359a14864d1",
   "metadata": {},
   "outputs": [
    {
     "data": {
      "text/plain": [
       "[['Senior Software Engineer: Protocol Go IPFS',\n",
       "  'Keyko',\n",
       "  '',\n",
       "  'Remote',\n",
       "  '/senior-software-engineer-protocol-go-ipfs-keyko/75441'],\n",
       " ['Smart contract engineer DeFi',\n",
       "  'TruFin Labs',\n",
       "  '$90k - $120k',\n",
       "  'London, United Kingdom',\n",
       "  '/smart-contract-engineer-defi-trufin-labs/74680'],\n",
       " ['Senior Full Stack Engineer Backend Focused',\n",
       "  'Story Protocol',\n",
       "  '$170k - $230k',\n",
       "  'San Francisco, United States',\n",
       "  '/senior-full-stack-engineer-backend-focused-story-protocol/74442'],\n",
       " ['Python Developer',\n",
       "  'Launchpadtechnologiesinc',\n",
       "  '$43k - $55k',\n",
       "  'Latam',\n",
       "  '/python-developer-launchpadtechnologiesinc/73690']]"
      ]
     },
     "execution_count": 48,
     "metadata": {},
     "output_type": "execute_result"
    }
   ],
   "source": [
    "jobs.job_data"
   ]
  },
  {
   "cell_type": "code",
   "execution_count": 57,
   "id": "d130bfea-52e6-45b9-b0fa-682e0b098647",
   "metadata": {},
   "outputs": [],
   "source": [
    "headers = {\n",
    "    'user-agent':\n",
    "    'Mozilla/5.0 (Windows NT 10.0; Win64; x64) AppleWebKit/537.36 (KHTML, like Gecko) Chrome/127.0.0.0 Safari/537.36',\n",
    "}\n",
    "response = requests.get('https://web3.career/python-jobs?page=1', headers=headers)"
   ]
  },
  {
   "cell_type": "code",
   "execution_count": 58,
   "id": "eb08fc2d-bd77-43cb-bdfd-43cbf5dd239c",
   "metadata": {},
   "outputs": [],
   "source": [
    "soup = BeautifulSoup(response.text, 'html.parser')"
   ]
  },
  {
   "cell_type": "code",
   "execution_count": 18,
   "id": "9acafc20-acb9-4f29-9bc3-4865ab1afeab",
   "metadata": {},
   "outputs": [],
   "source": [
    "try:\n",
    "    pagenation = len(soup.find('li', class_='page-item next'))\n",
    "except TypeError:\n",
    "    pagenation = None\n",
    "try:\n",
    "    is_end = len(soup.find('li', class_='page-item next disabled'))\n",
    "except TypeError:\n",
    "    is_end = None"
   ]
  },
  {
   "cell_type": "code",
   "execution_count": 19,
   "id": "6d8dcba0-6bad-4a92-bc18-f9f3eb519620",
   "metadata": {},
   "outputs": [],
   "source": [
    "pagenation"
   ]
  },
  {
   "cell_type": "code",
   "execution_count": 20,
   "id": "0adce119-88a1-40fd-9863-4c5664d0d02a",
   "metadata": {},
   "outputs": [
    {
     "data": {
      "text/plain": [
       "1"
      ]
     },
     "execution_count": 20,
     "metadata": {},
     "output_type": "execute_result"
    }
   ],
   "source": [
    "is_end"
   ]
  },
  {
   "cell_type": "code",
   "execution_count": 59,
   "id": "319b0b4d-a64b-4639-8cbe-99b7508bbdcc",
   "metadata": {
    "scrolled": true
   },
   "outputs": [
    {
     "data": {
      "text/plain": [
       "[<tr class=\"table_row\" data-jobid=\"75441\" onclick=\"tableTurboRowClick(event, '/senior-software-engineer-protocol-go-ipfs-keyko/75441')\" style=\"cursor: pointer; ; border-top: 1px solid #43162a;\"> <td data-jobid=\"75441\" scope=\"row\" style=\"display: block !important; width: 500px; margin-top: 10px; margin-left: 10px;\"> <div class=\"d-flex align-middle\" data-jobid=\"75441\"> <div></div> <div class=\"rounded paid_logo_empty position-relative\" data-jobid=\"75441\" data-logo-letter=\"S\"> </div> <div class=\"d-flex flex-column ps-2\" data-jobid=\"75441\"> <div class=\"mb-auto align-middle job-title-mobile\" data-jobid=\"75441\"> <a data-jobid=\"75441\" data-turbo-action=\"advance\" data-turbo-frame=\"job\" href=\"/senior-software-engineer-protocol-go-ipfs-keyko/75441\" style=\" text-decoration: none\"> <h2 class=\"fs-6 fs-md-5 fw-bold my-primary\" data-jobid=\"75441\" style=\"color: white\"> Senior Software Engineer: Protocol Go IPFS </h2> </a> </div> </div> </div> </td> <td class=\"job-location-mobile\" data-jobid=\"75441\" style=\"display: inline-block !important; width: 70%; margin-left: 68px; margin-top: -22px;\"> <a data-jobid=\"75441\" data-turbo-action=\"advance\" data-turbo-frame=\"job\" href=\"/senior-software-engineer-protocol-go-ipfs-keyko/75441\" style=\"text-decoration: none\"> <h3 class=\"\" data-jobid=\"75441\" style=\"color: white; font-size: 12px;\"> Keyko </h3> </a> </td> <td data-jobid=\"75441\" style=\"display: inline-block !important; width: 522px; margin-top: -86px; text-align: end;\"> <time datetime=\"2024-08-09 21:08:56+07:00\" style=\"font-size: 12px; color: grey;\"> 7d </time> </td> <td class=\"job-location-mobile\" data-jobid=\"75441\" style=\"display: inline-block !important; width: 520px; margin-left: 10px; margin-top: -48px;\"> <a data-jobid=\"75441\" href=\"/remote-jobs\" style=\"font-size: 12px; color: #d5d3d3;\">Remote</a> </td> <td data-jobid=\"75441\" style=\"display: inline-block !important; width: 520px; margin-left: 10px; margin-top: -67px; text-align: end;\"> <p class=\"ps-0 mb-0 text-salary\" data-bs-placement=\"top\" data-bs-toggle=\"\" data-jobid=\"75441\" style=\"color: grey;\" title=\"\"> <span class=\"\"></span> </p> </td> <td data-jobid=\"75441\" style=\"display: block !important; margin-left: 10px; margin-top: -60px; margin-bottom: 10px\"> <div> <span class=\"my-badge my-badge-secondary\" style=\"color: #d5d3d3; border-color: #d5d3d3\"> <a class=\"text-shadow-1px\" href=\"/protocol-jobs\" style=\"color: #d5d3d3\"> protocol </a> </span> <span class=\"my-badge my-badge-secondary\" style=\"color: #d5d3d3; border-color: #d5d3d3\"> <a class=\"text-shadow-1px\" href=\"/engineer-jobs\" style=\"color: #d5d3d3\"> engineer </a> </span> <span class=\"my-badge my-badge-secondary\" style=\"color: #d5d3d3; border-color: #d5d3d3\"> <a class=\"text-shadow-1px\" href=\"/golang-jobs\" style=\"color: #d5d3d3\"> golang </a> </span> <span class=\"my-badge my-badge-secondary\" style=\"color: #d5d3d3; border-color: #d5d3d3\"> <a class=\"text-shadow-1px\" href=\"/senior-jobs\" style=\"color: #d5d3d3\"> senior </a> </span> <span class=\"my-badge my-badge-secondary\" style=\"color: #d5d3d3; border-color: #d5d3d3\"> <a class=\"text-shadow-1px\" href=\"/dev-jobs\" style=\"color: #d5d3d3\"> dev </a> </span> </div>  </td> </tr>,\n",
       " <tr class=\"table_row\" data-jobid=\"74680\" onclick=\"tableTurboRowClick(event, '/smart-contract-engineer-defi-trufin-labs/74680')\" style=\"cursor: pointer; ; border-top: 1px solid #43162a;\"> <td data-jobid=\"74680\" scope=\"row\" style=\"display: block !important; width: 500px; margin-top: 10px; margin-left: 10px;\"> <div class=\"d-flex align-middle\" data-jobid=\"74680\"> <img alt=\"TruFin Labs\" class=\"rounded paid_logo lazy\" data-src=\"https://web3.career/rails/active_storage/representations/proxy/eyJfcmFpbHMiOnsibWVzc2FnZSI6IkJBaHBBMGFoQVE9PSIsImV4cCI6bnVsbCwicHVyIjoiYmxvYl9pZCJ9fQ==--6978d8895052986caeed4ee9547bbac37ff40c2b/eyJfcmFpbHMiOnsibWVzc2FnZSI6IkJBaDdCem9MWm05eWJXRjBTU0lJY0c1bkJqb0dSVlE2RW5KbGMybDZaVjkwYjE5bWFYUmJCMmxwYVdrPSIsImV4cCI6bnVsbCwicHVyIjoidmFyaWF0aW9uIn19--ad7667d8ae43bcd8cd94d69c345a74f8f57c92b7/trufin-symbol-white.png\" src=\"https://sh.web3.career/assets/img/other/1pix.png\"/> <div class=\"d-flex flex-column ps-2\" data-jobid=\"74680\"> <div class=\"mb-auto align-middle job-title-mobile\" data-jobid=\"74680\"> <a data-jobid=\"74680\" data-turbo-action=\"advance\" data-turbo-frame=\"job\" href=\"/smart-contract-engineer-defi-trufin-labs/74680\" style=\" text-decoration: none\"> <h2 class=\"fs-6 fs-md-5 fw-bold my-primary\" data-jobid=\"74680\" style=\"color: white\"> Smart contract engineer DeFi </h2> </a> </div> </div> </div> </td> <td class=\"job-location-mobile\" data-jobid=\"74680\" style=\"display: inline-block !important; width: 70%; margin-left: 68px; margin-top: -22px;\"> <a data-jobid=\"74680\" data-turbo-action=\"advance\" data-turbo-frame=\"job\" href=\"/smart-contract-engineer-defi-trufin-labs/74680\" style=\"text-decoration: none\"> <h3 class=\"\" data-jobid=\"74680\" style=\"color: white; font-size: 12px;\"> TruFin Labs </h3> </a> </td> <td data-jobid=\"74680\" style=\"display: inline-block !important; width: 522px; margin-top: -86px; text-align: end;\"> <time datetime=\"2024-08-02 16:08:18+07:00\" style=\"font-size: 12px; color: grey;\"> 14d </time> </td> <td class=\"job-location-mobile\" data-jobid=\"74680\" style=\"display: inline-block !important; width: 520px; margin-left: 10px; margin-top: -48px;\"> <a data-jobid=\"74680\" href=\"/web3-jobs-london\" style=\"font-size: 12px; color: #d5d3d3;\">London</a><span style=\"color: #d5d3d3;\">,</span> <a data-jobid=\"74680\" href=\"/web3-jobs-united-kingdom\" style=\"font-size: 12px; color: #d5d3d3;\">United Kingdom</a> </td> <td data-jobid=\"74680\" style=\"display: inline-block !important; width: 520px; margin-left: 10px; margin-top: -67px; text-align: end;\"> <p class=\"ps-0 mb-0 text-salary\" data-bs-placement=\"top\" data-bs-toggle=\"\" data-jobid=\"74680\" style=\"color: grey;\" title=\"\"> $90k - $120k <span class=\"\"></span> </p> </td> <td data-jobid=\"74680\" style=\"display: block !important; margin-left: 10px; margin-top: -60px; margin-bottom: 10px\"> <div> <span class=\"my-badge my-badge-secondary\" style=\"color: #d5d3d3; border-color: #d5d3d3\"> <a class=\"text-shadow-1px\" href=\"/engineer-jobs\" style=\"color: #d5d3d3\"> engineer </a> </span> <span class=\"my-badge my-badge-secondary\" style=\"color: #d5d3d3; border-color: #d5d3d3\"> <a class=\"text-shadow-1px\" href=\"/ethereum-jobs\" style=\"color: #d5d3d3\"> ethereum </a> </span> <span class=\"my-badge my-badge-secondary\" style=\"color: #d5d3d3; border-color: #d5d3d3\"> <a class=\"text-shadow-1px\" href=\"/aws-jobs\" style=\"color: #d5d3d3\"> aws </a> </span> <span class=\"my-badge my-badge-secondary\" style=\"color: #d5d3d3; border-color: #d5d3d3\"> <a class=\"text-shadow-1px\" href=\"/blockchain-jobs\" style=\"color: #d5d3d3\"> blockchain </a> </span> <span class=\"my-badge my-badge-secondary\" style=\"color: #d5d3d3; border-color: #d5d3d3\"> <a class=\"text-shadow-1px\" href=\"/defi-jobs\" style=\"color: #d5d3d3\"> defi </a> </span> </div>  </td> </tr>,\n",
       " <tr class=\"paid_job border-paid-table table_row\" data-jobid=\"74442\" onclick=\"tableTurboRowClick(event, '/senior-full-stack-engineer-backend-focused-story-protocol/74442')\" style=\"cursor: pointer; ; border-top: 1px solid #43162a;\"> <td data-jobid=\"74442\" scope=\"row\" style=\"display: block !important; width: 500px; margin-top: 10px; margin-left: 10px;\"> <div class=\"d-flex align-middle\" data-jobid=\"74442\"> <img alt=\"Story Protocol\" class=\"rounded paid_logo lazy\" data-src=\"https://web3.career/rails/active_storage/representations/proxy/eyJfcmFpbHMiOnsibWVzc2FnZSI6IkJBaHBBK0dmQVE9PSIsImV4cCI6bnVsbCwicHVyIjoiYmxvYl9pZCJ9fQ==--6168ee9c0a83d0a2ba0fb874ada68c50077f65d7/eyJfcmFpbHMiOnsibWVzc2FnZSI6IkJBaDdCem9MWm05eWJXRjBTU0lKYW5CbFp3WTZCa1ZVT2hKeVpYTnBlbVZmZEc5ZlptbDBXd2RwYVdscCIsImV4cCI6bnVsbCwicHVyIjoidmFyaWF0aW9uIn19--a15e6f56aa50668c8bb99900a25b74008d7ec93c/story_protocol_logo.jpeg\" src=\"https://sh.web3.career/assets/img/other/1pix.png\"/> <div class=\"d-flex flex-column ps-2\" data-jobid=\"74442\"> <div class=\"mb-auto align-middle job-title-mobile\" data-jobid=\"74442\"> <a data-jobid=\"74442\" data-turbo-action=\"advance\" data-turbo-frame=\"job\" href=\"/senior-full-stack-engineer-backend-focused-story-protocol/74442\" style=\" text-decoration: none\"> <h2 class=\"fs-6 fs-md-5 fw-bold my-primary\" data-jobid=\"74442\" style=\"color: white\"> Senior Full Stack Engineer Backend Focused </h2> </a> </div> </div> </div> </td> <td class=\"job-location-mobile\" data-jobid=\"74442\" style=\"display: inline-block !important; width: 70%; margin-left: 68px; margin-top: -22px;\"> <a data-jobid=\"74442\" data-turbo-action=\"advance\" data-turbo-frame=\"job\" href=\"/senior-full-stack-engineer-backend-focused-story-protocol/74442\" style=\"text-decoration: none\"> <h3 class=\"\" data-jobid=\"74442\" style=\"color: white; font-size: 12px;\"> Story Protocol </h3> </a> </td> <td data-jobid=\"74442\" style=\"display: inline-block !important; width: 522px; margin-top: -86px; text-align: end;\"> <time datetime=\"2024-07-31 23:07:09+07:00\" style=\"font-size: 12px; color: grey;\"> 16d </time> </td> <td class=\"job-location-mobile\" data-jobid=\"74442\" style=\"display: inline-block !important; width: 520px; margin-left: 10px; margin-top: -48px;\"> <a data-jobid=\"74442\" href=\"/web3-jobs-san-francisco\" style=\"font-size: 12px; color: #d5d3d3;\">San Francisco</a><span style=\"color: #d5d3d3;\">,</span> <a data-jobid=\"74442\" href=\"/web3-jobs-united-states\" style=\"font-size: 12px; color: #d5d3d3;\">United States</a> </td> <td data-jobid=\"74442\" style=\"display: inline-block !important; width: 520px; margin-left: 10px; margin-top: -67px; text-align: end;\"> <p class=\"ps-0 mb-0 text-salary\" data-bs-placement=\"top\" data-bs-toggle=\"\" data-jobid=\"74442\" style=\"color: grey;\" title=\"\"> $170k - $230k <span class=\"\"></span> </p> </td> <td data-jobid=\"74442\" style=\"display: block !important; margin-left: 10px; margin-top: -60px; margin-bottom: 10px\"> <div> <span class=\"my-badge my-badge-secondary\" style=\"color: #d5d3d3; border-color: #d5d3d3\"> <a class=\"text-shadow-1px\" href=\"/backend-jobs\" style=\"color: #d5d3d3\"> backend </a> </span> <span class=\"my-badge my-badge-secondary\" style=\"color: #d5d3d3; border-color: #d5d3d3\"> <a class=\"text-shadow-1px\" href=\"/engineer-jobs\" style=\"color: #d5d3d3\"> engineer </a> </span> <span class=\"my-badge my-badge-secondary\" style=\"color: #d5d3d3; border-color: #d5d3d3\"> <a class=\"text-shadow-1px\" href=\"/full-stack-jobs\" style=\"color: #d5d3d3\"> full stack </a> </span> <span class=\"my-badge my-badge-secondary\" style=\"color: #d5d3d3; border-color: #d5d3d3\"> <a class=\"text-shadow-1px\" href=\"/senior-jobs\" style=\"color: #d5d3d3\"> senior </a> </span> <span class=\"my-badge my-badge-secondary\" style=\"color: #d5d3d3; border-color: #d5d3d3\"> <a class=\"text-shadow-1px\" href=\"/api-jobs\" style=\"color: #d5d3d3\"> api </a> </span> </div>  </td> </tr>,\n",
       " <tr class=\"table_row\" data-jobid=\"73690\" onclick=\"tableTurboRowClick(event, '/python-developer-launchpadtechnologiesinc/73690')\" style=\"cursor: pointer; ; border-top: 1px solid #43162a;\"> <td data-jobid=\"73690\" scope=\"row\" style=\"display: block !important; width: 500px; margin-top: 10px; margin-left: 10px;\"> <div class=\"d-flex align-middle\" data-jobid=\"73690\"> <div></div> <div class=\"rounded paid_logo_empty position-relative\" data-jobid=\"73690\" data-logo-letter=\"P\"> </div> <div class=\"d-flex flex-column ps-2\" data-jobid=\"73690\"> <div class=\"mb-auto align-middle job-title-mobile\" data-jobid=\"73690\"> <a data-jobid=\"73690\" data-turbo-action=\"advance\" data-turbo-frame=\"job\" href=\"/python-developer-launchpadtechnologiesinc/73690\" style=\" text-decoration: none\"> <h2 class=\"fs-6 fs-md-5 fw-bold my-primary\" data-jobid=\"73690\" style=\"color: white\"> Python Developer </h2> </a> </div> </div> </div> </td> <td class=\"job-location-mobile\" data-jobid=\"73690\" style=\"display: inline-block !important; width: 70%; margin-left: 68px; margin-top: -22px;\"> <a data-jobid=\"73690\" data-turbo-action=\"advance\" data-turbo-frame=\"job\" href=\"/python-developer-launchpadtechnologiesinc/73690\" style=\"text-decoration: none\"> <h3 class=\"\" data-jobid=\"73690\" style=\"color: white; font-size: 12px;\"> Launchpadtechnologiesinc </h3> </a> </td> <td data-jobid=\"73690\" style=\"display: inline-block !important; width: 522px; margin-top: -86px; text-align: end;\"> <time datetime=\"2024-07-28 19:07:52+07:00\" style=\"font-size: 12px; color: grey;\"> 19d </time> </td> <td class=\"job-location-mobile\" data-jobid=\"73690\" style=\"display: inline-block !important; width: 520px; margin-left: 10px; margin-top: -48px;\"> <span style=\"font-size: 12px; color: #d5d3d3;\">Latam</span> </td> <td data-jobid=\"73690\" style=\"display: inline-block !important; width: 520px; margin-left: 10px; margin-top: -67px; text-align: end;\"> <p class=\"ps-0 mb-0 text-salary\" data-bs-placement=\"top\" data-bs-toggle=\"tooltip\" data-jobid=\"73690\" style=\"color: grey;\" title=\"Estimated salary based on similar jobs\"> $43k - $55k <span class=\"estimated_star\"></span> </p> </td> <td data-jobid=\"73690\" style=\"display: block !important; margin-left: 10px; margin-top: -60px; margin-bottom: 10px\"> <div> <span class=\"my-badge my-badge-secondary\" style=\"color: #d5d3d3; border-color: #d5d3d3\"> <a class=\"text-shadow-1px\" href=\"/dev-jobs\" style=\"color: #d5d3d3\"> dev </a> </span> <span class=\"my-badge my-badge-secondary\" style=\"color: #d5d3d3; border-color: #d5d3d3\"> <a class=\"text-shadow-1px\" href=\"/python-jobs\" style=\"color: #d5d3d3\"> python </a> </span> <span class=\"my-badge my-badge-secondary\" style=\"color: #d5d3d3; border-color: #d5d3d3\"> <a class=\"text-shadow-1px\" href=\"/aws-jobs\" style=\"color: #d5d3d3\"> aws </a> </span> </div>  </td> </tr>,\n",
       " <tr ;=\"\" class=\"border-paid-table table_row\" id=\"sponsor_2\" onclick=\"tableTurboRowClickBanner(event, '/metana')\" style=\"cursor: pointer; background-color: #d0fc03; ; border-top: 1px solid #43162a; margin-left: 10px;\"> <a data-turbo=\"false\" href=\"/metana\" rel=\"nofollow noopener noreferrer\" style=\" text-decoration: none\"> <td scope=\"row\" style=\"display: block !important; width: 500px; margin-top: 10px; margin-left: 10px;\"> <div class=\"d-flex\"> <img alt=\"by Metana\" class=\"paid_logo lazy\" data-src=\"https://sh.web3.career/assets/img/web3-companies/metana.jpg\" src=\"https://sh.web3.career/assets/img/other/1pix.png\" style=\"border-color: black; border-style: solid; border-width: 1px;\"/> <div class=\"d-flex flex-column ps-2 align-middle\"> <div class=\"job-title-mobile mb-auto\"> <a class=\"fs-6 fs-md-5 fw-bold my-primary\" data-turbo=\"false\" href=\"/metana\" rel=\"nofollow noopener noreferrer\" style=\" text-decoration: none; color: black;\"> Web3 Solidity Bootcamp - Job Guaranteed 💯 </a> </div> </div> </div> </td> <td class=\"job-location-mobile\" style=\"display: inline-block !important; width: 70%; margin-left: 68px; margin-top: -12px; margin-bottom: 10px;\"> <a aria-label=\"Open by Metana website\" data-turbo=\"false\" href=\"/metana\" rel=\"nofollow noopener noreferrer\" style=\"text-decoration: none\"> Learn job-ready web3 skills on your schedule with 1-on-1 support &amp; get a job, or your money back. </a> </td> <td style=\"display: inline-block !important; width: 522px; margin-top: -86px; text-align: end;\"> <div style=\"font-size: 12px; color: black;\"> </div> </td> <td class=\"job-location-mobile\" style=\"display: inline-block !important; width: 520px; margin-left: 10px; margin-top: -48px;\"> <div class=\"d-flex justify-content-between align-items-center\"> <div style=\" font-size: 12px; margin-top: 20px; color: black;\"> by Metana </div> <a aria-label=\"Open by Metana website\" data-turbo=\"false\" href=\"/metana\" rel=\"nofollow noopener noreferrer\" style=\"background-color: #d0fc03; border: 2px solid black; color: black; font-size: 12px; padding: 0.4375rem 0.8rem;\">Bootcamp Info</a> </div> </td> <td style=\"display: inline-block !important; width: 520px; margin-left: 10px; margin-top: -67px; text-align: end;\"> <p class=\"ps-0 mb-0\" style=\" font-size: 12px; color: black;\"></p> </td> <td style=\"display: block !important; margin-left: 10px; margin-top: -60px; margin-bottom: 10px\"> </td> </a> </tr>,\n",
       " <tr class=\"table_row\" data-jobid=\"73500\" onclick=\"tableTurboRowClick(event, '/senior-python-software-engineer-web3-defi-clearmatics/73500')\" style=\"cursor: pointer; ; border-top: 1px solid #43162a;\"> <td data-jobid=\"73500\" scope=\"row\" style=\"display: block !important; width: 500px; margin-top: 10px; margin-left: 10px;\"> <div class=\"d-flex align-middle\" data-jobid=\"73500\"> <div></div> <div class=\"rounded paid_logo_empty position-relative\" data-jobid=\"73500\" data-logo-letter=\"S\"> </div> <div class=\"d-flex flex-column ps-2\" data-jobid=\"73500\"> <div class=\"mb-auto align-middle job-title-mobile\" data-jobid=\"73500\"> <a data-jobid=\"73500\" data-turbo-action=\"advance\" data-turbo-frame=\"job\" href=\"/senior-python-software-engineer-web3-defi-clearmatics/73500\" style=\" text-decoration: none\"> <h2 class=\"fs-6 fs-md-5 fw-bold my-primary\" data-jobid=\"73500\" style=\"color: white\"> Senior Python Software Engineer Web3 DeFi </h2> </a> </div> </div> </div> </td> <td class=\"job-location-mobile\" data-jobid=\"73500\" style=\"display: inline-block !important; width: 70%; margin-left: 68px; margin-top: -22px;\"> <a data-jobid=\"73500\" data-turbo-action=\"advance\" data-turbo-frame=\"job\" href=\"/senior-python-software-engineer-web3-defi-clearmatics/73500\" style=\"text-decoration: none\"> <h3 class=\"\" data-jobid=\"73500\" style=\"color: white; font-size: 12px;\"> clearmatics </h3> </a> </td> <td data-jobid=\"73500\" style=\"display: inline-block !important; width: 522px; margin-top: -86px; text-align: end;\"> <time datetime=\"2024-07-28 18:07:09+07:00\" style=\"font-size: 12px; color: grey;\"> 19d </time> </td> <td class=\"job-location-mobile\" data-jobid=\"73500\" style=\"display: inline-block !important; width: 520px; margin-left: 10px; margin-top: -48px;\"> <a data-jobid=\"73500\" href=\"/remote-jobs\" style=\"font-size: 12px; color: #d5d3d3;\">Remote</a> </td> <td data-jobid=\"73500\" style=\"display: inline-block !important; width: 520px; margin-left: 10px; margin-top: -67px; text-align: end;\"> <p class=\"ps-0 mb-0 text-salary\" data-bs-placement=\"top\" data-bs-toggle=\"tooltip\" data-jobid=\"73500\" style=\"color: grey;\" title=\"Estimated salary based on similar jobs\"> $36k - $54k <span class=\"estimated_star\"></span> </p> </td> <td data-jobid=\"73500\" style=\"display: block !important; margin-left: 10px; margin-top: -60px; margin-bottom: 10px\"> <div> <span class=\"my-badge my-badge-secondary\" style=\"color: #d5d3d3; border-color: #d5d3d3\"> <a class=\"text-shadow-1px\" href=\"/engineer-jobs\" style=\"color: #d5d3d3\"> engineer </a> </span> <span class=\"my-badge my-badge-secondary\" style=\"color: #d5d3d3; border-color: #d5d3d3\"> <a class=\"text-shadow-1px\" href=\"/python-jobs\" style=\"color: #d5d3d3\"> python </a> </span> <span class=\"my-badge my-badge-secondary\" style=\"color: #d5d3d3; border-color: #d5d3d3\"> <a class=\"text-shadow-1px\" href=\"/senior-jobs\" style=\"color: #d5d3d3\"> senior </a> </span> <span class=\"my-badge my-badge-secondary\" style=\"color: #d5d3d3; border-color: #d5d3d3\"> <a class=\"text-shadow-1px\" href=\"/dev-jobs\" style=\"color: #d5d3d3\"> dev </a> </span> <span class=\"my-badge my-badge-secondary\" style=\"color: #d5d3d3; border-color: #d5d3d3\"> <a class=\"text-shadow-1px\" href=\"/remote-jobs\" style=\"color: #d5d3d3\"> remote </a> </span> </div>  </td> </tr>,\n",
       " <tr class=\"table_row\" data-jobid=\"73498\" onclick=\"tableTurboRowClick(event, '/defi-protocol-engineer-ethereum-python-clearmatics/73498')\" style=\"cursor: pointer; ; border-top: 1px solid #43162a;\"> <td data-jobid=\"73498\" scope=\"row\" style=\"display: block !important; width: 500px; margin-top: 10px; margin-left: 10px;\"> <div class=\"d-flex align-middle\" data-jobid=\"73498\"> <div></div> <div class=\"rounded paid_logo_empty position-relative\" data-jobid=\"73498\" data-logo-letter=\"D\"> </div> <div class=\"d-flex flex-column ps-2\" data-jobid=\"73498\"> <div class=\"mb-auto align-middle job-title-mobile\" data-jobid=\"73498\"> <a data-jobid=\"73498\" data-turbo-action=\"advance\" data-turbo-frame=\"job\" href=\"/defi-protocol-engineer-ethereum-python-clearmatics/73498\" style=\" text-decoration: none\"> <h2 class=\"fs-6 fs-md-5 fw-bold my-primary\" data-jobid=\"73498\" style=\"color: white\"> DeFi Protocol Engineer Ethereum Python </h2> </a> </div> </div> </div> </td> <td class=\"job-location-mobile\" data-jobid=\"73498\" style=\"display: inline-block !important; width: 70%; margin-left: 68px; margin-top: -22px;\"> <a data-jobid=\"73498\" data-turbo-action=\"advance\" data-turbo-frame=\"job\" href=\"/defi-protocol-engineer-ethereum-python-clearmatics/73498\" style=\"text-decoration: none\"> <h3 class=\"\" data-jobid=\"73498\" style=\"color: white; font-size: 12px;\"> clearmatics </h3> </a> </td> <td data-jobid=\"73498\" style=\"display: inline-block !important; width: 522px; margin-top: -86px; text-align: end;\"> <time datetime=\"2024-07-28 18:07:54+07:00\" style=\"font-size: 12px; color: grey;\"> 19d </time> </td> <td class=\"job-location-mobile\" data-jobid=\"73498\" style=\"display: inline-block !important; width: 520px; margin-left: 10px; margin-top: -48px;\"> <a data-jobid=\"73498\" href=\"/remote-jobs\" style=\"font-size: 12px; color: #d5d3d3;\">Remote</a> </td> <td data-jobid=\"73498\" style=\"display: inline-block !important; width: 520px; margin-left: 10px; margin-top: -67px; text-align: end;\"> <p class=\"ps-0 mb-0 text-salary\" data-bs-placement=\"top\" data-bs-toggle=\"tooltip\" data-jobid=\"73498\" style=\"color: grey;\" title=\"Estimated salary based on similar jobs\"> $36k - $90k <span class=\"estimated_star\"></span> </p> </td> <td data-jobid=\"73498\" style=\"display: block !important; margin-left: 10px; margin-top: -60px; margin-bottom: 10px\"> <div> <span class=\"my-badge my-badge-secondary\" style=\"color: #d5d3d3; border-color: #d5d3d3\"> <a class=\"text-shadow-1px\" href=\"/protocol-jobs\" style=\"color: #d5d3d3\"> protocol </a> </span> <span class=\"my-badge my-badge-secondary\" style=\"color: #d5d3d3; border-color: #d5d3d3\"> <a class=\"text-shadow-1px\" href=\"/engineer-jobs\" style=\"color: #d5d3d3\"> engineer </a> </span> <span class=\"my-badge my-badge-secondary\" style=\"color: #d5d3d3; border-color: #d5d3d3\"> <a class=\"text-shadow-1px\" href=\"/python-jobs\" style=\"color: #d5d3d3\"> python </a> </span> <span class=\"my-badge my-badge-secondary\" style=\"color: #d5d3d3; border-color: #d5d3d3\"> <a class=\"text-shadow-1px\" href=\"/ethereum-jobs\" style=\"color: #d5d3d3\"> ethereum </a> </span> <span class=\"my-badge my-badge-secondary\" style=\"color: #d5d3d3; border-color: #d5d3d3\"> <a class=\"text-shadow-1px\" href=\"/remote-jobs\" style=\"color: #d5d3d3\"> remote </a> </span> </div>  </td> </tr>,\n",
       " <tr class=\"table_row\" data-jobid=\"71967\" onclick=\"tableTurboRowClick(event, '/senior-python-engineer-blockchain-cryptocurrencies-bitpanda/71967')\" style=\"cursor: pointer; ; border-top: 1px solid #43162a;\"> <td data-jobid=\"71967\" scope=\"row\" style=\"display: block !important; width: 500px; margin-top: 10px; margin-left: 10px;\"> <div class=\"d-flex align-middle\" data-jobid=\"71967\"> <div></div> <div class=\"rounded paid_logo_empty position-relative\" data-jobid=\"71967\" data-logo-letter=\"S\"> </div> <div class=\"d-flex flex-column ps-2\" data-jobid=\"71967\"> <div class=\"mb-auto align-middle job-title-mobile\" data-jobid=\"71967\"> <a data-jobid=\"71967\" data-turbo-action=\"advance\" data-turbo-frame=\"job\" href=\"/senior-python-engineer-blockchain-cryptocurrencies-bitpanda/71967\" style=\" text-decoration: none\"> <h2 class=\"fs-6 fs-md-5 fw-bold my-primary\" data-jobid=\"71967\" style=\"color: white\"> Senior Python Engineer Blockchain Cryptocurrencies </h2> </a> </div> </div> </div> </td> <td class=\"job-location-mobile\" data-jobid=\"71967\" style=\"display: inline-block !important; width: 70%; margin-left: 68px; margin-top: -22px;\"> <a data-jobid=\"71967\" data-turbo-action=\"advance\" data-turbo-frame=\"job\" href=\"/senior-python-engineer-blockchain-cryptocurrencies-bitpanda/71967\" style=\"text-decoration: none\"> <h3 class=\"\" data-jobid=\"71967\" style=\"color: white; font-size: 12px;\"> Bitpanda </h3> </a> </td> <td data-jobid=\"71967\" style=\"display: inline-block !important; width: 522px; margin-top: -86px; text-align: end;\"> <time datetime=\"2024-07-18 05:07:53+07:00\" style=\"font-size: 12px; color: grey;\"> 29d </time> </td> <td class=\"job-location-mobile\" data-jobid=\"71967\" style=\"display: inline-block !important; width: 520px; margin-left: 10px; margin-top: -48px;\"> <a data-jobid=\"71967\" href=\"/web3-jobs-vienna\" style=\"font-size: 12px; color: #d5d3d3;\">Vienna</a><span style=\"color: #d5d3d3;\">,</span> <a data-jobid=\"71967\" href=\"/web3-jobs-austria\" style=\"font-size: 12px; color: #d5d3d3;\">Austria</a> </td> <td data-jobid=\"71967\" style=\"display: inline-block !important; width: 520px; margin-left: 10px; margin-top: -67px; text-align: end;\"> <p class=\"ps-0 mb-0 text-salary\" data-bs-placement=\"top\" data-bs-toggle=\"tooltip\" data-jobid=\"71967\" style=\"color: grey;\" title=\"Estimated salary based on similar jobs\"> $200k <span class=\"estimated_star\"></span> </p> </td> <td data-jobid=\"71967\" style=\"display: block !important; margin-left: 10px; margin-top: -60px; margin-bottom: 10px\"> <div> <span class=\"my-badge my-badge-secondary\" style=\"color: #d5d3d3; border-color: #d5d3d3\"> <a class=\"text-shadow-1px\" href=\"/engineer-jobs\" style=\"color: #d5d3d3\"> engineer </a> </span> <span class=\"my-badge my-badge-secondary\" style=\"color: #d5d3d3; border-color: #d5d3d3\"> <a class=\"text-shadow-1px\" href=\"/python-jobs\" style=\"color: #d5d3d3\"> python </a> </span> <span class=\"my-badge my-badge-secondary\" style=\"color: #d5d3d3; border-color: #d5d3d3\"> <a class=\"text-shadow-1px\" href=\"/senior-jobs\" style=\"color: #d5d3d3\"> senior </a> </span> <span class=\"my-badge my-badge-secondary\" style=\"color: #d5d3d3; border-color: #d5d3d3\"> <a class=\"text-shadow-1px\" href=\"/blockchain-jobs\" style=\"color: #d5d3d3\"> blockchain </a> </span> <span class=\"my-badge my-badge-secondary\" style=\"color: #d5d3d3; border-color: #d5d3d3\"> <a class=\"text-shadow-1px\" href=\"/aws-jobs\" style=\"color: #d5d3d3\"> aws </a> </span> </div>  </td> </tr>,\n",
       " <tr class=\"table_row\" data-jobid=\"71602\" onclick=\"tableTurboRowClick(event, '/python-back-end-engineer-gigster-network-gigster/71602')\" style=\"cursor: pointer; ; border-top: 1px solid #43162a;\"> <td data-jobid=\"71602\" scope=\"row\" style=\"display: block !important; width: 500px; margin-top: 10px; margin-left: 10px;\"> <div class=\"d-flex align-middle\" data-jobid=\"71602\"> <div></div> <div class=\"rounded paid_logo_empty position-relative\" data-jobid=\"71602\" data-logo-letter=\"P\"> </div> <div class=\"d-flex flex-column ps-2\" data-jobid=\"71602\"> <div class=\"mb-auto align-middle job-title-mobile\" data-jobid=\"71602\"> <a data-jobid=\"71602\" data-turbo-action=\"advance\" data-turbo-frame=\"job\" href=\"/python-back-end-engineer-gigster-network-gigster/71602\" style=\" text-decoration: none\"> <h2 class=\"fs-6 fs-md-5 fw-bold my-primary\" data-jobid=\"71602\" style=\"color: white\"> Python BackEnd Engineer Gigster Network </h2> </a> </div> </div> </div> </td> <td class=\"job-location-mobile\" data-jobid=\"71602\" style=\"display: inline-block !important; width: 70%; margin-left: 68px; margin-top: -22px;\"> <a data-jobid=\"71602\" data-turbo-action=\"advance\" data-turbo-frame=\"job\" href=\"/python-back-end-engineer-gigster-network-gigster/71602\" style=\"text-decoration: none\"> <h3 class=\"\" data-jobid=\"71602\" style=\"color: white; font-size: 12px;\"> Gigster </h3> </a> </td> <td data-jobid=\"71602\" style=\"display: inline-block !important; width: 522px; margin-top: -86px; text-align: end;\"> <time datetime=\"2024-07-15 07:07:39+07:00\" style=\"font-size: 12px; color: grey;\"> 1mo </time> </td> <td class=\"job-location-mobile\" data-jobid=\"71602\" style=\"display: inline-block !important; width: 520px; margin-left: 10px; margin-top: -48px;\"> <a data-jobid=\"71602\" href=\"/web3-jobs-argentina\" style=\"font-size: 12px; color: #d5d3d3;\">Argentina</a> </td> <td data-jobid=\"71602\" style=\"display: inline-block !important; width: 520px; margin-left: 10px; margin-top: -67px; text-align: end;\"> <p class=\"ps-0 mb-0 text-salary\" data-bs-placement=\"top\" data-bs-toggle=\"tooltip\" data-jobid=\"71602\" style=\"color: grey;\" title=\"Estimated salary based on similar jobs\"> $98k - $101k <span class=\"estimated_star\"></span> </p> </td> <td data-jobid=\"71602\" style=\"display: block !important; margin-left: 10px; margin-top: -60px; margin-bottom: 10px\"> <div> <span class=\"my-badge my-badge-secondary\" style=\"color: #d5d3d3; border-color: #d5d3d3\"> <a class=\"text-shadow-1px\" href=\"/backend-jobs\" style=\"color: #d5d3d3\"> backend </a> </span> <span class=\"my-badge my-badge-secondary\" style=\"color: #d5d3d3; border-color: #d5d3d3\"> <a class=\"text-shadow-1px\" href=\"/engineer-jobs\" style=\"color: #d5d3d3\"> engineer </a> </span> <span class=\"my-badge my-badge-secondary\" style=\"color: #d5d3d3; border-color: #d5d3d3\"> <a class=\"text-shadow-1px\" href=\"/python-jobs\" style=\"color: #d5d3d3\"> python </a> </span> <span class=\"my-badge my-badge-secondary\" style=\"color: #d5d3d3; border-color: #d5d3d3\"> <a class=\"text-shadow-1px\" href=\"/aws-jobs\" style=\"color: #d5d3d3\"> aws </a> </span> <span class=\"my-badge my-badge-secondary\" style=\"color: #d5d3d3; border-color: #d5d3d3\"> <a class=\"text-shadow-1px\" href=\"/blockchain-jobs\" style=\"color: #d5d3d3\"> blockchain </a> </span> </div>  </td> </tr>,\n",
       " <tr class=\"table_row\" data-jobid=\"70799\" onclick=\"tableTurboRowClick(event, '/software-engineer-python-assets-hedging-bitpanda/70799')\" style=\"cursor: pointer; ; border-top: 1px solid #43162a;\"> <td data-jobid=\"70799\" scope=\"row\" style=\"display: block !important; width: 500px; margin-top: 10px; margin-left: 10px;\"> <div class=\"d-flex align-middle\" data-jobid=\"70799\"> <div></div> <div class=\"rounded paid_logo_empty position-relative\" data-jobid=\"70799\" data-logo-letter=\"S\"> </div> <div class=\"d-flex flex-column ps-2\" data-jobid=\"70799\"> <div class=\"mb-auto align-middle job-title-mobile\" data-jobid=\"70799\"> <a data-jobid=\"70799\" data-turbo-action=\"advance\" data-turbo-frame=\"job\" href=\"/software-engineer-python-assets-hedging-bitpanda/70799\" style=\" text-decoration: none\"> <h2 class=\"fs-6 fs-md-5 fw-bold my-primary\" data-jobid=\"70799\" style=\"color: white\"> Software Engineer Python Assets Hedging </h2> </a> </div> </div> </div> </td> <td class=\"job-location-mobile\" data-jobid=\"70799\" style=\"display: inline-block !important; width: 70%; margin-left: 68px; margin-top: -22px;\"> <a data-jobid=\"70799\" data-turbo-action=\"advance\" data-turbo-frame=\"job\" href=\"/software-engineer-python-assets-hedging-bitpanda/70799\" style=\"text-decoration: none\"> <h3 class=\"\" data-jobid=\"70799\" style=\"color: white; font-size: 12px;\"> Bitpanda </h3> </a> </td> <td data-jobid=\"70799\" style=\"display: inline-block !important; width: 522px; margin-top: -86px; text-align: end;\"> <time datetime=\"2024-07-09 18:07:44+07:00\" style=\"font-size: 12px; color: grey;\"> 1mo </time> </td> <td class=\"job-location-mobile\" data-jobid=\"70799\" style=\"display: inline-block !important; width: 520px; margin-left: 10px; margin-top: -48px;\"> <a data-jobid=\"70799\" href=\"/web3-jobs-vienna\" style=\"font-size: 12px; color: #d5d3d3;\">Vienna</a><span style=\"color: #d5d3d3;\">,</span> <a data-jobid=\"70799\" href=\"/web3-jobs-austria\" style=\"font-size: 12px; color: #d5d3d3;\">Austria</a> </td> <td data-jobid=\"70799\" style=\"display: inline-block !important; width: 520px; margin-left: 10px; margin-top: -67px; text-align: end;\"> <p class=\"ps-0 mb-0 text-salary\" data-bs-placement=\"top\" data-bs-toggle=\"tooltip\" data-jobid=\"70799\" style=\"color: grey;\" title=\"Estimated salary based on similar jobs\"> $102k - $144k <span class=\"estimated_star\"></span> </p> </td> <td data-jobid=\"70799\" style=\"display: block !important; margin-left: 10px; margin-top: -60px; margin-bottom: 10px\"> <div> <span class=\"my-badge my-badge-secondary\" style=\"color: #d5d3d3; border-color: #d5d3d3\"> <a class=\"text-shadow-1px\" href=\"/engineer-jobs\" style=\"color: #d5d3d3\"> engineer </a> </span> <span class=\"my-badge my-badge-secondary\" style=\"color: #d5d3d3; border-color: #d5d3d3\"> <a class=\"text-shadow-1px\" href=\"/python-jobs\" style=\"color: #d5d3d3\"> python </a> </span> <span class=\"my-badge my-badge-secondary\" style=\"color: #d5d3d3; border-color: #d5d3d3\"> <a class=\"text-shadow-1px\" href=\"/dev-jobs\" style=\"color: #d5d3d3\"> dev </a> </span> <span class=\"my-badge my-badge-secondary\" style=\"color: #d5d3d3; border-color: #d5d3d3\"> <a class=\"text-shadow-1px\" href=\"/aws-jobs\" style=\"color: #d5d3d3\"> aws </a> </span> <span class=\"my-badge my-badge-secondary\" style=\"color: #d5d3d3; border-color: #d5d3d3\"> <a class=\"text-shadow-1px\" href=\"/crypto-jobs\" style=\"color: #d5d3d3\"> crypto </a> </span> </div>  </td> </tr>,\n",
       " <tr class=\"table_row\" data-jobid=\"70371\" onclick=\"tableTurboRowClick(event, '/senior-software-engineer-blockchain-python-bitpanda/70371')\" style=\"cursor: pointer; ; border-top: 1px solid #43162a;\"> <td data-jobid=\"70371\" scope=\"row\" style=\"display: block !important; width: 500px; margin-top: 10px; margin-left: 10px;\"> <div class=\"d-flex align-middle\" data-jobid=\"70371\"> <div></div> <div class=\"rounded paid_logo_empty position-relative\" data-jobid=\"70371\" data-logo-letter=\"S\"> </div> <div class=\"d-flex flex-column ps-2\" data-jobid=\"70371\"> <div class=\"mb-auto align-middle job-title-mobile\" data-jobid=\"70371\"> <a data-jobid=\"70371\" data-turbo-action=\"advance\" data-turbo-frame=\"job\" href=\"/senior-software-engineer-blockchain-python-bitpanda/70371\" style=\" text-decoration: none\"> <h2 class=\"fs-6 fs-md-5 fw-bold my-primary\" data-jobid=\"70371\" style=\"color: white\"> Senior Software Engineer Blockchain Python </h2> </a> </div> </div> </div> </td> <td class=\"job-location-mobile\" data-jobid=\"70371\" style=\"display: inline-block !important; width: 70%; margin-left: 68px; margin-top: -22px;\"> <a data-jobid=\"70371\" data-turbo-action=\"advance\" data-turbo-frame=\"job\" href=\"/senior-software-engineer-blockchain-python-bitpanda/70371\" style=\"text-decoration: none\"> <h3 class=\"\" data-jobid=\"70371\" style=\"color: white; font-size: 12px;\"> Bitpanda </h3> </a> </td> <td data-jobid=\"70371\" style=\"display: inline-block !important; width: 522px; margin-top: -86px; text-align: end;\"> <time datetime=\"2024-07-06 00:07:50+07:00\" style=\"font-size: 12px; color: grey;\"> 1mo </time> </td> <td class=\"job-location-mobile\" data-jobid=\"70371\" style=\"display: inline-block !important; width: 520px; margin-left: 10px; margin-top: -48px;\"> <a data-jobid=\"70371\" href=\"/web3-jobs-vienna\" style=\"font-size: 12px; color: #d5d3d3;\">Vienna</a><span style=\"color: #d5d3d3;\">,</span> <a data-jobid=\"70371\" href=\"/web3-jobs-austria\" style=\"font-size: 12px; color: #d5d3d3;\">Austria</a> </td> <td data-jobid=\"70371\" style=\"display: inline-block !important; width: 520px; margin-left: 10px; margin-top: -67px; text-align: end;\"> <p class=\"ps-0 mb-0 text-salary\" data-bs-placement=\"top\" data-bs-toggle=\"tooltip\" data-jobid=\"70371\" style=\"color: grey;\" title=\"Estimated salary based on similar jobs\"> $105k - $150k <span class=\"estimated_star\"></span> </p> </td> <td data-jobid=\"70371\" style=\"display: block !important; margin-left: 10px; margin-top: -60px; margin-bottom: 10px\"> <div> <span class=\"my-badge my-badge-secondary\" style=\"color: #d5d3d3; border-color: #d5d3d3\"> <a class=\"text-shadow-1px\" href=\"/engineer-jobs\" style=\"color: #d5d3d3\"> engineer </a> </span> <span class=\"my-badge my-badge-secondary\" style=\"color: #d5d3d3; border-color: #d5d3d3\"> <a class=\"text-shadow-1px\" href=\"/python-jobs\" style=\"color: #d5d3d3\"> python </a> </span> <span class=\"my-badge my-badge-secondary\" style=\"color: #d5d3d3; border-color: #d5d3d3\"> <a class=\"text-shadow-1px\" href=\"/senior-jobs\" style=\"color: #d5d3d3\"> senior </a> </span> <span class=\"my-badge my-badge-secondary\" style=\"color: #d5d3d3; border-color: #d5d3d3\"> <a class=\"text-shadow-1px\" href=\"/dev-jobs\" style=\"color: #d5d3d3\"> dev </a> </span> <span class=\"my-badge my-badge-secondary\" style=\"color: #d5d3d3; border-color: #d5d3d3\"> <a class=\"text-shadow-1px\" href=\"/blockchain-jobs\" style=\"color: #d5d3d3\"> blockchain </a> </span> </div>  </td> </tr>,\n",
       " <tr class=\"table_row\" data-jobid=\"70362\" onclick=\"tableTurboRowClick(event, '/senior-software-engineer-python-swissblock/70362')\" style=\"cursor: pointer; ; border-top: 1px solid #43162a;\"> <td data-jobid=\"70362\" scope=\"row\" style=\"display: block !important; width: 500px; margin-top: 10px; margin-left: 10px;\"> <div class=\"d-flex align-middle\" data-jobid=\"70362\"> <div></div> <div class=\"rounded paid_logo_empty position-relative\" data-jobid=\"70362\" data-logo-letter=\"S\"> </div> <div class=\"d-flex flex-column ps-2\" data-jobid=\"70362\"> <div class=\"mb-auto align-middle job-title-mobile\" data-jobid=\"70362\"> <a data-jobid=\"70362\" data-turbo-action=\"advance\" data-turbo-frame=\"job\" href=\"/senior-software-engineer-python-swissblock/70362\" style=\" text-decoration: none\"> <h2 class=\"fs-6 fs-md-5 fw-bold my-primary\" data-jobid=\"70362\" style=\"color: white\"> Senior Software Engineer Python </h2> </a> </div> </div> </div> </td> <td class=\"job-location-mobile\" data-jobid=\"70362\" style=\"display: inline-block !important; width: 70%; margin-left: 68px; margin-top: -22px;\"> <a data-jobid=\"70362\" data-turbo-action=\"advance\" data-turbo-frame=\"job\" href=\"/senior-software-engineer-python-swissblock/70362\" style=\"text-decoration: none\"> <h3 class=\"\" data-jobid=\"70362\" style=\"color: white; font-size: 12px;\"> Swissblock </h3> </a> </td> <td data-jobid=\"70362\" style=\"display: inline-block !important; width: 522px; margin-top: -86px; text-align: end;\"> <time datetime=\"2024-07-05 17:07:02+07:00\" style=\"font-size: 12px; color: grey;\"> 1mo </time> </td> <td class=\"job-location-mobile\" data-jobid=\"70362\" style=\"display: inline-block !important; width: 520px; margin-left: 10px; margin-top: -48px;\"> <span style=\"font-size: 12px; color: #d5d3d3;\"> Baar ZG</span> </td> <td data-jobid=\"70362\" style=\"display: inline-block !important; width: 520px; margin-left: 10px; margin-top: -67px; text-align: end;\"> <p class=\"ps-0 mb-0 text-salary\" data-bs-placement=\"top\" data-bs-toggle=\"tooltip\" data-jobid=\"70362\" style=\"color: grey;\" title=\"Estimated salary based on similar jobs\"> $84k - $112k <span class=\"estimated_star\"></span> </p> </td> <td data-jobid=\"70362\" style=\"display: block !important; margin-left: 10px; margin-top: -60px; margin-bottom: 10px\"> <div> <span class=\"my-badge my-badge-secondary\" style=\"color: #d5d3d3; border-color: #d5d3d3\"> <a class=\"text-shadow-1px\" href=\"/engineer-jobs\" style=\"color: #d5d3d3\"> engineer </a> </span> <span class=\"my-badge my-badge-secondary\" style=\"color: #d5d3d3; border-color: #d5d3d3\"> <a class=\"text-shadow-1px\" href=\"/python-jobs\" style=\"color: #d5d3d3\"> python </a> </span> <span class=\"my-badge my-badge-secondary\" style=\"color: #d5d3d3; border-color: #d5d3d3\"> <a class=\"text-shadow-1px\" href=\"/senior-jobs\" style=\"color: #d5d3d3\"> senior </a> </span> <span class=\"my-badge my-badge-secondary\" style=\"color: #d5d3d3; border-color: #d5d3d3\"> <a class=\"text-shadow-1px\" href=\"/dev-jobs\" style=\"color: #d5d3d3\"> dev </a> </span> <span class=\"my-badge my-badge-secondary\" style=\"color: #d5d3d3; border-color: #d5d3d3\"> <a class=\"text-shadow-1px\" href=\"/kubernetes-jobs\" style=\"color: #d5d3d3\"> kubernetes </a> </span> </div>  </td> </tr>,\n",
       " <tr class=\"table_row\" data-jobid=\"70219\" onclick=\"tableTurboRowClick(event, '/python-engineer-blockchain-crypto-bitpanda/70219')\" style=\"cursor: pointer; ; border-top: 1px solid #43162a;\"> <td data-jobid=\"70219\" scope=\"row\" style=\"display: block !important; width: 500px; margin-top: 10px; margin-left: 10px;\"> <div class=\"d-flex align-middle\" data-jobid=\"70219\"> <div></div> <div class=\"rounded paid_logo_empty position-relative\" data-jobid=\"70219\" data-logo-letter=\"P\"> </div> <div class=\"d-flex flex-column ps-2\" data-jobid=\"70219\"> <div class=\"mb-auto align-middle job-title-mobile\" data-jobid=\"70219\"> <a data-jobid=\"70219\" data-turbo-action=\"advance\" data-turbo-frame=\"job\" href=\"/python-engineer-blockchain-crypto-bitpanda/70219\" style=\" text-decoration: none\"> <h2 class=\"fs-6 fs-md-5 fw-bold my-primary\" data-jobid=\"70219\" style=\"color: white\"> Python Engineer Blockchain Crypto </h2> </a> </div> </div> </div> </td> <td class=\"job-location-mobile\" data-jobid=\"70219\" style=\"display: inline-block !important; width: 70%; margin-left: 68px; margin-top: -22px;\"> <a data-jobid=\"70219\" data-turbo-action=\"advance\" data-turbo-frame=\"job\" href=\"/python-engineer-blockchain-crypto-bitpanda/70219\" style=\"text-decoration: none\"> <h3 class=\"\" data-jobid=\"70219\" style=\"color: white; font-size: 12px;\"> Bitpanda </h3> </a> </td> <td data-jobid=\"70219\" style=\"display: inline-block !important; width: 522px; margin-top: -86px; text-align: end;\"> <time datetime=\"2024-07-03 21:07:41+07:00\" style=\"font-size: 12px; color: grey;\"> 1mo </time> </td> <td class=\"job-location-mobile\" data-jobid=\"70219\" style=\"display: inline-block !important; width: 520px; margin-left: 10px; margin-top: -48px;\"> <a data-jobid=\"70219\" href=\"/web3-jobs-vienna\" style=\"font-size: 12px; color: #d5d3d3;\">Vienna</a><span style=\"color: #d5d3d3;\">,</span> <a data-jobid=\"70219\" href=\"/web3-jobs-austria\" style=\"font-size: 12px; color: #d5d3d3;\">Austria</a> </td> <td data-jobid=\"70219\" style=\"display: inline-block !important; width: 520px; margin-left: 10px; margin-top: -67px; text-align: end;\"> <p class=\"ps-0 mb-0 text-salary\" data-bs-placement=\"top\" data-bs-toggle=\"tooltip\" data-jobid=\"70219\" style=\"color: grey;\" title=\"Estimated salary based on similar jobs\"> $98k - $114k <span class=\"estimated_star\"></span> </p> </td> <td data-jobid=\"70219\" style=\"display: block !important; margin-left: 10px; margin-top: -60px; margin-bottom: 10px\"> <div> <span class=\"my-badge my-badge-secondary\" style=\"color: #d5d3d3; border-color: #d5d3d3\"> <a class=\"text-shadow-1px\" href=\"/engineer-jobs\" style=\"color: #d5d3d3\"> engineer </a> </span> <span class=\"my-badge my-badge-secondary\" style=\"color: #d5d3d3; border-color: #d5d3d3\"> <a class=\"text-shadow-1px\" href=\"/python-jobs\" style=\"color: #d5d3d3\"> python </a> </span> <span class=\"my-badge my-badge-secondary\" style=\"color: #d5d3d3; border-color: #d5d3d3\"> <a class=\"text-shadow-1px\" href=\"/blockchain-jobs\" style=\"color: #d5d3d3\"> blockchain </a> </span> <span class=\"my-badge my-badge-secondary\" style=\"color: #d5d3d3; border-color: #d5d3d3\"> <a class=\"text-shadow-1px\" href=\"/aws-jobs\" style=\"color: #d5d3d3\"> aws </a> </span> <span class=\"my-badge my-badge-secondary\" style=\"color: #d5d3d3; border-color: #d5d3d3\"> <a class=\"text-shadow-1px\" href=\"/crypto-jobs\" style=\"color: #d5d3d3\"> crypto </a> </span> </div>  </td> </tr>,\n",
       " <tr class=\"table_row\" data-jobid=\"69134\" onclick=\"tableTurboRowClick(event, '/senior-python-data-engineer-finance-digital-transformation-crypto-com/69134')\" style=\"cursor: pointer; ; border-top: 1px solid #43162a;\"> <td data-jobid=\"69134\" scope=\"row\" style=\"display: block !important; width: 500px; margin-top: 10px; margin-left: 10px;\"> <div class=\"d-flex align-middle\" data-jobid=\"69134\"> <div></div> <div class=\"rounded paid_logo_empty position-relative\" data-jobid=\"69134\" data-logo-letter=\"S\"> </div> <div class=\"d-flex flex-column ps-2\" data-jobid=\"69134\"> <div class=\"mb-auto align-middle job-title-mobile\" data-jobid=\"69134\"> <a data-jobid=\"69134\" data-turbo-action=\"advance\" data-turbo-frame=\"job\" href=\"/senior-python-data-engineer-finance-digital-transformation-crypto-com/69134\" style=\" text-decoration: none\"> <h2 class=\"fs-6 fs-md-5 fw-bold my-primary\" data-jobid=\"69134\" style=\"color: white\"> Senior Python Data Engineer Finance Digital Transmation </h2> </a> </div> </div> </div> </td> <td class=\"job-location-mobile\" data-jobid=\"69134\" style=\"display: inline-block !important; width: 70%; margin-left: 68px; margin-top: -22px;\"> <a data-jobid=\"69134\" data-turbo-action=\"advance\" data-turbo-frame=\"job\" href=\"/senior-python-data-engineer-finance-digital-transformation-crypto-com/69134\" style=\"text-decoration: none\"> <h3 class=\"\" data-jobid=\"69134\" style=\"color: white; font-size: 12px;\"> Crypto.com </h3> </a> </td> <td data-jobid=\"69134\" style=\"display: inline-block !important; width: 522px; margin-top: -86px; text-align: end;\"> <time datetime=\"2024-06-20 11:06:51+07:00\" style=\"font-size: 12px; color: grey;\"> 2mo </time> </td> <td class=\"job-location-mobile\" data-jobid=\"69134\" style=\"display: inline-block !important; width: 520px; margin-left: 10px; margin-top: -48px;\"> <a data-jobid=\"69134\" href=\"/web3-jobs-taipei\" style=\"font-size: 12px; color: #d5d3d3;\">Taipei</a><span style=\"color: #d5d3d3;\">,</span> <a data-jobid=\"69134\" href=\"/web3-jobs-taiwan\" style=\"font-size: 12px; color: #d5d3d3;\">Taiwan</a> </td> <td data-jobid=\"69134\" style=\"display: inline-block !important; width: 520px; margin-left: 10px; margin-top: -67px; text-align: end;\"> <p class=\"ps-0 mb-0 text-salary\" data-bs-placement=\"top\" data-bs-toggle=\"tooltip\" data-jobid=\"69134\" style=\"color: grey;\" title=\"Estimated salary based on similar jobs\"> $122k - $123k <span class=\"estimated_star\"></span> </p> </td> <td data-jobid=\"69134\" style=\"display: block !important; margin-left: 10px; margin-top: -60px; margin-bottom: 10px\"> <div> <span class=\"my-badge my-badge-secondary\" style=\"color: #d5d3d3; border-color: #d5d3d3\"> <a class=\"text-shadow-1px\" href=\"/data-science-jobs\" style=\"color: #d5d3d3\"> data science </a> </span> <span class=\"my-badge my-badge-secondary\" style=\"color: #d5d3d3; border-color: #d5d3d3\"> <a class=\"text-shadow-1px\" href=\"/engineer-jobs\" style=\"color: #d5d3d3\"> engineer </a> </span> <span class=\"my-badge my-badge-secondary\" style=\"color: #d5d3d3; border-color: #d5d3d3\"> <a class=\"text-shadow-1px\" href=\"/finance-jobs\" style=\"color: #d5d3d3\"> finance </a> </span> <span class=\"my-badge my-badge-secondary\" style=\"color: #d5d3d3; border-color: #d5d3d3\"> <a class=\"text-shadow-1px\" href=\"/non-tech-jobs\" style=\"color: #d5d3d3\"> non tech </a> </span> <span class=\"my-badge my-badge-secondary\" style=\"color: #d5d3d3; border-color: #d5d3d3\"> <a class=\"text-shadow-1px\" href=\"/python-jobs\" style=\"color: #d5d3d3\"> python </a> </span> </div>  </td> </tr>,\n",
       " <tr class=\"table_row\" data-jobid=\"68750\" onclick=\"tableTurboRowClick(event, '/python-engineer-wallet/68750')\" style=\"cursor: pointer; ; border-top: 1px solid #43162a;\"> <td data-jobid=\"68750\" scope=\"row\" style=\"display: block !important; width: 500px; margin-top: 10px; margin-left: 10px;\"> <div class=\"d-flex align-middle\" data-jobid=\"68750\"> <div></div> <div class=\"rounded paid_logo_empty position-relative\" data-jobid=\"68750\" data-logo-letter=\"P\"> </div> <div class=\"d-flex flex-column ps-2\" data-jobid=\"68750\"> <div class=\"mb-auto align-middle job-title-mobile\" data-jobid=\"68750\"> <a data-jobid=\"68750\" data-turbo-action=\"advance\" data-turbo-frame=\"job\" href=\"/python-engineer-wallet/68750\" style=\" text-decoration: none\"> <h2 class=\"fs-6 fs-md-5 fw-bold my-primary\" data-jobid=\"68750\" style=\"color: white\"> Python Engineer </h2> </a> </div> </div> </div> </td> <td class=\"job-location-mobile\" data-jobid=\"68750\" style=\"display: inline-block !important; width: 70%; margin-left: 68px; margin-top: -22px;\"> <a data-jobid=\"68750\" data-turbo-action=\"advance\" data-turbo-frame=\"job\" href=\"/python-engineer-wallet/68750\" style=\"text-decoration: none\"> <h3 class=\"\" data-jobid=\"68750\" style=\"color: white; font-size: 12px;\"> Wallet </h3> </a> </td> <td data-jobid=\"68750\" style=\"display: inline-block !important; width: 522px; margin-top: -86px; text-align: end;\"> <time datetime=\"2024-06-13 13:06:47+07:00\" style=\"font-size: 12px; color: grey;\"> 2mo </time> </td> <td class=\"job-location-mobile\" data-jobid=\"68750\" style=\"display: inline-block !important; width: 520px; margin-left: 10px; margin-top: -48px;\"> <span style=\"font-size: 12px; color: #d5d3d3;\">Remote</span> </td> <td data-jobid=\"68750\" style=\"display: inline-block !important; width: 520px; margin-left: 10px; margin-top: -67px; text-align: end;\"> <p class=\"ps-0 mb-0 text-salary\" data-bs-placement=\"top\" data-bs-toggle=\"tooltip\" data-jobid=\"68750\" style=\"color: grey;\" title=\"Estimated salary based on similar jobs\"> $67k - $100k <span class=\"estimated_star\"></span> </p> </td> <td data-jobid=\"68750\" style=\"display: block !important; margin-left: 10px; margin-top: -60px; margin-bottom: 10px\"> <div> <span class=\"my-badge my-badge-secondary\" style=\"color: #d5d3d3; border-color: #d5d3d3\"> <a class=\"text-shadow-1px\" href=\"/engineer-jobs\" style=\"color: #d5d3d3\"> engineer </a> </span> <span class=\"my-badge my-badge-secondary\" style=\"color: #d5d3d3; border-color: #d5d3d3\"> <a class=\"text-shadow-1px\" href=\"/python-jobs\" style=\"color: #d5d3d3\"> python </a> </span> <span class=\"my-badge my-badge-secondary\" style=\"color: #d5d3d3; border-color: #d5d3d3\"> <a class=\"text-shadow-1px\" href=\"/angular-jobs\" style=\"color: #d5d3d3\"> angular </a> </span> <span class=\"my-badge my-badge-secondary\" style=\"color: #d5d3d3; border-color: #d5d3d3\"> <a class=\"text-shadow-1px\" href=\"/blockchain-jobs\" style=\"color: #d5d3d3\"> blockchain </a> </span> <span class=\"my-badge my-badge-secondary\" style=\"color: #d5d3d3; border-color: #d5d3d3\"> <a class=\"text-shadow-1px\" href=\"/crypto-jobs\" style=\"color: #d5d3d3\"> crypto </a> </span> </div>  </td> </tr>,\n",
       " <tr class=\"table_row\" data-jobid=\"67404\" onclick=\"tableTurboRowClick(event, '/tech-lead-l2-keyko/67404')\" style=\"cursor: pointer; ; border-top: 1px solid #43162a;\"> <td data-jobid=\"67404\" scope=\"row\" style=\"display: block !important; width: 500px; margin-top: 10px; margin-left: 10px;\"> <div class=\"d-flex align-middle\" data-jobid=\"67404\"> <div></div> <div class=\"rounded paid_logo_empty position-relative\" data-jobid=\"67404\" data-logo-letter=\"T\"> </div> <div class=\"d-flex flex-column ps-2\" data-jobid=\"67404\"> <div class=\"mb-auto align-middle job-title-mobile\" data-jobid=\"67404\"> <a data-jobid=\"67404\" data-turbo-action=\"advance\" data-turbo-frame=\"job\" href=\"/tech-lead-l2-keyko/67404\" style=\" text-decoration: none\"> <h2 class=\"fs-6 fs-md-5 fw-bold my-primary\" data-jobid=\"67404\" style=\"color: white\"> Tech lead L2 </h2> </a> </div> </div> </div> </td> <td class=\"job-location-mobile\" data-jobid=\"67404\" style=\"display: inline-block !important; width: 70%; margin-left: 68px; margin-top: -22px;\"> <a data-jobid=\"67404\" data-turbo-action=\"advance\" data-turbo-frame=\"job\" href=\"/tech-lead-l2-keyko/67404\" style=\"text-decoration: none\"> <h3 class=\"\" data-jobid=\"67404\" style=\"color: white; font-size: 12px;\"> Keyko </h3> </a> </td> <td data-jobid=\"67404\" style=\"display: inline-block !important; width: 522px; margin-top: -86px; text-align: end;\"> <time datetime=\"2024-06-10 21:06:42+07:00\" style=\"font-size: 12px; color: grey;\"> 2mo </time> </td> <td class=\"job-location-mobile\" data-jobid=\"67404\" style=\"display: inline-block !important; width: 520px; margin-left: 10px; margin-top: -48px;\"> <a data-jobid=\"67404\" href=\"/remote-jobs\" style=\"font-size: 12px; color: #d5d3d3;\">Remote</a> </td> <td data-jobid=\"67404\" style=\"display: inline-block !important; width: 520px; margin-left: 10px; margin-top: -67px; text-align: end;\"> <p class=\"ps-0 mb-0 text-salary\" data-bs-placement=\"top\" data-bs-toggle=\"\" data-jobid=\"67404\" style=\"color: grey;\" title=\"\"> <span class=\"\"></span> </p> </td> <td data-jobid=\"67404\" style=\"display: block !important; margin-left: 10px; margin-top: -60px; margin-bottom: 10px\"> <div> <span class=\"my-badge my-badge-secondary\" style=\"color: #d5d3d3; border-color: #d5d3d3\"> <a class=\"text-shadow-1px\" href=\"/layer-2-jobs\" style=\"color: #d5d3d3\"> layer 2 </a> </span> <span class=\"my-badge my-badge-secondary\" style=\"color: #d5d3d3; border-color: #d5d3d3\"> <a class=\"text-shadow-1px\" href=\"/lead-jobs\" style=\"color: #d5d3d3\"> lead </a> </span> <span class=\"my-badge my-badge-secondary\" style=\"color: #d5d3d3; border-color: #d5d3d3\"> <a class=\"text-shadow-1px\" href=\"/tech-lead-jobs\" style=\"color: #d5d3d3\"> tech lead </a> </span> <span class=\"my-badge my-badge-secondary\" style=\"color: #d5d3d3; border-color: #d5d3d3\"> <a class=\"text-shadow-1px\" href=\"/blockchain-jobs\" style=\"color: #d5d3d3\"> blockchain </a> </span> <span class=\"my-badge my-badge-secondary\" style=\"color: #d5d3d3; border-color: #d5d3d3\"> <a class=\"text-shadow-1px\" href=\"/cryptography-jobs\" style=\"color: #d5d3d3\"> cryptography </a> </span> </div>  </td> </tr>,\n",
       " <tr class=\"table_row\" data-jobid=\"67989\" onclick=\"tableTurboRowClick(event, '/senior-back-end-engineer-javascript-python-web3-recruit/67989')\" style=\"cursor: pointer; ; border-top: 1px solid #43162a;\"> <td data-jobid=\"67989\" scope=\"row\" style=\"display: block !important; width: 500px; margin-top: 10px; margin-left: 10px;\"> <div class=\"d-flex align-middle\" data-jobid=\"67989\"> <div></div> <div class=\"rounded paid_logo_empty position-relative\" data-jobid=\"67989\" data-logo-letter=\"S\"> </div> <div class=\"d-flex flex-column ps-2\" data-jobid=\"67989\"> <div class=\"mb-auto align-middle job-title-mobile\" data-jobid=\"67989\"> <a data-jobid=\"67989\" data-turbo-action=\"advance\" data-turbo-frame=\"job\" href=\"/senior-back-end-engineer-javascript-python-web3-recruit/67989\" style=\" text-decoration: none\"> <h2 class=\"fs-6 fs-md-5 fw-bold my-primary\" data-jobid=\"67989\" style=\"color: white\"> Senior BackEnd Engineer Javascript Python </h2> </a> </div> </div> </div> </td> <td class=\"job-location-mobile\" data-jobid=\"67989\" style=\"display: inline-block !important; width: 70%; margin-left: 68px; margin-top: -22px;\"> <a data-jobid=\"67989\" data-turbo-action=\"advance\" data-turbo-frame=\"job\" href=\"/senior-back-end-engineer-javascript-python-web3-recruit/67989\" style=\"text-decoration: none\"> <h3 class=\"\" data-jobid=\"67989\" style=\"color: white; font-size: 12px;\"> Web3 Recruit </h3> </a> </td> <td data-jobid=\"67989\" style=\"display: inline-block !important; width: 522px; margin-top: -86px; text-align: end;\"> <time datetime=\"2024-05-30 22:05:10+07:00\" style=\"font-size: 12px; color: grey;\"> 3mo </time> </td> <td class=\"job-location-mobile\" data-jobid=\"67989\" style=\"display: inline-block !important; width: 520px; margin-left: 10px; margin-top: -48px;\"> <a data-jobid=\"67989\" href=\"/remote-jobs\" style=\"font-size: 12px; color: #d5d3d3;\">Remote</a> </td> <td data-jobid=\"67989\" style=\"display: inline-block !important; width: 520px; margin-left: 10px; margin-top: -67px; text-align: end;\"> <p class=\"ps-0 mb-0 text-salary\" data-bs-placement=\"top\" data-bs-toggle=\"\" data-jobid=\"67989\" style=\"color: grey;\" title=\"\"> $176k - $300k <span class=\"\"></span> </p> </td> <td data-jobid=\"67989\" style=\"display: block !important; margin-left: 10px; margin-top: -60px; margin-bottom: 10px\"> <div> <span class=\"my-badge my-badge-secondary\" style=\"color: #d5d3d3; border-color: #d5d3d3\"> <a class=\"text-shadow-1px\" href=\"/backend-jobs\" style=\"color: #d5d3d3\"> backend </a> </span> <span class=\"my-badge my-badge-secondary\" style=\"color: #d5d3d3; border-color: #d5d3d3\"> <a class=\"text-shadow-1px\" href=\"/engineer-jobs\" style=\"color: #d5d3d3\"> engineer </a> </span> <span class=\"my-badge my-badge-secondary\" style=\"color: #d5d3d3; border-color: #d5d3d3\"> <a class=\"text-shadow-1px\" href=\"/javascript-jobs\" style=\"color: #d5d3d3\"> javascript </a> </span> <span class=\"my-badge my-badge-secondary\" style=\"color: #d5d3d3; border-color: #d5d3d3\"> <a class=\"text-shadow-1px\" href=\"/python-jobs\" style=\"color: #d5d3d3\"> python </a> </span> <span class=\"my-badge my-badge-secondary\" style=\"color: #d5d3d3; border-color: #d5d3d3\"> <a class=\"text-shadow-1px\" href=\"/senior-jobs\" style=\"color: #d5d3d3\"> senior </a> </span> </div>  </td> </tr>,\n",
       " <tr class=\"table_row\" data-jobid=\"67717\" onclick=\"tableTurboRowClick(event, '/senior-data-scientist-200k-web3-recruit/67717')\" style=\"cursor: pointer; ; border-top: 1px solid #43162a;\"> <td data-jobid=\"67717\" scope=\"row\" style=\"display: block !important; width: 500px; margin-top: 10px; margin-left: 10px;\"> <div class=\"d-flex align-middle\" data-jobid=\"67717\"> <div></div> <div class=\"rounded paid_logo_empty position-relative\" data-jobid=\"67717\" data-logo-letter=\"S\"> </div> <div class=\"d-flex flex-column ps-2\" data-jobid=\"67717\"> <div class=\"mb-auto align-middle job-title-mobile\" data-jobid=\"67717\"> <a data-jobid=\"67717\" data-turbo-action=\"advance\" data-turbo-frame=\"job\" href=\"/senior-data-scientist-200k-web3-recruit/67717\" style=\" text-decoration: none\"> <h2 class=\"fs-6 fs-md-5 fw-bold my-primary\" data-jobid=\"67717\" style=\"color: white\"> Senior Data Scientist $200k </h2> </a> </div> </div> </div> </td> <td class=\"job-location-mobile\" data-jobid=\"67717\" style=\"display: inline-block !important; width: 70%; margin-left: 68px; margin-top: -22px;\"> <a data-jobid=\"67717\" data-turbo-action=\"advance\" data-turbo-frame=\"job\" href=\"/senior-data-scientist-200k-web3-recruit/67717\" style=\"text-decoration: none\"> <h3 class=\"\" data-jobid=\"67717\" style=\"color: white; font-size: 12px;\"> Web3 Recruit </h3> </a> </td> <td data-jobid=\"67717\" style=\"display: inline-block !important; width: 522px; margin-top: -86px; text-align: end;\"> <time datetime=\"2024-05-26 03:05:09+07:00\" style=\"font-size: 12px; color: grey;\"> 3mo </time> </td> <td class=\"job-location-mobile\" data-jobid=\"67717\" style=\"display: inline-block !important; width: 520px; margin-left: 10px; margin-top: -48px;\"> <a data-jobid=\"67717\" href=\"/remote-jobs\" style=\"font-size: 12px; color: #d5d3d3;\">Remote</a> </td> <td data-jobid=\"67717\" style=\"display: inline-block !important; width: 520px; margin-left: 10px; margin-top: -67px; text-align: end;\"> <p class=\"ps-0 mb-0 text-salary\" data-bs-placement=\"top\" data-bs-toggle=\"\" data-jobid=\"67717\" style=\"color: grey;\" title=\"\"> $180k - $200k <span class=\"\"></span> </p> </td> <td data-jobid=\"67717\" style=\"display: block !important; margin-left: 10px; margin-top: -60px; margin-bottom: 10px\"> <div> <span class=\"my-badge my-badge-secondary\" style=\"color: #d5d3d3; border-color: #d5d3d3\"> <a class=\"text-shadow-1px\" href=\"/scientist-jobs\" style=\"color: #d5d3d3\"> scientist </a> </span> <span class=\"my-badge my-badge-secondary\" style=\"color: #d5d3d3; border-color: #d5d3d3\"> <a class=\"text-shadow-1px\" href=\"/data-science-jobs\" style=\"color: #d5d3d3\"> data science </a> </span> <span class=\"my-badge my-badge-secondary\" style=\"color: #d5d3d3; border-color: #d5d3d3\"> <a class=\"text-shadow-1px\" href=\"/senior-jobs\" style=\"color: #d5d3d3\"> senior </a> </span> <span class=\"my-badge my-badge-secondary\" style=\"color: #d5d3d3; border-color: #d5d3d3\"> <a class=\"text-shadow-1px\" href=\"/blockchain-jobs\" style=\"color: #d5d3d3\"> blockchain </a> </span> <span class=\"my-badge my-badge-secondary\" style=\"color: #d5d3d3; border-color: #d5d3d3\"> <a class=\"text-shadow-1px\" href=\"/crypto-jobs\" style=\"color: #d5d3d3\"> crypto </a> </span> </div>  </td> </tr>,\n",
       " <tr class=\"table_row\" data-jobid=\"67421\" onclick=\"tableTurboRowClick(event, '/software-engineer-blockchain-python-bitpanda/67421')\" style=\"cursor: pointer; ; border-top: 1px solid #43162a;\"> <td data-jobid=\"67421\" scope=\"row\" style=\"display: block !important; width: 500px; margin-top: 10px; margin-left: 10px;\"> <div class=\"d-flex align-middle\" data-jobid=\"67421\"> <div></div> <div class=\"rounded paid_logo_empty position-relative\" data-jobid=\"67421\" data-logo-letter=\"S\"> </div> <div class=\"d-flex flex-column ps-2\" data-jobid=\"67421\"> <div class=\"mb-auto align-middle job-title-mobile\" data-jobid=\"67421\"> <a data-jobid=\"67421\" data-turbo-action=\"advance\" data-turbo-frame=\"job\" href=\"/software-engineer-blockchain-python-bitpanda/67421\" style=\" text-decoration: none\"> <h2 class=\"fs-6 fs-md-5 fw-bold my-primary\" data-jobid=\"67421\" style=\"color: white\"> Software Engineer Blockchain Python </h2> </a> </div> </div> </div> </td> <td class=\"job-location-mobile\" data-jobid=\"67421\" style=\"display: inline-block !important; width: 70%; margin-left: 68px; margin-top: -22px;\"> <a data-jobid=\"67421\" data-turbo-action=\"advance\" data-turbo-frame=\"job\" href=\"/software-engineer-blockchain-python-bitpanda/67421\" style=\"text-decoration: none\"> <h3 class=\"\" data-jobid=\"67421\" style=\"color: white; font-size: 12px;\"> Bitpanda </h3> </a> </td> <td data-jobid=\"67421\" style=\"display: inline-block !important; width: 522px; margin-top: -86px; text-align: end;\"> <time datetime=\"2024-05-22 00:05:57+07:00\" style=\"font-size: 12px; color: grey;\"> 3mo </time> </td> <td class=\"job-location-mobile\" data-jobid=\"67421\" style=\"display: inline-block !important; width: 520px; margin-left: 10px; margin-top: -48px;\"> <a data-jobid=\"67421\" href=\"/web3-jobs-vienna\" style=\"font-size: 12px; color: #d5d3d3;\">Vienna</a><span style=\"color: #d5d3d3;\">,</span> <a data-jobid=\"67421\" href=\"/web3-jobs-austria\" style=\"font-size: 12px; color: #d5d3d3;\">Austria</a> </td> <td data-jobid=\"67421\" style=\"display: inline-block !important; width: 520px; margin-left: 10px; margin-top: -67px; text-align: end;\"> <p class=\"ps-0 mb-0 text-salary\" data-bs-placement=\"top\" data-bs-toggle=\"tooltip\" data-jobid=\"67421\" style=\"color: grey;\" title=\"Estimated salary based on similar jobs\"> $104k - $150k <span class=\"estimated_star\"></span> </p> </td> <td data-jobid=\"67421\" style=\"display: block !important; margin-left: 10px; margin-top: -60px; margin-bottom: 10px\"> <div> <span class=\"my-badge my-badge-secondary\" style=\"color: #d5d3d3; border-color: #d5d3d3\"> <a class=\"text-shadow-1px\" href=\"/engineer-jobs\" style=\"color: #d5d3d3\"> engineer </a> </span> <span class=\"my-badge my-badge-secondary\" style=\"color: #d5d3d3; border-color: #d5d3d3\"> <a class=\"text-shadow-1px\" href=\"/python-jobs\" style=\"color: #d5d3d3\"> python </a> </span> <span class=\"my-badge my-badge-secondary\" style=\"color: #d5d3d3; border-color: #d5d3d3\"> <a class=\"text-shadow-1px\" href=\"/dev-jobs\" style=\"color: #d5d3d3\"> dev </a> </span> <span class=\"my-badge my-badge-secondary\" style=\"color: #d5d3d3; border-color: #d5d3d3\"> <a class=\"text-shadow-1px\" href=\"/blockchain-jobs\" style=\"color: #d5d3d3\"> blockchain </a> </span> <span class=\"my-badge my-badge-secondary\" style=\"color: #d5d3d3; border-color: #d5d3d3\"> <a class=\"text-shadow-1px\" href=\"/aws-jobs\" style=\"color: #d5d3d3\"> aws </a> </span> </div>  </td> </tr>,\n",
       " <tr class=\"table_row\" data-jobid=\"67202\" onclick=\"tableTurboRowClick(event, '/senior-back-end-engineer-javascript-python-volume-finance/67202')\" style=\"cursor: pointer; ; border-top: 1px solid #43162a;\"> <td data-jobid=\"67202\" scope=\"row\" style=\"display: block !important; width: 500px; margin-top: 10px; margin-left: 10px;\"> <div class=\"d-flex align-middle\" data-jobid=\"67202\"> <div></div> <div class=\"rounded paid_logo_empty position-relative\" data-jobid=\"67202\" data-logo-letter=\"S\"> </div> <div class=\"d-flex flex-column ps-2\" data-jobid=\"67202\"> <div class=\"mb-auto align-middle job-title-mobile\" data-jobid=\"67202\"> <a data-jobid=\"67202\" data-turbo-action=\"advance\" data-turbo-frame=\"job\" href=\"/senior-back-end-engineer-javascript-python-volume-finance/67202\" style=\" text-decoration: none\"> <h2 class=\"fs-6 fs-md-5 fw-bold my-primary\" data-jobid=\"67202\" style=\"color: white\"> Senior BackEnd Engineer Javascript Python </h2> </a> </div> </div> </div> </td> <td class=\"job-location-mobile\" data-jobid=\"67202\" style=\"display: inline-block !important; width: 70%; margin-left: 68px; margin-top: -22px;\"> <a data-jobid=\"67202\" data-turbo-action=\"advance\" data-turbo-frame=\"job\" href=\"/senior-back-end-engineer-javascript-python-volume-finance/67202\" style=\"text-decoration: none\"> <h3 class=\"\" data-jobid=\"67202\" style=\"color: white; font-size: 12px;\"> Volume </h3> </a> </td> <td data-jobid=\"67202\" style=\"display: inline-block !important; width: 522px; margin-top: -86px; text-align: end;\"> <time datetime=\"2024-05-17 03:05:37+07:00\" style=\"font-size: 12px; color: grey;\"> 3mo </time> </td> <td class=\"job-location-mobile\" data-jobid=\"67202\" style=\"display: inline-block !important; width: 520px; margin-left: 10px; margin-top: -48px;\"> <a data-jobid=\"67202\" href=\"/remote-jobs\" style=\"font-size: 12px; color: #d5d3d3;\">Remote</a> </td> <td data-jobid=\"67202\" style=\"display: inline-block !important; width: 520px; margin-left: 10px; margin-top: -67px; text-align: end;\"> <p class=\"ps-0 mb-0 text-salary\" data-bs-placement=\"top\" data-bs-toggle=\"\" data-jobid=\"67202\" style=\"color: grey;\" title=\"\"> $175k - $250k <span class=\"\"></span> </p> </td> <td data-jobid=\"67202\" style=\"display: block !important; margin-left: 10px; margin-top: -60px; margin-bottom: 10px\"> <div> <span class=\"my-badge my-badge-secondary\" style=\"color: #d5d3d3; border-color: #d5d3d3\"> <a class=\"text-shadow-1px\" href=\"/backend-jobs\" style=\"color: #d5d3d3\"> backend </a> </span> <span class=\"my-badge my-badge-secondary\" style=\"color: #d5d3d3; border-color: #d5d3d3\"> <a class=\"text-shadow-1px\" href=\"/engineer-jobs\" style=\"color: #d5d3d3\"> engineer </a> </span> <span class=\"my-badge my-badge-secondary\" style=\"color: #d5d3d3; border-color: #d5d3d3\"> <a class=\"text-shadow-1px\" href=\"/javascript-jobs\" style=\"color: #d5d3d3\"> javascript </a> </span> <span class=\"my-badge my-badge-secondary\" style=\"color: #d5d3d3; border-color: #d5d3d3\"> <a class=\"text-shadow-1px\" href=\"/python-jobs\" style=\"color: #d5d3d3\"> python </a> </span> <span class=\"my-badge my-badge-secondary\" style=\"color: #d5d3d3; border-color: #d5d3d3\"> <a class=\"text-shadow-1px\" href=\"/senior-jobs\" style=\"color: #d5d3d3\"> senior </a> </span> </div>  </td> </tr>,\n",
       " <tr class=\"table_row\" data-jobid=\"66245\" onclick=\"tableTurboRowClick(event, '/senior-python-front-end-developer-stake-capital-group/66245')\" style=\"cursor: pointer; ; border-top: 1px solid #43162a;\"> <td data-jobid=\"66245\" scope=\"row\" style=\"display: block !important; width: 500px; margin-top: 10px; margin-left: 10px;\"> <div class=\"d-flex align-middle\" data-jobid=\"66245\"> <div></div> <div class=\"rounded paid_logo_empty position-relative\" data-jobid=\"66245\" data-logo-letter=\"S\"> </div> <div class=\"d-flex flex-column ps-2\" data-jobid=\"66245\"> <div class=\"mb-auto align-middle job-title-mobile\" data-jobid=\"66245\"> <a data-jobid=\"66245\" data-turbo-action=\"advance\" data-turbo-frame=\"job\" href=\"/senior-python-front-end-developer-stake-capital-group/66245\" style=\" text-decoration: none\"> <h2 class=\"fs-6 fs-md-5 fw-bold my-primary\" data-jobid=\"66245\" style=\"color: white\"> Senior Python FrontEnd Developer </h2> </a> </div> </div> </div> </td> <td class=\"job-location-mobile\" data-jobid=\"66245\" style=\"display: inline-block !important; width: 70%; margin-left: 68px; margin-top: -22px;\"> <a data-jobid=\"66245\" data-turbo-action=\"advance\" data-turbo-frame=\"job\" href=\"/senior-python-front-end-developer-stake-capital-group/66245\" style=\"text-decoration: none\"> <h3 class=\"\" data-jobid=\"66245\" style=\"color: white; font-size: 12px;\"> Stake Capital Group </h3> </a> </td> <td data-jobid=\"66245\" style=\"display: inline-block !important; width: 522px; margin-top: -86px; text-align: end;\"> <time datetime=\"2024-05-07 17:05:42+07:00\" style=\"font-size: 12px; color: grey;\"> 3mo </time> </td> <td class=\"job-location-mobile\" data-jobid=\"66245\" style=\"display: inline-block !important; width: 520px; margin-left: 10px; margin-top: -48px;\"> <span style=\"font-size: 12px; color: #d5d3d3;\"> Zürich CH</span> </td> <td data-jobid=\"66245\" style=\"display: inline-block !important; width: 520px; margin-left: 10px; margin-top: -67px; text-align: end;\"> <p class=\"ps-0 mb-0 text-salary\" data-bs-placement=\"top\" data-bs-toggle=\"tooltip\" data-jobid=\"66245\" style=\"color: grey;\" title=\"Estimated salary based on similar jobs\"> $86k - $15k <span class=\"estimated_star\"></span> </p> </td> <td data-jobid=\"66245\" style=\"display: block !important; margin-left: 10px; margin-top: -60px; margin-bottom: 10px\"> <div> <span class=\"my-badge my-badge-secondary\" style=\"color: #d5d3d3; border-color: #d5d3d3\"> <a class=\"text-shadow-1px\" href=\"/dev-jobs\" style=\"color: #d5d3d3\"> dev </a> </span> <span class=\"my-badge my-badge-secondary\" style=\"color: #d5d3d3; border-color: #d5d3d3\"> <a class=\"text-shadow-1px\" href=\"/front-end-jobs\" style=\"color: #d5d3d3\"> front end </a> </span> <span class=\"my-badge my-badge-secondary\" style=\"color: #d5d3d3; border-color: #d5d3d3\"> <a class=\"text-shadow-1px\" href=\"/python-jobs\" style=\"color: #d5d3d3\"> python </a> </span> <span class=\"my-badge my-badge-secondary\" style=\"color: #d5d3d3; border-color: #d5d3d3\"> <a class=\"text-shadow-1px\" href=\"/senior-jobs\" style=\"color: #d5d3d3\"> senior </a> </span> <span class=\"my-badge my-badge-secondary\" style=\"color: #d5d3d3; border-color: #d5d3d3\"> <a class=\"text-shadow-1px\" href=\"/defi-jobs\" style=\"color: #d5d3d3\"> defi </a> </span> </div>  </td> </tr>,\n",
       " <tr class=\"table_row\" data-jobid=\"66091\" onclick=\"tableTurboRowClick(event, '/devops-site-reliability-engineer-gelato/66091')\" style=\"cursor: pointer; ; border-top: 1px solid #43162a;\"> <td data-jobid=\"66091\" scope=\"row\" style=\"display: block !important; width: 500px; margin-top: 10px; margin-left: 10px;\"> <div class=\"d-flex align-middle\" data-jobid=\"66091\"> <img alt=\"Gelato\" class=\"rounded paid_logo lazy\" data-src=\"https://web3.career/rails/active_storage/representations/proxy/eyJfcmFpbHMiOnsibWVzc2FnZSI6IkJBaHBBd1JvQVE9PSIsImV4cCI6bnVsbCwicHVyIjoiYmxvYl9pZCJ9fQ==--b4ec643f63d437be867cd3b89f6f0d1d278449ec/eyJfcmFpbHMiOnsibWVzc2FnZSI6IkJBaDdCem9MWm05eWJXRjBTU0lJY0c1bkJqb0dSVlE2RW5KbGMybDZaVjkwYjE5bWFYUmJCMmxwYVdrPSIsImV4cCI6bnVsbCwicHVyIjoidmFyaWF0aW9uIn19--ad7667d8ae43bcd8cd94d69c345a74f8f57c92b7/GEL.png\" src=\"https://sh.web3.career/assets/img/other/1pix.png\"/> <div class=\"d-flex flex-column ps-2\" data-jobid=\"66091\"> <div class=\"mb-auto align-middle job-title-mobile\" data-jobid=\"66091\"> <a data-jobid=\"66091\" data-turbo-action=\"advance\" data-turbo-frame=\"job\" href=\"/devops-site-reliability-engineer-gelato/66091\" style=\" text-decoration: none\"> <h2 class=\"fs-6 fs-md-5 fw-bold my-primary\" data-jobid=\"66091\" style=\"color: white\"> DevOps Site Reliability Engineer </h2> </a> </div> </div> </div> </td> <td class=\"job-location-mobile\" data-jobid=\"66091\" style=\"display: inline-block !important; width: 70%; margin-left: 68px; margin-top: -22px;\"> <a data-jobid=\"66091\" data-turbo-action=\"advance\" data-turbo-frame=\"job\" href=\"/devops-site-reliability-engineer-gelato/66091\" style=\"text-decoration: none\"> <h3 class=\"\" data-jobid=\"66091\" style=\"color: white; font-size: 12px;\"> Gelato </h3> </a> </td> <td data-jobid=\"66091\" style=\"display: inline-block !important; width: 522px; margin-top: -86px; text-align: end;\"> <time datetime=\"2024-05-04 03:05:50+07:00\" style=\"font-size: 12px; color: grey;\"> 3mo </time> </td> <td class=\"job-location-mobile\" data-jobid=\"66091\" style=\"display: inline-block !important; width: 520px; margin-left: 10px; margin-top: -48px;\"> <a data-jobid=\"66091\" href=\"/remote-jobs\" style=\"font-size: 12px; color: #d5d3d3;\">Remote</a> </td> <td data-jobid=\"66091\" style=\"display: inline-block !important; width: 520px; margin-left: 10px; margin-top: -67px; text-align: end;\"> <p class=\"ps-0 mb-0 text-salary\" data-bs-placement=\"top\" data-bs-toggle=\"\" data-jobid=\"66091\" style=\"color: grey;\" title=\"\"> <span class=\"\"></span> </p> </td> <td data-jobid=\"66091\" style=\"display: block !important; margin-left: 10px; margin-top: -60px; margin-bottom: 10px\"> <div> <span class=\"my-badge my-badge-secondary\" style=\"color: #d5d3d3; border-color: #d5d3d3\"> <a class=\"text-shadow-1px\" href=\"/engineer-jobs\" style=\"color: #d5d3d3\"> engineer </a> </span> <span class=\"my-badge my-badge-secondary\" style=\"color: #d5d3d3; border-color: #d5d3d3\"> <a class=\"text-shadow-1px\" href=\"/devops-jobs\" style=\"color: #d5d3d3\"> devops </a> </span> <span class=\"my-badge my-badge-secondary\" style=\"color: #d5d3d3; border-color: #d5d3d3\"> <a class=\"text-shadow-1px\" href=\"/reliability-jobs\" style=\"color: #d5d3d3\"> reliability </a> </span> <span class=\"my-badge my-badge-secondary\" style=\"color: #d5d3d3; border-color: #d5d3d3\"> <a class=\"text-shadow-1px\" href=\"/aws-jobs\" style=\"color: #d5d3d3\"> aws </a> </span> <span class=\"my-badge my-badge-secondary\" style=\"color: #d5d3d3; border-color: #d5d3d3\"> <a class=\"text-shadow-1px\" href=\"/ci-cd-jobs\" style=\"color: #d5d3d3\"> ci cd </a> </span> </div>  </td> </tr>,\n",
       " <tr class=\"table_row\" data-jobid=\"65965\" onclick=\"tableTurboRowClick(event, '/support-engineer-with-python-cowswap/65965')\" style=\"cursor: pointer; ; border-top: 1px solid #43162a;\"> <td data-jobid=\"65965\" scope=\"row\" style=\"display: block !important; width: 500px; margin-top: 10px; margin-left: 10px;\"> <div class=\"d-flex align-middle\" data-jobid=\"65965\"> <div></div> <div class=\"rounded paid_logo_empty position-relative\" data-jobid=\"65965\" data-logo-letter=\"S\"> </div> <div class=\"d-flex flex-column ps-2\" data-jobid=\"65965\"> <div class=\"mb-auto align-middle job-title-mobile\" data-jobid=\"65965\"> <a data-jobid=\"65965\" data-turbo-action=\"advance\" data-turbo-frame=\"job\" href=\"/support-engineer-with-python-cowswap/65965\" style=\" text-decoration: none\"> <h2 class=\"fs-6 fs-md-5 fw-bold my-primary\" data-jobid=\"65965\" style=\"color: white\"> Support Engineer with Python </h2> </a> </div> </div> </div> </td> <td class=\"job-location-mobile\" data-jobid=\"65965\" style=\"display: inline-block !important; width: 70%; margin-left: 68px; margin-top: -22px;\"> <a data-jobid=\"65965\" data-turbo-action=\"advance\" data-turbo-frame=\"job\" href=\"/support-engineer-with-python-cowswap/65965\" style=\"text-decoration: none\"> <h3 class=\"\" data-jobid=\"65965\" style=\"color: white; font-size: 12px;\"> CoW Protocol </h3> </a> </td> <td data-jobid=\"65965\" style=\"display: inline-block !important; width: 522px; margin-top: -86px; text-align: end;\"> <time datetime=\"2024-05-02 16:05:55+07:00\" style=\"font-size: 12px; color: grey;\"> 4mo </time> </td> <td class=\"job-location-mobile\" data-jobid=\"65965\" style=\"display: inline-block !important; width: 520px; margin-left: 10px; margin-top: -48px;\"> <a data-jobid=\"65965\" href=\"/web3-jobs-lisbon\" style=\"font-size: 12px; color: #d5d3d3;\">Lisbon</a><span style=\"color: #d5d3d3;\">,</span> <a data-jobid=\"65965\" href=\"/web3-jobs-portugal\" style=\"font-size: 12px; color: #d5d3d3;\">Portugal</a> </td> <td data-jobid=\"65965\" style=\"display: inline-block !important; width: 520px; margin-left: 10px; margin-top: -67px; text-align: end;\"> <p class=\"ps-0 mb-0 text-salary\" data-bs-placement=\"top\" data-bs-toggle=\"tooltip\" data-jobid=\"65965\" style=\"color: grey;\" title=\"Estimated salary based on similar jobs\"> $81k - $110k <span class=\"estimated_star\"></span> </p> </td> <td data-jobid=\"65965\" style=\"display: block !important; margin-left: 10px; margin-top: -60px; margin-bottom: 10px\"> <div> <span class=\"my-badge my-badge-secondary\" style=\"color: #d5d3d3; border-color: #d5d3d3\"> <a class=\"text-shadow-1px\" href=\"/engineer-jobs\" style=\"color: #d5d3d3\"> engineer </a> </span> <span class=\"my-badge my-badge-secondary\" style=\"color: #d5d3d3; border-color: #d5d3d3\"> <a class=\"text-shadow-1px\" href=\"/python-jobs\" style=\"color: #d5d3d3\"> python </a> </span> <span class=\"my-badge my-badge-secondary\" style=\"color: #d5d3d3; border-color: #d5d3d3\"> <a class=\"text-shadow-1px\" href=\"/customer-support-jobs\" style=\"color: #d5d3d3\"> customer support </a> </span> <span class=\"my-badge my-badge-secondary\" style=\"color: #d5d3d3; border-color: #d5d3d3\"> <a class=\"text-shadow-1px\" href=\"/blockchain-jobs\" style=\"color: #d5d3d3\"> blockchain </a> </span> <span class=\"my-badge my-badge-secondary\" style=\"color: #d5d3d3; border-color: #d5d3d3\"> <a class=\"text-shadow-1px\" href=\"/ethereum-jobs\" style=\"color: #d5d3d3\"> ethereum </a> </span> </div>  </td> </tr>,\n",
       " <tr class=\"paid_job border-paid-table table_row\" data-jobid=\"65579\" onclick=\"tableTurboRowClick(event, '/devops-engineer-stakefish/65579')\" style=\"cursor: pointer; ; border-top: 1px solid #43162a;\"> <td data-jobid=\"65579\" scope=\"row\" style=\"display: block !important; width: 500px; margin-top: 10px; margin-left: 10px;\"> <div class=\"d-flex align-middle\" data-jobid=\"65579\"> <img alt=\"stakefish\" class=\"rounded paid_logo lazy\" data-src=\"https://web3.career/rails/active_storage/representations/proxy/eyJfcmFpbHMiOnsibWVzc2FnZSI6IkJBaHBBNlJpQVE9PSIsImV4cCI6bnVsbCwicHVyIjoiYmxvYl9pZCJ9fQ==--86dfe954d8eb9b2c3e8175182f08b9d66a485df5/eyJfcmFpbHMiOnsibWVzc2FnZSI6IkJBaDdCem9MWm05eWJXRjBTU0lJY0c1bkJqb0dSVlE2RW5KbGMybDZaVjkwYjE5bWFYUmJCMmxwYVdrPSIsImV4cCI6bnVsbCwicHVyIjoidmFyaWF0aW9uIn19--ad7667d8ae43bcd8cd94d69c345a74f8f57c92b7/stakefish%20logo1.png\" src=\"https://sh.web3.career/assets/img/other/1pix.png\"/> <div class=\"d-flex flex-column ps-2\" data-jobid=\"65579\"> <div class=\"mb-auto align-middle job-title-mobile\" data-jobid=\"65579\"> <a data-jobid=\"65579\" data-turbo-action=\"advance\" data-turbo-frame=\"job\" href=\"/devops-engineer-stakefish/65579\" style=\" text-decoration: none\"> <h2 class=\"fs-6 fs-md-5 fw-bold my-primary\" data-jobid=\"65579\" style=\"color: white\"> DevOps Engineer </h2> </a> </div> </div> </div> </td> <td class=\"job-location-mobile\" data-jobid=\"65579\" style=\"display: inline-block !important; width: 70%; margin-left: 68px; margin-top: -22px;\"> <a data-jobid=\"65579\" data-turbo-action=\"advance\" data-turbo-frame=\"job\" href=\"/devops-engineer-stakefish/65579\" style=\"text-decoration: none\"> <h3 class=\"\" data-jobid=\"65579\" style=\"color: white; font-size: 12px;\"> stakefish </h3> </a> </td> <td data-jobid=\"65579\" style=\"display: inline-block !important; width: 522px; margin-top: -86px; text-align: end;\"> <time datetime=\"2024-04-25 17:04:24+07:00\" style=\"font-size: 12px; color: grey;\"> 4mo </time> </td> <td class=\"job-location-mobile\" data-jobid=\"65579\" style=\"display: inline-block !important; width: 520px; margin-left: 10px; margin-top: -48px;\"> <a data-jobid=\"65579\" href=\"/remote-jobs\" style=\"font-size: 12px; color: #d5d3d3;\">Remote</a> </td> <td data-jobid=\"65579\" style=\"display: inline-block !important; width: 520px; margin-left: 10px; margin-top: -67px; text-align: end;\"> <p class=\"ps-0 mb-0 text-salary\" data-bs-placement=\"top\" data-bs-toggle=\"\" data-jobid=\"65579\" style=\"color: grey;\" title=\"\"> $140k - $190k <span class=\"\"></span> </p> </td> <td data-jobid=\"65579\" style=\"display: block !important; margin-left: 10px; margin-top: -60px; margin-bottom: 10px\"> <div> <span class=\"my-badge my-badge-secondary\" style=\"color: #d5d3d3; border-color: #d5d3d3\"> <a class=\"text-shadow-1px\" href=\"/engineer-jobs\" style=\"color: #d5d3d3\"> engineer </a> </span> <span class=\"my-badge my-badge-secondary\" style=\"color: #d5d3d3; border-color: #d5d3d3\"> <a class=\"text-shadow-1px\" href=\"/devops-jobs\" style=\"color: #d5d3d3\"> devops </a> </span> <span class=\"my-badge my-badge-secondary\" style=\"color: #d5d3d3; border-color: #d5d3d3\"> <a class=\"text-shadow-1px\" href=\"/aws-jobs\" style=\"color: #d5d3d3\"> aws </a> </span> <span class=\"my-badge my-badge-secondary\" style=\"color: #d5d3d3; border-color: #d5d3d3\"> <a class=\"text-shadow-1px\" href=\"/blockchain-jobs\" style=\"color: #d5d3d3\"> blockchain </a> </span> <span class=\"my-badge my-badge-secondary\" style=\"color: #d5d3d3; border-color: #d5d3d3\"> <a class=\"text-shadow-1px\" href=\"/crypto-jobs\" style=\"color: #d5d3d3\"> crypto </a> </span> </div>  </td> </tr>,\n",
       " <tr class=\"table_row\" data-jobid=\"65455\" onclick=\"tableTurboRowClick(event, '/senior-python-engineer-assets-and-hedging-bitpanda/65455')\" style=\"cursor: pointer; ; border-top: 1px solid #43162a;\"> <td data-jobid=\"65455\" scope=\"row\" style=\"display: block !important; width: 500px; margin-top: 10px; margin-left: 10px;\"> <div class=\"d-flex align-middle\" data-jobid=\"65455\"> <div></div> <div class=\"rounded paid_logo_empty position-relative\" data-jobid=\"65455\" data-logo-letter=\"S\"> </div> <div class=\"d-flex flex-column ps-2\" data-jobid=\"65455\"> <div class=\"mb-auto align-middle job-title-mobile\" data-jobid=\"65455\"> <a data-jobid=\"65455\" data-turbo-action=\"advance\" data-turbo-frame=\"job\" href=\"/senior-python-engineer-assets-and-hedging-bitpanda/65455\" style=\" text-decoration: none\"> <h2 class=\"fs-6 fs-md-5 fw-bold my-primary\" data-jobid=\"65455\" style=\"color: white\"> Senior Python Engineer Assets and Hedging </h2> </a> </div> </div> </div> </td> <td class=\"job-location-mobile\" data-jobid=\"65455\" style=\"display: inline-block !important; width: 70%; margin-left: 68px; margin-top: -22px;\"> <a data-jobid=\"65455\" data-turbo-action=\"advance\" data-turbo-frame=\"job\" href=\"/senior-python-engineer-assets-and-hedging-bitpanda/65455\" style=\"text-decoration: none\"> <h3 class=\"\" data-jobid=\"65455\" style=\"color: white; font-size: 12px;\"> Bitpanda </h3> </a> </td> <td data-jobid=\"65455\" style=\"display: inline-block !important; width: 522px; margin-top: -86px; text-align: end;\"> <time datetime=\"2024-04-23 22:04:36+07:00\" style=\"font-size: 12px; color: grey;\"> 4mo </time> </td> <td class=\"job-location-mobile\" data-jobid=\"65455\" style=\"display: inline-block !important; width: 520px; margin-left: 10px; margin-top: -48px;\"> <a data-jobid=\"65455\" href=\"/web3-jobs-vienna\" style=\"font-size: 12px; color: #d5d3d3;\">Vienna</a><span style=\"color: #d5d3d3;\">,</span> <a data-jobid=\"65455\" href=\"/web3-jobs-austria\" style=\"font-size: 12px; color: #d5d3d3;\">Austria</a> </td> <td data-jobid=\"65455\" style=\"display: inline-block !important; width: 520px; margin-left: 10px; margin-top: -67px; text-align: end;\"> <p class=\"ps-0 mb-0 text-salary\" data-bs-placement=\"top\" data-bs-toggle=\"tooltip\" data-jobid=\"65455\" style=\"color: grey;\" title=\"Estimated salary based on similar jobs\"> $87k - $145k <span class=\"estimated_star\"></span> </p> </td> <td data-jobid=\"65455\" style=\"display: block !important; margin-left: 10px; margin-top: -60px; margin-bottom: 10px\"> <div> <span class=\"my-badge my-badge-secondary\" style=\"color: #d5d3d3; border-color: #d5d3d3\"> <a class=\"text-shadow-1px\" href=\"/engineer-jobs\" style=\"color: #d5d3d3\"> engineer </a> </span> <span class=\"my-badge my-badge-secondary\" style=\"color: #d5d3d3; border-color: #d5d3d3\"> <a class=\"text-shadow-1px\" href=\"/python-jobs\" style=\"color: #d5d3d3\"> python </a> </span> <span class=\"my-badge my-badge-secondary\" style=\"color: #d5d3d3; border-color: #d5d3d3\"> <a class=\"text-shadow-1px\" href=\"/senior-jobs\" style=\"color: #d5d3d3\"> senior </a> </span> <span class=\"my-badge my-badge-secondary\" style=\"color: #d5d3d3; border-color: #d5d3d3\"> <a class=\"text-shadow-1px\" href=\"/aws-jobs\" style=\"color: #d5d3d3\"> aws </a> </span> <span class=\"my-badge my-badge-secondary\" style=\"color: #d5d3d3; border-color: #d5d3d3\"> <a class=\"text-shadow-1px\" href=\"/blockchain-jobs\" style=\"color: #d5d3d3\"> blockchain </a> </span> </div>  </td> </tr>,\n",
       " <tr class=\"table_row\" data-jobid=\"65103\" onclick=\"tableTurboRowClick(event, '/senior-qa-engineer-cloud-auto-java-python-coding-binance/65103')\" style=\"cursor: pointer; ; border-top: 1px solid #43162a;\"> <td data-jobid=\"65103\" scope=\"row\" style=\"display: block !important; width: 500px; margin-top: 10px; margin-left: 10px;\"> <div class=\"d-flex align-middle\" data-jobid=\"65103\"> <div></div> <div class=\"rounded paid_logo_empty position-relative\" data-jobid=\"65103\" data-logo-letter=\"S\"> </div> <div class=\"d-flex flex-column ps-2\" data-jobid=\"65103\"> <div class=\"mb-auto align-middle job-title-mobile\" data-jobid=\"65103\"> <a data-jobid=\"65103\" data-turbo-action=\"advance\" data-turbo-frame=\"job\" href=\"/senior-qa-engineer-cloud-auto-java-python-coding-binance/65103\" style=\" text-decoration: none\"> <h2 class=\"fs-6 fs-md-5 fw-bold my-primary\" data-jobid=\"65103\" style=\"color: white\"> Senior QA Engineer Cloud Auto + Java Python Coding </h2> </a> </div> </div> </div> </td> <td class=\"job-location-mobile\" data-jobid=\"65103\" style=\"display: inline-block !important; width: 70%; margin-left: 68px; margin-top: -22px;\"> <a data-jobid=\"65103\" data-turbo-action=\"advance\" data-turbo-frame=\"job\" href=\"/senior-qa-engineer-cloud-auto-java-python-coding-binance/65103\" style=\"text-decoration: none\"> <h3 class=\"\" data-jobid=\"65103\" style=\"color: white; font-size: 12px;\"> Binance </h3> </a> </td> <td data-jobid=\"65103\" style=\"display: inline-block !important; width: 522px; margin-top: -86px; text-align: end;\"> <time datetime=\"2024-04-17 16:04:11+07:00\" style=\"font-size: 12px; color: grey;\"> 4mo </time> </td> <td class=\"job-location-mobile\" data-jobid=\"65103\" style=\"display: inline-block !important; width: 520px; margin-left: 10px; margin-top: -48px;\"> <a data-jobid=\"65103\" href=\"/web3-jobs-taipei\" style=\"font-size: 12px; color: #d5d3d3;\">Taipei</a><span style=\"color: #d5d3d3;\">,</span> <a data-jobid=\"65103\" href=\"/web3-jobs-taiwan\" style=\"font-size: 12px; color: #d5d3d3;\">Taiwan</a> </td> <td data-jobid=\"65103\" style=\"display: inline-block !important; width: 520px; margin-left: 10px; margin-top: -67px; text-align: end;\"> <p class=\"ps-0 mb-0 text-salary\" data-bs-placement=\"top\" data-bs-toggle=\"\" data-jobid=\"65103\" style=\"color: grey;\" title=\"\"> <span class=\"\"></span> </p> </td> <td data-jobid=\"65103\" style=\"display: block !important; margin-left: 10px; margin-top: -60px; margin-bottom: 10px\"> <div> <span class=\"my-badge my-badge-secondary\" style=\"color: #d5d3d3; border-color: #d5d3d3\"> <a class=\"text-shadow-1px\" href=\"/cloud-jobs\" style=\"color: #d5d3d3\"> cloud </a> </span> <span class=\"my-badge my-badge-secondary\" style=\"color: #d5d3d3; border-color: #d5d3d3\"> <a class=\"text-shadow-1px\" href=\"/engineer-jobs\" style=\"color: #d5d3d3\"> engineer </a> </span> <span class=\"my-badge my-badge-secondary\" style=\"color: #d5d3d3; border-color: #d5d3d3\"> <a class=\"text-shadow-1px\" href=\"/java-jobs\" style=\"color: #d5d3d3\"> java </a> </span> <span class=\"my-badge my-badge-secondary\" style=\"color: #d5d3d3; border-color: #d5d3d3\"> <a class=\"text-shadow-1px\" href=\"/python-jobs\" style=\"color: #d5d3d3\"> python </a> </span> <span class=\"my-badge my-badge-secondary\" style=\"color: #d5d3d3; border-color: #d5d3d3\"> <a class=\"text-shadow-1px\" href=\"/quality-assurance-jobs\" style=\"color: #d5d3d3\"> quality assurance </a> </span> </div>  </td> </tr>]"
      ]
     },
     "execution_count": 59,
     "metadata": {},
     "output_type": "execute_result"
    }
   ],
   "source": [
    "jobs = soup.find_all('tr', class_='table_row')\n",
    "jobs"
   ]
  },
  {
   "cell_type": "code",
   "execution_count": 54,
   "id": "c05923d1-a76c-4832-b17e-6e23c5181735",
   "metadata": {},
   "outputs": [
    {
     "data": {
      "text/plain": [
       "<tr ;=\"\" class=\"border-paid-table table_row\" id=\"sponsor_2\" onclick=\"tableTurboRowClickBanner(event, '/metana')\" style=\"cursor: pointer; background-color: #d0fc03; ; border-top: 1px solid #43162a; margin-left: 10px;\"> <a data-turbo=\"false\" href=\"/metana\" rel=\"nofollow noopener noreferrer\" style=\" text-decoration: none\"> <td scope=\"row\" style=\"display: block !important; width: 500px; margin-top: 10px; margin-left: 10px;\"> <div class=\"d-flex\"> <img alt=\"by Metana\" class=\"paid_logo lazy\" data-src=\"https://sh.web3.career/assets/img/web3-companies/metana.jpg\" src=\"https://sh.web3.career/assets/img/other/1pix.png\" style=\"border-color: black; border-style: solid; border-width: 1px;\"/> <div class=\"d-flex flex-column ps-2 align-middle\"> <div class=\"job-title-mobile mb-auto\"> <a class=\"fs-6 fs-md-5 fw-bold my-primary\" data-turbo=\"false\" href=\"/metana\" rel=\"nofollow noopener noreferrer\" style=\" text-decoration: none; color: black;\"> Web3 Solidity Bootcamp - Job Guaranteed 💯 </a> </div> </div> </div> </td> <td class=\"job-location-mobile\" style=\"display: inline-block !important; width: 70%; margin-left: 68px; margin-top: -12px; margin-bottom: 10px;\"> <a aria-label=\"Open by Metana website\" data-turbo=\"false\" href=\"/metana\" rel=\"nofollow noopener noreferrer\" style=\"text-decoration: none\"> Learn job-ready web3 skills on your schedule with 1-on-1 support &amp; get a job, or your money back. </a> </td> <td style=\"display: inline-block !important; width: 522px; margin-top: -86px; text-align: end;\"> <div style=\"font-size: 12px; color: black;\"> </div> </td> <td class=\"job-location-mobile\" style=\"display: inline-block !important; width: 520px; margin-left: 10px; margin-top: -48px;\"> <div class=\"d-flex justify-content-between align-items-center\"> <div style=\" font-size: 12px; margin-top: 20px; color: black;\"> by Metana </div> <a aria-label=\"Open by Metana website\" data-turbo=\"false\" href=\"/metana\" rel=\"nofollow noopener noreferrer\" style=\"background-color: #d0fc03; border: 2px solid black; color: black; font-size: 12px; padding: 0.4375rem 0.8rem;\">Bootcamp Info</a> </div> </td> <td style=\"display: inline-block !important; width: 520px; margin-left: 10px; margin-top: -67px; text-align: end;\"> <p class=\"ps-0 mb-0\" style=\" font-size: 12px; color: black;\"></p> </td> <td style=\"display: block !important; margin-left: 10px; margin-top: -60px; margin-bottom: 10px\"> </td> </a> </tr>"
      ]
     },
     "execution_count": 54,
     "metadata": {},
     "output_type": "execute_result"
    }
   ],
   "source": [
    "jobs[4]"
   ]
  },
  {
   "cell_type": "code",
   "execution_count": 60,
   "id": "655a30e5-07db-4c79-a200-b83648556702",
   "metadata": {},
   "outputs": [
    {
     "data": {
      "text/plain": [
       "'Senior Software Engineer: Protocol Go IPFS'"
      ]
     },
     "execution_count": 60,
     "metadata": {},
     "output_type": "execute_result"
    }
   ],
   "source": [
    "jobs[0].find('div', class_='mb-auto align-middle job-title-mobile').text.strip()"
   ]
  },
  {
   "cell_type": "code",
   "execution_count": 29,
   "id": "de18febe-eec7-4684-84a9-7de57d9a1101",
   "metadata": {},
   "outputs": [
    {
     "data": {
      "text/plain": [
       "'/senior-software-engineer-nifty-gateway-python-django-gemini/11023'"
      ]
     },
     "execution_count": 29,
     "metadata": {},
     "output_type": "execute_result"
    }
   ],
   "source": [
    "jobs[0].find('div', class_='mb-auto align-middle job-title-mobile').find('a')['href']"
   ]
  },
  {
   "cell_type": "code",
   "execution_count": 61,
   "id": "09012d4f-360f-46d1-a527-341c3db27232",
   "metadata": {},
   "outputs": [
    {
     "data": {
      "text/plain": [
       "'Keyko'"
      ]
     },
     "execution_count": 61,
     "metadata": {},
     "output_type": "execute_result"
    }
   ],
   "source": [
    "jobs[0].find_all('td', class_='job-location-mobile')[0].text.strip()"
   ]
  },
  {
   "cell_type": "code",
   "execution_count": 46,
   "id": "7618bcdd-3ca3-459c-b568-1e8ddfbbbdd6",
   "metadata": {},
   "outputs": [
    {
     "data": {
      "text/plain": [
       "'New York, NY, United States'"
      ]
     },
     "execution_count": 46,
     "metadata": {},
     "output_type": "execute_result"
    }
   ],
   "source": [
    "jobs[0].find_all('td', class_='job-location-mobile')[1].text.strip()"
   ]
  },
  {
   "cell_type": "code",
   "execution_count": 36,
   "id": "7ff94d83-b082-46aa-9e7a-3ed06f1131e2",
   "metadata": {},
   "outputs": [
    {
     "data": {
      "text/plain": [
       "'$72k - $110k'"
      ]
     },
     "execution_count": 36,
     "metadata": {},
     "output_type": "execute_result"
    }
   ],
   "source": [
    "jobs[0].find('p', class_='ps-0 mb-0 text-salary').text.strip()"
   ]
  },
  {
   "cell_type": "code",
   "execution_count": 79,
   "id": "71cf22fe-ea86-47c3-a8ec-8eabf6b71231",
   "metadata": {},
   "outputs": [],
   "source": [
    "from bs4 import BeautifulSoup\n",
    "import requests\n",
    "import sys"
   ]
  },
  {
   "cell_type": "code",
   "execution_count": 150,
   "id": "78cb68b2-cd6b-4f2b-88b5-a66ae1c66cc2",
   "metadata": {
    "scrolled": true
   },
   "outputs": [
    {
     "name": "stdout",
     "output_type": "stream",
     "text": [
      "Scrapping is done...\n",
      "['Senior Full-stack React & Python Developer', 'Lemon.io', 'NaN', 'Latin America Only/Europe Only/UK Only/Canada Only/Asia Only/Oceania Only', '/remote-jobs/lemon-io-senior-full-stack-react-python-developer']\n",
      "['Full Stack (React/Python) Developer', 'Input Logic', 'NaN', 'Canada Only', '/remote-jobs/input-logic-full-stack-react-python-developer']\n",
      "['Staff Machine Learning Engineer (Python), Fraud Prevention', 'Paxful, Inc', 'NaN', 'Anywhere in the World', '/remote-jobs/paxful-inc-staff-machine-learning-engineer-python-fraud-prevention']\n",
      "['Senior/Staff Software Engineer - Backend/Python - USA (100% Remote)', 'Close', 'NaN', 'USA Only', '/remote-jobs/close-senior-staff-software-engineer-backend-python-usa-100-remote-3']\n",
      "['Senior Python Dev Wanted (AI Focus)', 'OpenMind AI', 'NaN', 'Anywhere in the World', '/remote-jobs/openmind-ai-senior-python-dev-wanted-ai-focus-1']\n",
      "['Software Engineer for AI Training Data (Python)', 'G2i Inc.', 'NaN', 'Anywhere in the World', '/remote-jobs/g2i-inc-software-engineer-for-ai-training-data-python']\n",
      "6\n"
     ]
    }
   ],
   "source": [
    "# variables\n",
    "headers = {\n",
    "    'user-agent':\n",
    "    'Mozilla/5.0 (Windows NT 10.0; Win64; x64) AppleWebKit/537.36 (KHTML, like Gecko) Chrome/127.0.0.0 Safari/537.36',\n",
    "}\n",
    "\n",
    "# for test\n",
    "test_keywords = [\n",
    "    'python',\n",
    "    'java',\n",
    "    'javascript',\n",
    "]\n",
    "\n",
    "class Wework:\n",
    "\n",
    "    def __init__(self, headers=headers):\n",
    "        self.job_data = []\n",
    "        self.wework_url = 'https://weworkremotely.com/remote-jobs/search?utf8=%E2%9C%93&term=YOURSEARCH'\n",
    "\n",
    "        self.headers = headers\n",
    "\n",
    "    def scrap_jobs(self, keyword):\n",
    "        url = self.wework_url.replace('YOURSEARCH', keyword)\n",
    "        \n",
    "        # looping for scrapping jobs with pagination\n",
    "        print(f\"Scrapping {url}...\")\n",
    "        response = requests.get(url, headers=self.headers)\n",
    "\n",
    "        # conditional for either the site is alive.\n",
    "        if response.status_code != 200:\n",
    "            print(f\"Something Wrong!! \\nStatus Code : {response.status_code}\")\n",
    "            sys.exit(1)\n",
    "        else:\n",
    "            print(f\"Scrapping is done...\")\n",
    "\n",
    "        # conditional for pagination\n",
    "        self.soup = BeautifulSoup(response.text, 'html.parser')\n",
    "\n",
    "        jobs = soup.find_all('section', class_='jobs')\n",
    "        for job in jobs:\n",
    "            jj = job.find_all('li')\n",
    "            for j in jj:\n",
    "                try:\n",
    "                    link = j.find_all('a')[1]['href']\n",
    "                    company = j.find_all('a')[1].find('span', class_='company').text\n",
    "                    title = j.find_all('a')[1].find('span', class_='title').text\n",
    "                    location = j.find_all('a')[1].find('span', class_='region company').text\n",
    "                    salary = 'NaN'\n",
    "                except:\n",
    "                    continue\n",
    "                \n",
    "                self.job_data.append([\n",
    "                    title,\n",
    "                    company,\n",
    "                    salary,\n",
    "                    location,\n",
    "                    link,\n",
    "                ])\n",
    "\n",
    "    def show_jobs(self):\n",
    "        if self.job_data:\n",
    "            for job_info in self.job_data:\n",
    "                print(job_info)\n",
    "            print(len(self.job_data))\n",
    "        else:\n",
    "            print(\"no data..\")\n",
    "\n",
    "\n",
    "## the case for https://berlinstartupjobs.com/engineering/ and pagenation processing\n",
    "jobs = Wework()\n",
    "jobs.scrap_jobs('python')\n",
    "jobs.show_jobs()\n",
    "\n",
    "## the case for keywords\n",
    "# for keyword in test_keywords:\n",
    "#     jobs = BerlinJobs()\n",
    "#     jobs.scrap_jobs(keyword=keyword)\n",
    "#     jobs.show_jobs()\n"
   ]
  },
  {
   "cell_type": "code",
   "execution_count": 82,
   "id": "7f4b6c65-0d42-459f-81c5-5b700b1bd724",
   "metadata": {},
   "outputs": [],
   "source": [
    "headers = {\n",
    "    'user-agent':\n",
    "    'Mozilla/5.0 (Windows NT 10.0; Win64; x64) AppleWebKit/537.36 (KHTML, like Gecko) Chrome/127.0.0.0 Safari/537.36',\n",
    "}\n",
    "\n",
    "response = requests.get(\n",
    "    'https://weworkremotely.com/remote-jobs/search?utf8=%E2%9C%93&term=python',\n",
    "    headers=headers\n",
    ")"
   ]
  },
  {
   "cell_type": "code",
   "execution_count": 83,
   "id": "629bba93-90ad-4049-9f54-34a60e4f6db7",
   "metadata": {},
   "outputs": [],
   "source": [
    "soup = BeautifulSoup(response.text, 'html.parser')"
   ]
  },
  {
   "cell_type": "code",
   "execution_count": 144,
   "id": "ce446cba-d1f8-44f4-b75e-dd0a1634edd6",
   "metadata": {},
   "outputs": [
    {
     "data": {
      "text/plain": [
       "'/remote-jobs/paxful-inc-staff-machine-learning-engineer-python-fraud-prevention'"
      ]
     },
     "execution_count": 144,
     "metadata": {},
     "output_type": "execute_result"
    }
   ],
   "source": [
    "jobs = soup.find_all('section', class_='jobs')\n",
    "jj = jobs[1].find_all('li')\n",
    "jj[0].find_all('a')[1]['href']\n",
    "# for job in jobs:\n",
    "#     jj = job.find_all('li')\n",
    "# jj[0].find_all('a')[0].find('span', class_='company').text\n",
    "# jj.find_all('a')[1].find('span', class_='title').text\n",
    "# jj.find_all('a')[1].find('span', class_='region company').text\n"
   ]
  },
  {
   "cell_type": "code",
   "execution_count": 147,
   "id": "b6c85ef0-1c69-4356-a6c0-e1a834711fe7",
   "metadata": {},
   "outputs": [
    {
     "name": "stdout",
     "output_type": "stream",
     "text": [
      "/remote-jobs/lemon-io-senior-full-stack-react-python-developer\n",
      "Lemon.io\n",
      "Senior Full-stack React & Python Developer\n",
      "Latin America Only/Europe Only/UK Only/Canada Only/Asia Only/Oceania Only\n",
      "\n",
      "/remote-jobs/input-logic-full-stack-react-python-developer\n",
      "Input Logic\n",
      "Full Stack (React/Python) Developer\n",
      "Canada Only\n",
      "\n",
      "/remote-jobs/paxful-inc-staff-machine-learning-engineer-python-fraud-prevention\n",
      "Paxful, Inc\n",
      "Staff Machine Learning Engineer (Python), Fraud Prevention\n",
      "Anywhere in the World\n",
      "\n",
      "/remote-jobs/close-senior-staff-software-engineer-backend-python-usa-100-remote-3\n",
      "Close\n",
      "Senior/Staff Software Engineer - Backend/Python - USA (100% Remote)\n",
      "USA Only\n",
      "\n",
      "/remote-jobs/openmind-ai-senior-python-dev-wanted-ai-focus-1\n",
      "OpenMind AI\n",
      "Senior Python Dev Wanted (AI Focus)\n",
      "Anywhere in the World\n",
      "\n",
      "/remote-jobs/g2i-inc-software-engineer-for-ai-training-data-python\n",
      "G2i Inc.\n",
      "Software Engineer for AI Training Data (Python)\n",
      "Anywhere in the World\n",
      "\n"
     ]
    }
   ],
   "source": [
    "jobs = soup.find_all('section', class_='jobs')\n",
    "for job in jobs:\n",
    "    jj = job.find_all('li')\n",
    "    for j in jj:\n",
    "        try:\n",
    "            print(j.find_all('a')[1]['href'])\n",
    "            print(j.find_all('a')[1].find('span', class_='company').text)\n",
    "            print(j.find_all('a')[1].find('span', class_='title').text)\n",
    "            print(j.find_all('a')[1].find('span', class_='region company').text)\n",
    "            print()\n",
    "        except:\n",
    "            continue"
   ]
  },
  {
   "cell_type": "code",
   "execution_count": 108,
   "id": "fb96de8b-2646-4c5f-a222-4d1574b14319",
   "metadata": {
    "scrolled": true
   },
   "outputs": [
    {
     "name": "stdout",
     "output_type": "stream",
     "text": [
      "<a href=\"/\"><img alt=\"we work remotely\" id=\"logo\" src=\"https://weworkremotely.com/assets/IsotypeV2-1ebe3dd57673f3e8d02b7490bc0faaef55d6a95d3a4aaf17298bd3ed503ae7fe.svg\"/></a>\n",
      "<a href=\"#\">Jobs <i class=\"fa fa-chevron-down ms-1\"></i></a>\n",
      "<a href=\"/top-trending-remote-jobs\"> Top Trending Remote Jobs <span class=\"new\">New!</span></a>\n",
      "<a href=\"/\">All Jobs</a>\n",
      "<a href=\"#\" id=\"programming-active\">Programming <i class=\"fa fa-chevron-down\"></i></a>\n",
      "<a href=\"/categories/remote-full-stack-programming-jobs#job-listings\">Full-Stack Programming</a>\n",
      "<a href=\"/categories/remote-front-end-programming-jobs#job-listings\">Front-End Programming</a>\n",
      "<a href=\"/categories/remote-back-end-programming-jobs#job-listings\">Back-End Programming</a>\n",
      "<a href=\"/categories/remote-design-jobs#job-listings\">Design</a>\n",
      "<a href=\"/categories/remote-devops-sysadmin-jobs#job-listings\">Devops and Sysadmin</a>\n",
      "<a href=\"/categories/remote-management-and-finance-jobs#job-listings\">Management and Finance</a>\n",
      "<a href=\"/categories/remote-product-jobs\">Product</a>\n",
      "<a href=\"/categories/remote-customer-support-jobs#job-listings\">Customer Support</a>\n",
      "<a href=\"/categories/remote-sales-and-marketing-jobs#job-listings\">Sales and Marketing</a>\n",
      "<a href=\"/categories/all-other-remote-jobs#job-listings\">All Other Jobs</a>\n",
      "<a href=\"/remote-full-time-jobs#job-listings\">Full-Time</a>\n",
      "<a href=\"/remote-contract-jobs#job-listings\">Contract</a>\n",
      "<a href=\"#\">Community <i class=\"fa fa-chevron-down ms-1\"></i></a>\n",
      "<a href=\"/blog\">Blog</a>\n",
      "<a href=\"/the-remote-show-podcast\">Podcast</a>\n",
      "<a href=\"/remote-work-trends\">Remote Work Trends</a>\n",
      "<a href=\"/blog-categories/events\" target=\"_blank\">Events</a>\n",
      "<a href=\"https://twitter.com/weworkremotely/?utm_content=nav-network&amp;utm_source=we-work-remotely&amp;utm_campaign=nav-network-twitter&amp;utm_medium=nav-network-twitter\" target=\"_blank\"><i class=\"fa-brands fa-twitter fa-2x\"></i></a>\n",
      "<a href=\"https://www.instagram.com/weworkremotelycom/?utm_content=nav-network&amp;utm_source=we-work-remotely&amp;utm_campaign=nav-network-fb&amp;utm_medium=nav-network-fb\" target=\"_blank\"><i class=\"fa-brands fa-square-instagram fa-2x\"></i></a>\n",
      "<a href=\"https://www.linkedin.com/company/18527028/?utm_content=nav-network&amp;utm_source=we-work-remotely&amp;utm_campaign=nav-network-linkedin&amp;utm_medium=nav-network-linkedin\" target=\"_blank\"><i class=\"fa-brands fa-linkedin fa-2x\"></i></a>\n",
      "<a href=\"https://www.facebook.com/weworkremotely/?utm_content=nav-network&amp;utm_source=we-work-remotely&amp;utm_campaign=nav-network-fb&amp;utm_medium=nav-network-fb\" target=\"_blank\"><i class=\"fa-brands fa-square-facebook fa-2x\"></i></a>\n",
      "<a href=\"#\">Find work <i class=\"fa fa-chevron-down ms-1\"></i></a>\n",
      "<a href=\"/top-remote-companies\">Top 100 Remote Companies</a>\n",
      "<a href=\"/top-remote-job-searches\">Top Remote Job Searches</a>\n",
      "<a href=\"/remote-jobs/search\">Advanced Job Search <span class=\"new\">New!</span></a>\n",
      "<a href=\"/job-seeker-faq\">FAQ - Job Seekers</a>\n",
      "<a href=\"/remote-job-rss-feed\">RSS Feed</a>\n",
      "<a href=\"/blog-categories/remote-work-resources\">Remote Work Resources</a>\n",
      "<a href=\"/job-seekers/account/register\"> Create Account </a>\n",
      "<a href=\"#\">Find talent <i class=\"fa fa-chevron-down ms-1\"></i></a>\n",
      "<a href=\"/remote-work-hiring-guide\">Remote Hiring Guide</a>\n",
      "<a href=\"/hire-remote-software-developers\">Hiring Remote Software Developers</a>\n",
      "<a href=\"/post-a-remote-job\">Why Choose WWR?</a>\n",
      "<a href=\"/frequently-asked-questions\">FAQ - Employers</a>\n",
      "<a href=\"/bundles?utm_source=wwr-nav\" onclick=\"applyForPromotion()\" target=\"_blank\">Bundle Pricing</a>\n",
      "<a href=\"/account/register\"> Create Employer Account </a>\n",
      "<a href=\"/remote-jobs/new\">Post a job</a>\n",
      "<a href=\"/account/sign_in?utm_source=wwr-accounts-nav-top\" id=\"sign-in-cta-nav\"> Sign in </a>\n",
      "<a href=\"/remote-jobs/new?utm_source=wwr-accounts-nav-top\" id=\"post-job-cta-nav\">Post a job</a>\n",
      "<a class=\"nav-list__main-logo\" href=\"/\"><img alt=\"we work remotely\" id=\"logo\" src=\"https://weworkremotely.com/assets/IsotypeV2-1ebe3dd57673f3e8d02b7490bc0faaef55d6a95d3a4aaf17298bd3ed503ae7fe.svg\"/></a>\n",
      "<a href=\"/account/sign_in?utm_source=wwr-accounts-nav-top\" id=\"sign-in-cta-nav\"> Sign in </a>\n",
      "<a href=\"/top-trending-remote-jobs\">Top Trending Remote Jobs</a>\n",
      "<a href=\"/\">All Jobs</a>\n",
      "<a href=\"/categories/remote-full-stack-programming-jobs#job-listings\">Full-Stack Programming</a>\n",
      "<a href=\"/categories/remote-front-end-programming-jobs#job-listings\">Front-End Programming</a>\n",
      "<a href=\"/categories/remote-back-end-programming-jobs#job-listings\">Back-End Programming</a>\n",
      "<a href=\"/categories/remote-design-jobs#job-listings\">Design</a>\n",
      "<a href=\"/categories/remote-devops-sysadmin-jobs#job-listings\">Devops and Sysadmin</a>\n",
      "<a href=\"/categories/remote-management-and-finance-jobs#job-listings\">Management and Finance</a>\n",
      "<a href=\"/categories/remote-product-jobs\">Product</a>\n",
      "<a href=\"/categories/remote-customer-support-jobs#job-listings\">Customer Support</a>\n",
      "<a href=\"/categories/remote-sales-and-marketing-jobs#job-listings\">Sales and Marketing</a>\n",
      "<a href=\"/categories/all-other-remote-jobs#job-listings\">All Other Jobs</a>\n",
      "<a href=\"/remote-full-time-jobs#job-listings\">Full-Time</a>\n",
      "<a href=\"/remote-contract-jobs#job-listings\">Contract</a>\n",
      "<a href=\"/blog\">Blog</a>\n",
      "<a href=\"/the-remote-show-podcast\">Podcast</a>\n",
      "<a href=\"/remote-work-trends\">Remote Work Trends</a>\n",
      "<a href=\"/blog-categories/events\" target=\"_blank\">Events</a>\n",
      "<a href=\"https://www.facebook.com/weworkremotely/?utm_content=nav-network&amp;utm_source=we-work-remotely&amp;utm_campaign=nav-network-fb&amp;utm_medium=nav-network-fb\" target=\"_blank\"><i class=\"fa-brands fa-square-facebook fa-2x\"></i></a>\n",
      "<a href=\"https://www.linkedin.com/company/18527028/?utm_content=nav-network&amp;utm_source=we-work-remotely&amp;utm_campaign=nav-network-linkedin&amp;utm_medium=nav-network-linkedin\" target=\"_blank\"><i class=\"fa-brands fa-linkedin fa-2x\"></i></a>\n",
      "<a href=\"https://www.instagram.com/weworkremotelycom/?utm_content=nav-network&amp;utm_source=we-work-remotely&amp;utm_campaign=nav-network-fb&amp;utm_medium=nav-network-fb\" target=\"_blank\"><i class=\"fa-brands fa-square-instagram fa-2x\"></i></a>\n",
      "<a href=\"https://twitter.com/weworkremotely/?utm_content=nav-network&amp;utm_source=we-work-remotely&amp;utm_campaign=nav-network-twitter&amp;utm_medium=nav-network-twitter\" target=\"_blank\"><i class=\"fa-brands fa-x-twitter fa-2x\"></i></a>\n",
      "<a href=\"/top-remote-companies\">Top 100 Remote Companies</a>\n",
      "<a href=\"/top-remote-job-searches\">Top Remote Job Searches</a>\n",
      "<a href=\"/remote-jobs/search\">Advanced Job Search <span class=\"new\">New!</span></a>\n",
      "<a href=\"/job-seeker-faq\">FAQ - Job Seekers</a>\n",
      "<a href=\"/remote-job-rss-feed\">RSS Feed</a>\n",
      "<a href=\"/blog-categories/remote-work-resources\">Remote Work Resources</a>\n",
      "<a href=\"/job-seekers/account/register\"> Create an Account </a>\n",
      "<a href=\"/remote-work-hiring-guide\">Remote Hiring Guide</a>\n",
      "<a href=\"/hire-remote-software-developers\">Hiring Remote Software Developers</a>\n",
      "<a href=\"/post-a-remote-job\">Why Choose WWR?</a>\n",
      "<a href=\"/frequently-asked-questions\">FAQ - Employers</a>\n",
      "<a href=\"/bundles?utm_source=wwr-nav\" onclick=\"applyForPromotion()\" target=\"_blank\">Bundle Pricing</a>\n",
      "<a href=\"/account/register\"> Create Employer Account </a>\n",
      "<a href=\"/remote-jobs/new?utm_source=wwr-accounts-nav-top\">Post a job</a>\n",
      "<a href=\"/remote-jobs/search\"> Remote python Jobs </a>\n",
      "<a class=\"anchor-offset\" id=\"job-listings\">・</a>\n",
      "<a href=\"/categories/remote-full-stack-programming-jobs\">Full-Stack Programming Jobs</a>\n",
      "<a href=\"/categories/remote-full-stack-programming-jobs.rss\"><img class=\"feed\" height=\"16\" src=\"https://weworkremotely.com/assets/rss-feed-bac611a39b717b45766a28c96e549e1879df2786844a54f9c888ed89d64891a7.svg\" width=\"16\"/></a>\n",
      "<a href=\"/company/lemon-io\"><div alt=\"Lemon.io is hiring a remote Senior Full-stack React &amp; Python Developer at We Work Remotely.\" class=\"flag-logo\" loading=\"lazy\" style=\"background-image:url(https://we-work-remotely.imgix.net/logos/0076/3337/logo.gif?ixlib=rails-4.0.0&amp;w=50&amp;h=50&amp;dpr=2&amp;fit=fill&amp;auto=compress)\"></div><span class=\"tooltiptext\">View Company Profile</span></a>\n",
      "<a href=\"/remote-jobs/lemon-io-senior-full-stack-react-python-developer\"><span class=\"company\">Lemon.io</span><object><a href=\"/top-remote-companies\" style=\"display: inline-block;\"><span class=\"listing-pill\" style=\"background: #dde0f4;\">Top 100</span></a></object><br/><span class=\"title\">Senior Full-stack React &amp; Python Developer</span><span class=\"featured\">featured</span><br/><span class=\"company\">Full-Time</span><span>/</span><span class=\"region company\">Latin America Only/Europe Only/UK Only/Canada Only/Asia Only/Oceania Only</span></a>\n",
      "<a href=\"/top-remote-companies\" style=\"display: inline-block;\"><span class=\"listing-pill\" style=\"background: #dde0f4;\">Top 100</span></a>\n",
      "<a href=\"/company/input-logic\"><div alt=\"Input Logic is hiring a remote Full Stack (React/Python) Developer at We Work Remotely.\" class=\"flag-logo\" loading=\"lazy\" style=\"background-image:url(https://we-work-remotely.imgix.net/logos/0016/9198/logo.gif?ixlib=rails-4.0.0&amp;w=50&amp;h=50&amp;dpr=2&amp;fit=fill&amp;auto=compress)\"></div><span class=\"tooltiptext\">View Company Profile</span></a>\n",
      "<a href=\"/remote-jobs/input-logic-full-stack-react-python-developer\"><span class=\"company\">Input Logic</span><br/><span class=\"title\">Full Stack (React/Python) Developer</span><span class=\"date\"><time data-format=\"%b %e\" data-local=\"time\" datetime=\"2024-08-02T21:57:25Z\">Aug 2</time></span><br/><span class=\"company\">Full-Time</span><span>/</span><span class=\"region company\">Canada Only</span></a>\n",
      "<a href=\"/categories/remote-full-stack-programming-jobs\">View all 40 Full-Stack Programming jobs</a>\n",
      "<a class=\"anchor-offset\" id=\"job-listings\">・</a>\n",
      "<a href=\"/categories/remote-back-end-programming-jobs\">Back-End Programming Jobs</a>\n",
      "<a href=\"/categories/remote-back-end-programming-jobs.rss\"><img class=\"feed\" height=\"16\" src=\"https://weworkremotely.com/assets/rss-feed-bac611a39b717b45766a28c96e549e1879df2786844a54f9c888ed89d64891a7.svg\" width=\"16\"/></a>\n",
      "<a href=\"/company/paxful-inc\"><div alt=\"Paxful, Inc is hiring a remote Staff Machine Learning Engineer (Python), Fraud Prevention at We Work Remotely.\" class=\"flag-logo\" loading=\"lazy\" style=\"background-image:url(https://we-work-remotely.imgix.net/logos/0150/3608/logo.gif?ixlib=rails-4.0.0&amp;w=50&amp;h=50&amp;dpr=2&amp;fit=fill&amp;auto=compress)\"></div><span class=\"tooltiptext\">View Company Profile</span></a>\n",
      "<a href=\"/remote-jobs/paxful-inc-staff-machine-learning-engineer-python-fraud-prevention\"><span class=\"company\">Paxful, Inc</span><br/><span class=\"title\">Staff Machine Learning Engineer (Python), Fraud Prevention</span><span class=\"featured\">featured</span><br/><span class=\"company\">Full-Time</span><span>/</span><span class=\"region company\">Anywhere in the World</span></a>\n",
      "<a href=\"/company/close\"><div alt=\"Close is hiring a remote Senior/Staff Software Engineer - Backend/Python - USA (100% Remote) at We Work Remotely.\" class=\"flag-logo\" loading=\"lazy\" style=\"background-image:url(https://we-work-remotely.imgix.net/logos/0144/0311/logo.gif?ixlib=rails-4.0.0&amp;w=50&amp;h=50&amp;dpr=2&amp;fit=fill&amp;auto=compress)\"></div><span class=\"tooltiptext\">View Company Profile</span></a>\n",
      "<a href=\"/remote-jobs/close-senior-staff-software-engineer-backend-python-usa-100-remote-3\"><span class=\"company\">Close</span><object><a href=\"/top-remote-companies\" style=\"display: inline-block;\"><span class=\"listing-pill\" style=\"background: #dde0f4;\">Top 100</span></a></object><br/><span class=\"title\">Senior/Staff Software Engineer - Backend/Python - USA (100% Remote)</span><span class=\"featured\">featured</span><br/><span class=\"company\">Full-Time</span><span>/</span><span class=\"region company\">USA Only</span></a>\n",
      "<a href=\"/top-remote-companies\" style=\"display: inline-block;\"><span class=\"listing-pill\" style=\"background: #dde0f4;\">Top 100</span></a>\n",
      "<a href=\"/company/openmind-ai\"><span class=\"tooltiptext\">View Company Profile</span></a>\n",
      "<a href=\"/remote-jobs/openmind-ai-senior-python-dev-wanted-ai-focus-1\"><span class=\"company\">OpenMind AI</span><br/><span class=\"title\">Senior Python Dev Wanted (AI Focus)</span><span class=\"date\"><time data-format=\"%b %e\" data-local=\"time\" datetime=\"2024-08-06T20:48:46Z\">Aug 6</time></span><br/><span class=\"company\">Full-Time</span><span>/</span><span class=\"region company\">Anywhere in the World</span></a>\n",
      "<a href=\"/categories/remote-back-end-programming-jobs\">View all 24 Back-End Programming jobs</a>\n",
      "<a class=\"anchor-offset\" id=\"job-listings\">・</a>\n",
      "<a href=\"/categories/all-other-remote-jobs\">All Other Remote Jobs</a>\n",
      "<a href=\"/categories/all-other-remote-jobs.rss\"><img class=\"feed\" height=\"16\" src=\"https://weworkremotely.com/assets/rss-feed-bac611a39b717b45766a28c96e549e1879df2786844a54f9c888ed89d64891a7.svg\" width=\"16\"/></a>\n",
      "<a href=\"/company/g2i-inc\"><span class=\"tooltiptext\">View Company Profile</span></a>\n",
      "<a href=\"/remote-jobs/g2i-inc-software-engineer-for-ai-training-data-python\"><span class=\"company\">G2i Inc.</span><object><a href=\"/top-remote-companies\" style=\"display: inline-block;\"><span class=\"listing-pill\" style=\"background: #dde0f4;\">Top 100</span></a></object><br/><span class=\"title\">Software Engineer for AI Training Data (Python)</span><span class=\"date\"><time data-format=\"%b %e\" data-local=\"time\" datetime=\"2024-08-14T00:53:25Z\">Aug 14</time></span><br/><span class=\"company\">Contract</span><span>/</span><span class=\"region company\">Anywhere in the World</span></a>\n",
      "<a href=\"/top-remote-companies\" style=\"display: inline-block;\"><span class=\"listing-pill\" style=\"background: #dde0f4;\">Top 100</span></a>\n",
      "<a href=\"/categories/all-other-remote-jobs\">View all 55 All Other Remote jobs</a>\n",
      "<a href=\"/cdn-cgi/l/email-protection#6a020f0606052a1d0f1d051801180f07051e0f061344090507\" id=\"contact\">Get in touch <img class=\"paperplane\" src=\"https://weworkremotely.com/assets/paperplane-814cd53ee02cfa703906004965e214c2c78455acfda7e95c156f825cc00df3dd.svg\"/></a>\n",
      "<a href=\"/top-remote-companies\">Top 100 Companies</a>\n",
      "<a href=\"/frequently-asked-questions\">FAQ - Employers</a>\n",
      "<a href=\"https://mailchi.mp/weworkremotely/newsletter\" target=\"_blank\">Newsletter</a>\n",
      "<a href=\"/blog\">Blog</a>\n",
      "<a href=\"/blog-categories/events\" target=\"_blank\">Events</a>\n",
      "<a href=\"/remote-job-rss-feed\">RSS</a>\n",
      "<a href=\"/terms-and-conditions\">Terms</a>\n",
      "<a href=\"/privacy\">Privacy</a>\n",
      "<a href=\"/community-guidelines\">Guidelines</a>\n",
      "<a href=\"/post-a-remote-job\">Why Choose WWR?</a>\n",
      "<a class=\"footer-icons\" href=\"https://www.facebook.com/weworkremotely/?utm_content=footer-network&amp;utm_source=we-work-remotely&amp;utm_campaign=footer-network-fb&amp;utm_medium=footer-network-fb\" target=\"_blank\"><img src=\"https://weworkremotely.com/assets/facebook-531b7d41f88457036d693d70cee1998c8b7b115b52e1781fc4428a9a4f5121b5.svg\"/></a>\n",
      "<a class=\"footer-icons\" href=\"https://www.linkedin.com/company/18527028/?utm_content=footer-network&amp;utm_source=we-work-remotely&amp;utm_campaign=footer-network-linkedin&amp;utm_medium=footer-network-linkedin\" target=\"_blank\"><img src=\"https://weworkremotely.com/assets/linkedin-23a8cd96172f54a738a48100b505c83df01f4b7da7e76da6fecf879c8f04bbc3.svg\"/></a>\n",
      "<a class=\"footer-icons\" href=\"https://www.instagram.com/weworkremotelycom/?hl=en&amp;utm_campaign=footer-network-ig&amp;utm_medium=footer-network-ig\" target=\"_blank\"><img src=\"https://weworkremotely.com/assets/instagram-6c8dd853a0bc5b5deae9f1dddc4c58ada52dbde23142a57a0d466f42661a8af3.svg\"/></a>\n",
      "<a class=\"footer-icons\" href=\"https://twitter.com/weworkremotely/?utm_content=footer-network&amp;utm_source=we-work-remotely&amp;utm_campaign=footer-network-twitter&amp;utm_medium=footer-network-twitter\" target=\"_blank\"><img src=\"https://weworkremotely.com/assets/twitter-80a6bef32a881252b35f7bd488d3f7d3d87a44ff6540b62d4fe44269ff350585.svg\"/></a>\n",
      "<a class=\"footer-icons\" href=\"https://bit.ly/wwrslack2021\" target=\"_blank\"><img src=\"https://weworkremotely.com/assets/slack-4341aece3e5f2e7355d24ea1511138358d2d179930af8a4b589fdc5a4cc66ec7.svg\"/></a>\n",
      "<a href=\"/remote-jobs/new\" id=\"job-cta-alt\">Post a job for $299</a>\n",
      "<a href=\"#\" style=\"color: #FFFFFF;font-size: 1em;\">Back to top ↑</a>\n",
      "<a href=\"/top-remote-companies\">Top 100 Companies</a>\n",
      "<a href=\"/frequently-asked-questions\">FAQ - Employers</a>\n",
      "<a href=\"https://mailchi.mp/weworkremotely/newsletter\" target=\"_blank\">Newsletter</a>\n",
      "<a href=\"/blog\">Blog</a>\n",
      "<a href=\"/blog-categories/events\" target=\"_blank\">Events</a>\n",
      "<a href=\"/remote-job-rss-feed\">RSS</a>\n",
      "<a href=\"/terms-and-conditions\"><span>•</span>Terms</a>\n",
      "<a href=\"/privacy\"><span>•</span>Privacy</a>\n",
      "<a href=\"/community-guidelines\"><span>•</span>Guidelines</a>\n",
      "<a href=\"/post-a-remote-job\"><span>•</span>Why Choose WWR?</a>\n",
      "<a class=\"footer-icons\" href=\"https://www.facebook.com/weworkremotely/?utm_content=footer-network&amp;utm_source=we-work-remotely&amp;utm_campaign=footer-network-fb&amp;utm_medium=footer-network-fb\" target=\"_blank\"><img src=\"https://weworkremotely.com/assets/facebook-531b7d41f88457036d693d70cee1998c8b7b115b52e1781fc4428a9a4f5121b5.svg\"/></a>\n",
      "<a class=\"footer-icons\" href=\"https://www.linkedin.com/company/18527028/?utm_content=footer-network&amp;utm_source=we-work-remotely&amp;utm_campaign=footer-network-linkedin&amp;utm_medium=footer-network-linkedin\" target=\"_blank\"><img src=\"https://weworkremotely.com/assets/linkedin-23a8cd96172f54a738a48100b505c83df01f4b7da7e76da6fecf879c8f04bbc3.svg\"/></a>\n",
      "<a class=\"footer-icons\" href=\"https://www.instagram.com/weworkremotelycom/?hl=en&amp;utm_campaign=footer-network-ig&amp;utm_medium=footer-network-ig\" target=\"_blank\"><img src=\"https://weworkremotely.com/assets/instagram-6c8dd853a0bc5b5deae9f1dddc4c58ada52dbde23142a57a0d466f42661a8af3.svg\"/></a>\n",
      "<a class=\"footer-icons\" href=\"https://twitter.com/weworkremotely/?utm_content=footer-network&amp;utm_source=we-work-remotely&amp;utm_campaign=footer-network-twitter&amp;utm_medium=footer-network-twitter\" target=\"_blank\"><img src=\"https://weworkremotely.com/assets/twitter-80a6bef32a881252b35f7bd488d3f7d3d87a44ff6540b62d4fe44269ff350585.svg\"/></a>\n",
      "<a class=\"footer-icons\" href=\"https://bit.ly/wwrslack2021\" target=\"_blank\"><img src=\"https://weworkremotely.com/assets/slack-4341aece3e5f2e7355d24ea1511138358d2d179930af8a4b589fdc5a4cc66ec7.svg\"/></a>\n"
     ]
    }
   ],
   "source": [
    "jobs = soup.find_all('a')\n",
    "for i in jobs:\n",
    "    try:\n",
    "        i.find('span', class_='company').text"
   ]
  },
  {
   "cell_type": "code",
   "execution_count": 104,
   "id": "fe8a0bdb-44ea-4d40-9aa6-b4d8989f0cf7",
   "metadata": {},
   "outputs": [
    {
     "data": {
      "text/plain": [
       "[]"
      ]
     },
     "execution_count": 104,
     "metadata": {},
     "output_type": "execute_result"
    }
   ],
   "source": [
    "jobs[-3].find_all('li')"
   ]
  },
  {
   "cell_type": "code",
   "execution_count": 86,
   "id": "7dab1464-6732-4c58-9d67-5fd544a9078e",
   "metadata": {},
   "outputs": [
    {
     "ename": "AttributeError",
     "evalue": "'NoneType' object has no attribute 'text'",
     "output_type": "error",
     "traceback": [
      "\u001b[1;31m---------------------------------------------------------------------------\u001b[0m",
      "\u001b[1;31mAttributeError\u001b[0m                            Traceback (most recent call last)",
      "Cell \u001b[1;32mIn[86], line 1\u001b[0m\n\u001b[1;32m----> 1\u001b[0m \u001b[43mjobs\u001b[49m\u001b[43m[\u001b[49m\u001b[38;5;241;43m0\u001b[39;49m\u001b[43m]\u001b[49m\u001b[38;5;241;43m.\u001b[39;49m\u001b[43mfind_all\u001b[49m\u001b[43m(\u001b[49m\u001b[38;5;124;43m'\u001b[39;49m\u001b[38;5;124;43ma\u001b[39;49m\u001b[38;5;124;43m'\u001b[39;49m\u001b[43m)\u001b[49m\u001b[43m[\u001b[49m\u001b[38;5;241;43m1\u001b[39;49m\u001b[43m]\u001b[49m\u001b[38;5;241;43m.\u001b[39;49m\u001b[43mfind\u001b[49m\u001b[43m(\u001b[49m\u001b[38;5;124;43m'\u001b[39;49m\u001b[38;5;124;43mspan\u001b[39;49m\u001b[38;5;124;43m'\u001b[39;49m\u001b[43m,\u001b[49m\u001b[43m \u001b[49m\u001b[43mclass_\u001b[49m\u001b[38;5;241;43m=\u001b[39;49m\u001b[38;5;124;43m'\u001b[39;49m\u001b[38;5;124;43mcompany\u001b[39;49m\u001b[38;5;124;43m'\u001b[39;49m\u001b[43m)\u001b[49m\u001b[38;5;241;43m.\u001b[39;49m\u001b[43mtext\u001b[49m\n",
      "\u001b[1;31mAttributeError\u001b[0m: 'NoneType' object has no attribute 'text'"
     ]
    }
   ],
   "source": [
    "jobs[0].find_all('a')[1].find('span', class_='company').text"
   ]
  },
  {
   "cell_type": "code",
   "execution_count": 74,
   "id": "5c52b63e-71ec-4ccc-826e-6aaaf4adfcff",
   "metadata": {},
   "outputs": [
    {
     "data": {
      "text/plain": [
       "'Senior Full-stack React & Python Developer'"
      ]
     },
     "execution_count": 74,
     "metadata": {},
     "output_type": "execute_result"
    }
   ],
   "source": [
    "jobs[0].find_all('a')[1].find('span', class_='title').text"
   ]
  },
  {
   "cell_type": "code",
   "execution_count": 75,
   "id": "9ca92bbe-daeb-4d53-a68b-760d5929bff1",
   "metadata": {},
   "outputs": [
    {
     "data": {
      "text/plain": [
       "'Latin America Only/Europe Only/UK Only/Canada Only/Asia Only/Oceania Only'"
      ]
     },
     "execution_count": 75,
     "metadata": {},
     "output_type": "execute_result"
    }
   ],
   "source": [
    "jobs[0].find_all('a')[1].find('span', class_='region company').text"
   ]
  },
  {
   "cell_type": "code",
   "execution_count": 12,
   "id": "27d6a554-b9ec-4034-8885-87578abf087b",
   "metadata": {},
   "outputs": [
    {
     "name": "stdout",
     "output_type": "stream",
     "text": [
      "0 0 a\n",
      "0 1 b\n",
      "0 2 c\n",
      "1 0 d\n",
      "1 1 e\n",
      "1 2 f\n",
      "2 0 h\n",
      "2 1 i\n",
      "2 2 j\n"
     ]
    }
   ],
   "source": [
    "b = [\n",
    "    ['a', 'b', 'c',],\n",
    "    ['d', 'e', 'f',],\n",
    "    ['h', 'i', 'j',],\n",
    "]\n",
    "\n",
    "for idx, val in enumerate(b):\n",
    "    for c, v in enumerate(val):\n",
    "        print(idx, c, v)"
   ]
  },
  {
   "cell_type": "code",
   "execution_count": 9,
   "id": "fd4850a5-e3ea-4910-8672-a782aa6ec800",
   "metadata": {},
   "outputs": [
    {
     "name": "stdout",
     "output_type": "stream",
     "text": [
      "equal\n"
     ]
    }
   ],
   "source": [
    "a = 50\n",
    "b = 50\n",
    "min = a if a > b else b if b > a else 'equal'\n",
    "print(min)"
   ]
  },
  {
   "cell_type": "code",
   "execution_count": 10,
   "id": "f02a4093-5afc-4e73-90c2-dddb930637cb",
   "metadata": {},
   "outputs": [
    {
     "name": "stdout",
     "output_type": "stream",
     "text": [
      "[1, 2, 3, 4, 5, Ellipsis, 10000]\n"
     ]
    }
   ],
   "source": [
    "numbers = [1, 2, 3, 4, 5, ... , 10000]\n",
    "print(numbers)"
   ]
  },
  {
   "cell_type": "code",
   "execution_count": 11,
   "id": "57199504-993e-4765-be8f-5bf438707479",
   "metadata": {},
   "outputs": [
    {
     "name": "stdout",
     "output_type": "stream",
     "text": [
      "1\n",
      "2\n",
      "3\n",
      "4\n",
      "5\n",
      "Ellipsis\n",
      "10000\n"
     ]
    }
   ],
   "source": [
    "for i in numbers:\n",
    "    print(i)"
   ]
  },
  {
   "cell_type": "code",
   "execution_count": 14,
   "id": "2898059f-7b6e-42fd-820e-9b98a9a580a7",
   "metadata": {},
   "outputs": [
    {
     "name": "stdout",
     "output_type": "stream",
     "text": [
      "Using os.walk: .\\tocsv.py\n"
     ]
    }
   ],
   "source": [
    "import os\n",
    "root_dir = '.'\n",
    "\n",
    "# using os.walk\n",
    "for dirpath, _, filenames in os.walk(root_dir):\n",
    "    if 'tocsv.py' in filenames:\n",
    "        file_path = os.path.join(dirpath, 'tocsv.py')\n",
    "        print('Using os.walk:', file_path)\n",
    "        break\n",
    "\n"
   ]
  },
  {
   "cell_type": "code",
   "execution_count": 53,
   "id": "8a433f34-971c-448f-8c2a-3aa0fb396000",
   "metadata": {},
   "outputs": [
    {
     "name": "stdout",
     "output_type": "stream",
     "text": [
      "yellow\n"
     ]
    }
   ],
   "source": [
    "def get_color(position): \n",
    "  color_list = ['red', 'orange', 'yellow', 'green', 'blue', 'indigo', 'violet']\n",
    "  print(color_list[position])\n",
    "\n",
    "get_color(2)"
   ]
  },
  {
   "cell_type": "code",
   "execution_count": 16,
   "id": "c4393276-debc-4bc5-bd7a-11926d449e8d",
   "metadata": {},
   "outputs": [],
   "source": [
    "add_two = lambda my_input: my_input + 2"
   ]
  },
  {
   "cell_type": "code",
   "execution_count": 18,
   "id": "b14c9556-4f99-4fde-a116-e977a5249e4a",
   "metadata": {},
   "outputs": [
    {
     "name": "stdout",
     "output_type": "stream",
     "text": [
      "102\n"
     ]
    }
   ],
   "source": [
    "print(add_two(100))"
   ]
  },
  {
   "cell_type": "code",
   "execution_count": 19,
   "id": "f7b9ff33-389d-4487-b800-b4764ea452f8",
   "metadata": {},
   "outputs": [
    {
     "name": "stdout",
     "output_type": "stream",
     "text": [
      "Chase!\n"
     ]
    }
   ],
   "source": [
    "add_bang = lambda my_input: print(my_input + '!')"
   ]
  },
  {
   "cell_type": "code",
   "execution_count": 20,
   "id": "b9ea88bb-270e-4ef6-9a1b-fb33afc59a38",
   "metadata": {},
   "outputs": [],
   "source": [
    "check_if_A_grade = lambda grade: \"Got an A!\" if grade >= 90 else \"Did not get an A!\""
   ]
  },
  {
   "cell_type": "code",
   "execution_count": 22,
   "id": "0173ab67-a49d-438a-b2d9-4e12505d33ca",
   "metadata": {},
   "outputs": [
    {
     "name": "stdout",
     "output_type": "stream",
     "text": [
      "Got an A!\n",
      "Did not get an A!\n",
      "Did not get an A!\n"
     ]
    }
   ],
   "source": [
    "print(check_if_A_grade(95))\n",
    "print(check_if_A_grade(77))\n",
    "print(check_if_A_grade(89))"
   ]
  },
  {
   "cell_type": "code",
   "execution_count": 26,
   "id": "f3a5b92a-abd7-4530-96c4-415864c45df4",
   "metadata": {},
   "outputs": [
    {
     "name": "stdout",
     "output_type": "stream",
     "text": [
      "The total amount owed is $106.00. Thank you :)\n",
      "The total amount owed is $120.00. Thank you :)\n"
     ]
    }
   ],
   "source": [
    "def total_bill(func, value):\n",
    "    total = func(value)\n",
    "    return (\"The total amount owed is $\" + \"{:.2f}\".format(total) + \". Thank you :)\")\n",
    "\n",
    "def add_tax(total):\n",
    "    tax = total * 0.06\n",
    "    new_total = total + tax\n",
    "    \n",
    "    return new_total\n",
    "\n",
    "def add_tip(total):\n",
    "    tip = total * .2\n",
    "    new_total = total + tip\n",
    "\n",
    "    return new_total\n",
    "\n",
    "print(total_bill(add_tax, 100))\n",
    "print(total_bill(add_tip, 100))"
   ]
  },
  {
   "cell_type": "code",
   "execution_count": 28,
   "id": "95fabfd9-4bad-4713-aa85-e42ef4296d45",
   "metadata": {},
   "outputs": [],
   "source": [
    "def total_bills(func, bills):\n",
    "    new_bills = []\n",
    "\n",
    "    for i in bills:\n",
    "        total = func(i)\n",
    "        new_bills.append(\"Total amount owed is $\" + \"{:.2f}\".format(total) + \". Thank you! :)\")\n",
    "\n",
    "    return new_bills\n"
   ]
  },
  {
   "cell_type": "code",
   "execution_count": 29,
   "id": "9fb7dfd5-256b-4af0-af8e-52956de2ac22",
   "metadata": {},
   "outputs": [
    {
     "name": "stdout",
     "output_type": "stream",
     "text": [
      "['Total amount owed is $121.90. Thank you! :)', 'Total amount owed is $127.20. Thank you! :)', 'Total amount owed is $44.52. Thank you! :)']\n"
     ]
    }
   ],
   "source": [
    "bills = [115, 120, 42]\n",
    "bills_w_tax = total_bills(add_tax, bills)\n",
    "print(bills_w_tax)"
   ]
  },
  {
   "cell_type": "code",
   "execution_count": 30,
   "id": "93b3ac73-7578-4a10-a380-e9f824d9f66d",
   "metadata": {},
   "outputs": [
    {
     "name": "stdout",
     "output_type": "stream",
     "text": [
      "['Total amount owed is $138.00. Thank you! :)', 'Total amount owed is $144.00. Thank you! :)', 'Total amount owed is $50.40. Thank you! :)']\n"
     ]
    }
   ],
   "source": [
    "bills_w_tip = total_bills(add_tip, bills)\n",
    "print(bills_w_tip)"
   ]
  },
  {
   "cell_type": "code",
   "execution_count": 31,
   "id": "f23b0086-ebc3-42b1-a8b7-626c00ba0952",
   "metadata": {},
   "outputs": [
    {
     "data": {
      "text/plain": [
       "90"
      ]
     },
     "execution_count": 31,
     "metadata": {},
     "output_type": "execute_result"
    }
   ],
   "source": [
    "def make_box_volume_function(height):\n",
    "    def volume(length, width):\n",
    "        return length * width * height\n",
    "\n",
    "    return volume\n",
    "\n",
    "\n",
    "box_volume_height15 = make_box_volume_function(15)\n",
    "box_volume_height15(2,3)"
   ]
  },
  {
   "cell_type": "code",
   "execution_count": 34,
   "id": "6597bcad-3d25-4a83-bf31-e23ce4079f06",
   "metadata": {},
   "outputs": [
    {
     "name": "stdout",
     "output_type": "stream",
     "text": [
      "[6, 12, 18]\n"
     ]
    }
   ],
   "source": [
    "# map()\n",
    "\n",
    "def double(x):\n",
    "    return x*2\n",
    "\n",
    "int_list = [3, 6, 9]\n",
    "\n",
    "doubled = map(double, int_list)\n",
    "print(list(doubled))"
   ]
  },
  {
   "cell_type": "code",
   "execution_count": 36,
   "id": "397af592-700f-4789-b75b-496a49d7db1f",
   "metadata": {},
   "outputs": [
    {
     "name": "stdout",
     "output_type": "stream",
     "text": [
      "[12, 16, 20]\n"
     ]
    }
   ],
   "source": [
    "# lambda version\n",
    "int_list2 = [6, 8, 10,]\n",
    "\n",
    "doubled = map(lambda input: input * 2, int_list2)\n",
    "print(list(doubled))"
   ]
  },
  {
   "cell_type": "code",
   "execution_count": 37,
   "id": "335c2056-f8f8-4ab0-90be-4aec8d2808c5",
   "metadata": {},
   "outputs": [
    {
     "name": "stdout",
     "output_type": "stream",
     "text": [
      "[87.5, 75, 7, 65.0, 95, 87]\n"
     ]
    }
   ],
   "source": [
    "# lambda case 2\n",
    "grade_list = [3.5, 3,7, 2.6, 95, 87]\n",
    "\n",
    "grades_100scale = map(\n",
    "    lambda input: input * 25 if input <= 4\n",
    "    else input,\n",
    "    grade_list\n",
    ")\n",
    "\n",
    "print(list(grades_100scale))"
   ]
  },
  {
   "cell_type": "code",
   "execution_count": 38,
   "id": "146d0178-f970-49ec-888f-697cebc66638",
   "metadata": {},
   "outputs": [
    {
     "name": "stdout",
     "output_type": "stream",
     "text": [
      "['margarita', 'Masako', 'Maki']\n"
     ]
    }
   ],
   "source": [
    "# filter function\n",
    "names = [\n",
    "    \"margarita\",\n",
    "    \"Linda\",\n",
    "    \"Masako\",\n",
    "    \"Maki\",\n",
    "    \"Angela\",\n",
    "]\n",
    "\n",
    "M_names = filter(lambda name: name[0] == 'M' or name[0] == 'm', names)\n",
    "print(list(M_names))"
   ]
  },
  {
   "cell_type": "code",
   "execution_count": 47,
   "id": "5092e3bc-c3ab-4bfa-ae94-b333014b6958",
   "metadata": {},
   "outputs": [
    {
     "name": "stdout",
     "output_type": "stream",
     "text": [
      "[['Orwell', 'Nineteen Eighty-four'], ['Murakami', '1Q85'], ['Burgess', 'Nineteen Eighty-five']]\n"
     ]
    }
   ],
   "source": [
    "books = [[\"Burgess\", 1985],\n",
    " [\"Orwell\", \"Nineteen Eighty-four\"],\n",
    "  [\"Murakami\", \"1Q85\"],\n",
    "   [\"Orwell\", 1984],\n",
    "    [\"Burgess\", \"Nineteen Eighty-five\"],\n",
    "     [\"Murakami\", 1985]]\n",
    "\n",
    "# Your code below: \n",
    "\n",
    "# assign the result of your filter function to the variable  string_titles\n",
    "string_titles = filter(lambda book: isinstance(book[1], str), books)\n",
    "# string_titles = filter(lambda book: isinstance(book[1], str), books)\n",
    "# convert your filter object to a list stored in the variable string_titles_list\n",
    "string_titles_list = list(string_titles)\n",
    "\n",
    "# print the list string_titles_list\n",
    "print(string_titles_list)"
   ]
  },
  {
   "cell_type": "code",
   "execution_count": 44,
   "id": "5d4e19af-ed38-41ec-bc5c-8c86e964c5c9",
   "metadata": {},
   "outputs": [
    {
     "name": "stdout",
     "output_type": "stream",
     "text": [
      "a is str\n"
     ]
    }
   ],
   "source": [
    "a = ['aaaa', 'bbb']\n",
    "if isinstance(a[1], str):\n",
    "    print(\"a is str\")"
   ]
  },
  {
   "cell_type": "code",
   "execution_count": 48,
   "id": "602f104f-22af-472b-a358-83e6c65903ec",
   "metadata": {},
   "outputs": [
    {
     "name": "stdout",
     "output_type": "stream",
     "text": [
      "How are you? Chase\n",
      "How are you? Merri\n",
      "How are you? Triss\n",
      "How are you? Luke\n"
     ]
    }
   ],
   "source": [
    "# case of map with lambda\n",
    "names = [\n",
    "    'Chase',\n",
    "    'Merri',\n",
    "    'Triss',\n",
    "    'Luke',\n",
    "]\n",
    "\n",
    "greetings = map(lambda name: 'How are you? ' + name, names)\n",
    "\n",
    "for _, val in enumerate(greetings):\n",
    "    print(val)"
   ]
  },
  {
   "cell_type": "code",
   "execution_count": 49,
   "id": "874e0b83-69e4-43d8-97a8-7d8b952f24f0",
   "metadata": {},
   "outputs": [
    {
     "name": "stdout",
     "output_type": "stream",
     "text": [
      "['Hi, Admin, Chase', 'How are you\" Merri', 'How are you\" Triss', 'How are you\" Luke']\n"
     ]
    }
   ],
   "source": [
    "# case of map with conditionals\n",
    "new_greetings = map(\n",
    "    lambda name: 'How are you\" ' + name \n",
    "    if name != 'Chase' else 'Hi, Admin, ' + name, names\n",
    ")\n",
    "\n",
    "print(list(new_greetings))"
   ]
  },
  {
   "cell_type": "code",
   "execution_count": 50,
   "id": "f108235c-ffa5-4247-8cb6-610d3fb5b00f",
   "metadata": {},
   "outputs": [
    {
     "name": "stdout",
     "output_type": "stream",
     "text": [
      "[1, 3, 5, 7, 9, 11, 13, 15, 17, 19, 21, 23, 25, 27, 29, 31, 33, 35, 37, 39, 41, 43, 45, 47, 49, 51, 53, 55, 57, 59, 61, 63, 65, 67, 69, 71, 73, 75, 77, 79, 81, 83, 85, 87, 89, 91, 93, 95, 97, 99, 101, 103, 105, 107, 109, 111, 113, 115, 117, 119, 121, 123, 125, 127, 129, 131, 133, 135, 137, 139, 141, 143, 145, 147, 149, 151, 153, 155, 157, 159, 161, 163, 165, 167, 169, 171, 173, 175, 177, 179, 181, 183, 185, 187, 189, 191, 193, 195, 197, 199, 201, 203, 205, 207, 209, 211, 213, 215, 217, 219, 221, 223, 225, 227, 229, 231, 233, 235, 237, 239, 241, 243, 245, 247, 249, 251, 253, 255, 257, 259, 261, 263, 265, 267, 269, 271, 273, 275, 277, 279, 281, 283, 285, 287, 289, 291, 293, 295, 297, 299, 301, 303, 305, 307, 309, 311, 313, 315, 317, 319, 321, 323, 325, 327, 329, 331, 333, 335, 337, 339, 341, 343, 345, 347, 349, 351, 353, 355, 357, 359, 361, 363, 365, 367, 369, 371, 373, 375, 377, 379, 381, 383, 385, 387, 389, 391, 393, 395, 397, 399, 401, 403, 405, 407, 409, 411, 413, 415, 417, 419, 421, 423, 425, 427, 429, 431, 433, 435, 437, 439, 441, 443, 445, 447, 449, 451, 453, 455, 457, 459, 461, 463, 465, 467, 469, 471, 473, 475, 477, 479, 481, 483, 485, 487, 489, 491, 493, 495, 497, 499, 501, 503, 505, 507, 509, 511, 513, 515, 517, 519, 521, 523, 525, 527, 529, 531, 533, 535, 537, 539, 541, 543, 545, 547, 549, 551, 553, 555, 557, 559, 561, 563, 565, 567, 569, 571, 573, 575, 577, 579, 581, 583, 585, 587, 589, 591, 593, 595, 597, 599, 601, 603, 605, 607, 609, 611, 613, 615, 617, 619, 621, 623, 625, 627, 629, 631, 633, 635, 637, 639, 641, 643, 645, 647, 649, 651, 653, 655, 657, 659, 661, 663, 665, 667, 669, 671, 673, 675, 677, 679, 681, 683, 685, 687, 689, 691, 693, 695, 697, 699, 701, 703, 705, 707, 709, 711, 713, 715, 717, 719, 721, 723, 725, 727, 729, 731, 733, 735, 737, 739, 741, 743, 745, 747, 749, 751, 753, 755, 757, 759, 761, 763, 765, 767, 769, 771, 773, 775, 777, 779, 781, 783, 785, 787, 789, 791, 793, 795, 797, 799, 801, 803, 805, 807, 809, 811, 813, 815, 817, 819, 821, 823, 825, 827, 829, 831, 833, 835, 837, 839, 841, 843, 845, 847, 849, 851, 853, 855, 857, 859, 861, 863, 865, 867, 869, 871, 873, 875, 877, 879, 881, 883, 885, 887, 889, 891, 893, 895, 897, 899, 901, 903, 905, 907, 909, 911, 913, 915, 917, 919, 921, 923, 925, 927, 929, 931, 933, 935, 937, 939, 941, 943, 945, 947, 949, 951, 953, 955, 957, 959, 961, 963, 965, 967, 969, 971, 973, 975, 977, 979, 981, 983, 985, 987, 989, 991, 993, 995, 997, 999]\n"
     ]
    }
   ],
   "source": [
    "numbers = list(range(1, 1000))\n",
    "odd_nums = filter(lambda number: number % 2 != 0, numbers)\n",
    "print(list(odd_nums))"
   ]
  },
  {
   "cell_type": "code",
   "execution_count": 51,
   "id": "5373c406-4700-41e3-9cae-448e5f67f69d",
   "metadata": {},
   "outputs": [
    {
     "name": "stdout",
     "output_type": "stream",
     "text": [
      "1944\n"
     ]
    }
   ],
   "source": [
    "# reduce\n",
    "from functools import reduce\n",
    "int_list = [3, 6, 9, 12]\n",
    "\n",
    "reduced_int_list = reduce(lambda x,y: x*y, int_list)\n",
    "print(reduced_int_list)"
   ]
  },
  {
   "cell_type": "code",
   "execution_count": 52,
   "id": "f4999f32-8b14-4362-b28b-4572285a6239",
   "metadata": {},
   "outputs": [
    {
     "name": "stdout",
     "output_type": "stream",
     "text": [
      "reduce\n"
     ]
    }
   ],
   "source": [
    "from functools import reduce\n",
    "\n",
    "letters = ['r', 'e', 'd', 'u', 'c', 'e']\n",
    "\n",
    "word = reduce(lambda x, y: x+y, letters)\n",
    "print(word)"
   ]
  },
  {
   "cell_type": "code",
   "execution_count": null,
   "id": "3541de67-c125-43e0-9a12-9547ee86ef40",
   "metadata": {},
   "outputs": [],
   "source": []
  }
 ],
 "metadata": {
  "kernelspec": {
   "display_name": "Python 3 (ipykernel)",
   "language": "python",
   "name": "python3"
  },
  "language_info": {
   "codemirror_mode": {
    "name": "ipython",
    "version": 3
   },
   "file_extension": ".py",
   "mimetype": "text/x-python",
   "name": "python",
   "nbconvert_exporter": "python",
   "pygments_lexer": "ipython3",
   "version": "3.12.4"
  }
 },
 "nbformat": 4,
 "nbformat_minor": 5
}
