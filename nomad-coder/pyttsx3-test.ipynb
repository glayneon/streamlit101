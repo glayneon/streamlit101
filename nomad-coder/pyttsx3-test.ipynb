{
 "cells": [
  {
   "cell_type": "code",
   "execution_count": 1,
   "id": "287ad186-5311-446c-a8d1-d09addbbfd97",
   "metadata": {},
   "outputs": [
    {
     "name": "stdout",
     "output_type": "stream",
     "text": [
      "Requirement already satisfied: pyttsx3 in c:\\users\\chase\\pylab\\nomad_coder\\lib\\site-packages (2.91)\n",
      "Requirement already satisfied: comtypes in c:\\users\\chase\\pylab\\nomad_coder\\lib\\site-packages (from pyttsx3) (1.4.6)\n",
      "Requirement already satisfied: pypiwin32 in c:\\users\\chase\\pylab\\nomad_coder\\lib\\site-packages (from pyttsx3) (223)\n",
      "Requirement already satisfied: pywin32 in c:\\users\\chase\\pylab\\nomad_coder\\lib\\site-packages (from pyttsx3) (306)\n",
      "Requirement already satisfied: PyPDF2 in c:\\users\\chase\\pylab\\nomad_coder\\lib\\site-packages (3.0.1)\n"
     ]
    }
   ],
   "source": [
    "!pip install pyttsx3\n",
    "!pip install PyPDF2"
   ]
  },
  {
   "cell_type": "code",
   "execution_count": null,
   "id": "d37437b3-4a8c-49e5-ba92-a41ccb793cbf",
   "metadata": {},
   "outputs": [],
   "source": [
    "import PyPDF2\n",
    "import pyttsx3\n",
    "\n",
    "# Open the PDF file (Enter Path To Your PDF)\n",
    "file = open('Handbook_Python_Final.pdf', 'rb')\n",
    "readpdf = PyPDF2.PdfReader(file)\n",
    "\n",
    "# Initialize text-to-speech engine\n",
    "speaker = pyttsx3.init()\n",
    "rate = speaker.getProperty('rate')   # Get current speaking rate\n",
    "speaker.setProperty('rate', 200)\n",
    "\n",
    "volume = speaker.getProperty('volume')\n",
    "speaker.setProperty('volume', 1)  # Set volume level (0.0 to 1.0)\n",
    "\n",
    "# Get and set a different voice\n",
    "voices = speaker.getProperty('voices')\n",
    "for voice in voices:\n",
    "    if \"english\" in voice.name.lower() and \"us\" in voice.name.lower():\n",
    "        speaker.setProperty('voice', voice.id)\n",
    "        break\n",
    "# Iterate over each page in the PDF\n",
    "for pagenumber in range(len(readpdf.pages)):\n",
    "    # Extract text from the page\n",
    "    page = readpdf.pages[pagenumber]\n",
    "    text = page.extract_text()\n",
    "    \n",
    "    # Use the speaker to read the text\n",
    "    # speaker.say(text)\n",
    "    # speaker.runAndWait()\n",
    "\n",
    "# Save the last extracted text to an audio file (if needed)\n",
    "speaker.save_to_file(text, 'story.mp3')\n",
    "speaker.runAndWait()\n",
    "\n",
    "# Stop the speaker\n",
    "speaker.stop()\n",
    "\n",
    "# Close the PDF file\n",
    "file.close()"
   ]
  },
  {
   "cell_type": "code",
   "execution_count": 7,
   "id": "51105e57-651f-4455-afa4-7989cf8e6ab8",
   "metadata": {},
   "outputs": [],
   "source": [
    "import pyttsx3\n",
    "import PyPDF2"
   ]
  },
  {
   "cell_type": "code",
   "execution_count": 3,
   "id": "c652f1f1-2734-44df-af7c-7f75a01a6ddc",
   "metadata": {},
   "outputs": [],
   "source": [
    "speaker = pyttsx3.init()\n",
    "speaker.setProperty('rate', 200)\n",
    "speaker.setProperty('volume', 1)\n",
    "voices = speaker.getProperty('voices')"
   ]
  },
  {
   "cell_type": "code",
   "execution_count": 5,
   "id": "0c473c76-438c-40c8-9a57-5f52ffd27909",
   "metadata": {},
   "outputs": [],
   "source": [
    "for voice in voices:\n",
    "    if 'korean' in voice.name.lower() and 'us' in voice.name.lower():\n",
    "        speaker.setProperty('voice', voice.id)\n",
    "        break"
   ]
  },
  {
   "cell_type": "code",
   "execution_count": 8,
   "id": "c7da872f-c0b3-4235-acc8-0ab129bf30d1",
   "metadata": {},
   "outputs": [],
   "source": [
    "file = open('Handbook_Python_Final.pdf', 'rb')\n",
    "readpdf = PyPDF2.PdfReader(file)"
   ]
  },
  {
   "cell_type": "code",
   "execution_count": 14,
   "id": "f417f311-3d16-4dcf-8834-7e4831ee6b7f",
   "metadata": {},
   "outputs": [],
   "source": [
    "for pagenumber in range(len(readpdf.pages)):\n",
    "    # Extract text from the page\n",
    "    page = readpdf.pages[pagenumber]\n",
    "    text = page.extract_text()"
   ]
  },
  {
   "cell_type": "code",
   "execution_count": 15,
   "id": "db7facd1-a0f7-49d3-860c-04e01d1e1d20",
   "metadata": {},
   "outputs": [
    {
     "data": {
      "text/plain": [
       "'파이썬 라이브러리Selena 강사님\\nSelena 파이썬 라이브러리116“Selena’s Comment!” 우!와! 수강생 여러분!!! 드디어 완강입니다!!! 정말 고생 많으셨어요. 진정한 승자는 바로 완강한 여러분입니다! Selena 강의를 믿고 끝까지 들어주셔서 감사합니다. 최종 복습하면서 그동안 했던 내용들 살펴보세요~! 복습하시면서 헷갈리는 내용은 꼭 질문해 주세요.  그동안 감사했습니다!!! 다른 강의에서 또 만나요♥'"
      ]
     },
     "execution_count": 15,
     "metadata": {},
     "output_type": "execute_result"
    }
   ],
   "source": [
    "# text = page.extract_text()\n",
    "text"
   ]
  },
  {
   "cell_type": "code",
   "execution_count": 12,
   "id": "3e2afef6-816a-488d-bef0-ca3069a1c2f4",
   "metadata": {},
   "outputs": [],
   "source": [
    "speaker.say(text)"
   ]
  },
  {
   "cell_type": "code",
   "execution_count": 13,
   "id": "aa6a6d88-78a5-410e-b87b-4b5d219297dc",
   "metadata": {},
   "outputs": [],
   "source": [
    "speaker.runAndWait()"
   ]
  },
  {
   "cell_type": "code",
   "execution_count": null,
   "id": "09b29412-eed2-44b3-9650-5a8d455dde00",
   "metadata": {},
   "outputs": [],
   "source": []
  }
 ],
 "metadata": {
  "kernelspec": {
   "display_name": "Python 3 (ipykernel)",
   "language": "python",
   "name": "python3"
  },
  "language_info": {
   "codemirror_mode": {
    "name": "ipython",
    "version": 3
   },
   "file_extension": ".py",
   "mimetype": "text/x-python",
   "name": "python",
   "nbconvert_exporter": "python",
   "pygments_lexer": "ipython3",
   "version": "3.12.4"
  }
 },
 "nbformat": 4,
 "nbformat_minor": 5
}
