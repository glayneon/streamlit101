{
 "cells": [
  {
   "cell_type": "code",
   "execution_count": 4,
   "id": "8deca83f-fd4f-4aeb-a351-47ff026bd868",
   "metadata": {},
   "outputs": [
    {
     "name": "stdout",
     "output_type": "stream",
     "text": [
      "Title: The Godfather\n",
      "Overview: Spanning the years 1945 to 1955, a chronicle of the fictional Italian-American Corleone crime family. When organized crime family patriarch, Vito Corleone barely survives an attempt on his life, his youngest son, Michael steps in to take care of the would-be killers, launching a campaign of bloody revenge.\n",
      "Vote_average: 8.691\n",
      "\n",
      "Title: Pulp Fiction\n",
      "Overview: A burger-loving hit man, his philosophical partner, a drug-addled gangster's moll and a washed-up boxer converge in this sprawling, comedic crime caper. Their adventures unfurl in three stories that ingeniously trip back and forth in time.\n",
      "Vote_average: 8.487\n",
      "\n",
      "Title: Fight Club\n",
      "Overview: A ticking-time-bomb insomniac and a slippery soap salesman channel primal male aggression into a shocking new form of therapy. Their concept catches on, with underground \"fight clubs\" forming in every town, until an eccentric gets in the way and ignites an out-of-control spiral toward oblivion.\n",
      "Vote_average: 8.439\n",
      "\n",
      "Title: A Clockwork Orange\n",
      "Overview: In a near-future Britain, young Alexander DeLarge and his pals get their kicks beating and raping anyone they please. When not destroying the lives of others, Alex swoons to the music of Beethoven. The state, eager to crack down on juvenile crime, gives an incarcerated Alex the option to undergo an invasive procedure that'll rob him of all personal agency. In a time when conscience is a commodity, can Alex change his tune?\n",
      "Vote_average: 8.2\n",
      "\n",
      "Title: Requiem for a Dream\n",
      "Overview: The drug-induced utopias of four Coney Island residents are shattered when their addictions run deep.\n",
      "Vote_average: 8.018\n",
      "\n",
      "Title: Free Solo\n",
      "Overview: Follow Alex Honnold as he attempts to become the first person to ever free solo climb Yosemite's 3,000 foot high El Capitan wall. With no ropes or safety gear, this would arguably be the greatest feat in rock climbing history.\n",
      "Vote_average: 7.9\n",
      "\n",
      "Title: Dallas Buyers Club\n",
      "Overview: Loosely based on the true-life tale of Ron Woodroof, a drug-taking, women-loving, homophobic man who in 1986 was diagnosed with HIV/AIDS and given thirty days to live.\n",
      "Vote_average: 7.9\n",
      "\n",
      "Title: The Grand Budapest Hotel\n",
      "Overview: The Grand Budapest Hotel tells of a legendary concierge at a famous European hotel between the wars and his friendship with a young employee who becomes his trusted protégé. The story involves the theft and recovery of a priceless Renaissance painting, the battle for an enormous family fortune and the slow and then sudden upheavals that transformed Europe during the first half of the 20th century.\n",
      "Vote_average: 8.049\n",
      "\n",
      "Title: Oppenheimer\n",
      "Overview: The story of J. Robert Oppenheimer's role in the development of the atomic bomb during World War II.\n",
      "Vote_average: 8.095\n",
      "\n",
      "Title: Society of the Snow\n",
      "Overview: On October 13, 1972, Uruguayan Air Force Flight 571, chartered to take a rugby team to Chile, crashes into a glacier in the heart of the Andes.\n",
      "Vote_average: 8.051\n",
      "\n",
      "Title: The Holdovers\n",
      "Overview: A curmudgeonly instructor at a New England prep school is forced to remain on campus during Christmas break to babysit the handful of students with nowhere to go. Eventually, he forms an unlikely bond with one of them — a damaged, brainy troublemaker — and with the school’s head cook, who has just lost a son in Vietnam.\n",
      "Vote_average: 7.717\n",
      "\n"
     ]
    }
   ],
   "source": [
    "import requests\n",
    "\n",
    "movie_ids = [\n",
    "    238, 680, 550, 185, 641, 515042, 152532, 120467, 872585, 906126, 840430\n",
    "]\n",
    "\n",
    "url =  'https://nomad-movies.nomadcoders.workers.dev/movies/XXXX'\n",
    "\n",
    "\n",
    "def movie_info(keyword, url=url):\n",
    "    url = url.replace('XXXX', keyword)\n",
    "    response = requests.get(url)\n",
    "    movie_json = response.json()\n",
    "\n",
    "    return movie_json\n",
    "\n",
    "\n",
    "# main\n",
    "for movie_num in movie_ids:\n",
    "    movie_data = movie_info(str(movie_num))\n",
    "    print(f\"Title: {movie_data['title']}\")\n",
    "    print(f\"Overview: {movie_data['overview']}\")\n",
    "    print(f\"Vote_average: {movie_data['vote_average']}\\n\")\n"
   ]
  },
  {
   "cell_type": "code",
   "execution_count": null,
   "id": "883935ab-55fc-4823-8e09-ad44dc28fad1",
   "metadata": {},
   "outputs": [],
   "source": []
  }
 ],
 "metadata": {
  "kernelspec": {
   "display_name": "Python 3 (ipykernel)",
   "language": "python",
   "name": "python3"
  },
  "language_info": {
   "codemirror_mode": {
    "name": "ipython",
    "version": 3
   },
   "file_extension": ".py",
   "mimetype": "text/x-python",
   "name": "python",
   "nbconvert_exporter": "python",
   "pygments_lexer": "ipython3",
   "version": "3.12.4"
  }
 },
 "nbformat": 4,
 "nbformat_minor": 5
}
